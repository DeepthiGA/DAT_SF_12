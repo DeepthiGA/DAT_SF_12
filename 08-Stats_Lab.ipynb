{
 "metadata": {
  "name": "",
<<<<<<< HEAD
  "signature": "sha256:daacc029bc9c0bf313b9bba9b1b31eba0701a0c529cf1a7911adf2633fe8e8d8"
=======
  "signature": "sha256:ea44b366ac3da46b592950eac76c3c7d6a27fe56e61ca7614aecfd21488c5a25"
>>>>>>> 614f5817a6aae7dc1f97ddb3bcabd660284af944
 },
 "nbformat": 3,
 "nbformat_minor": 0,
 "worksheets": [
  {
   "cells": [
    {
     "cell_type": "markdown",
     "metadata": {
      "slideshow": {
       "slide_type": "slide"
      }
     },
     "source": [
      "Lab\n",
      "===================\n",
      "Probability and Statistics\n",
      "-------------------\n",
      "Alessandro D. Gagliardi"
     ]
    },
    {
     "cell_type": "markdown",
     "metadata": {
      "slideshow": {
       "slide_type": "slide"
      }
     },
     "source": [
      "On Groundhog Day, February 2, a famous groundhog in Punxsutawney, PA is used to predict whether a winter will be long or not based on whether or not he sees his shadow. [Jonathan Taylor](http://statweb.stanford.edu/~jtaylo/) collected data on whether he saw his shadow or not from [here](http://www.stormfax.com/ghogday.htm). He stored some of this data in this [table](http://stats191.stanford.edu/data/groundhog.table).\n",
      "\n",
      "Although Phil is on the East Coast,\n",
      "Taylor wondered if the information says anything about whether or not we will experience\n",
      "a rainy winter out here in California. For this, he found rainfall data, and saved it in a \n",
      "[table](http://stats191.stanford.edu/data/rainfall.csv). To see how this was extracted\n",
      "see this [notebook](http://nbviewer.ipython.org/url/www.stanford.edu/class/stats191/notebooks/Rainfall%20data.ipynb).\n",
      "\n",
      "1. Make a boxplot of the average rainfall in Northen California comparing the years Phil sees his shadow versus the years he does not.\n",
      "\n",
      "2. Construct a 90% confidence interval for the difference between the mean rainfall in years Phil sees his shadow and years he does not.\n",
      "\n",
      "3. Interpret the interval in part 2.\n",
      "\n",
      "4. At level, $\\alpha = 0.05$ would you reject the null hypothesis that the average rainfall in Northern California during the month of February was the same in years Phil sees his shadow versus years he does not?\n",
      "\n",
      "5. What assumptions are you making in forming your confidence interval and in your hypothesis test?"
     ]
    },
    {
     "cell_type": "code",
     "collapsed": false,
     "input": [
      "%matplotlib inline\n",
      "import os\n",
      "import matplotlib.pyplot as plt\n",
      "import numpy as np\n",
      "import pandas as pd\n",
      "import statsmodels.api as sm\n",
      "import twitter\n",
      "import yaml\n",
      "from pymongo import MongoClient"
     ],
     "language": "python",
     "metadata": {
      "slideshow": {
       "slide_type": "subslide"
      }
     },
     "outputs": [],
     "prompt_number": 1
    },
    {
     "cell_type": "markdown",
     "metadata": {
      "slideshow": {
       "slide_type": "slide"
      }
     },
     "source": [
      "Part 1\n",
      "------"
     ]
    },
    {
     "cell_type": "code",
     "collapsed": false,
     "input": [
      "rainfall = pd.read_csv('http://stats191.stanford.edu/data/rainfall.csv')\n",
      "groundhog = pd.read_csv('http://stats191.stanford.edu/data/groundhog.table')"
     ],
     "language": "python",
     "metadata": {
      "slideshow": {
       "slide_type": "fragment"
      }
     },
     "outputs": [],
     "prompt_number": 2
<<<<<<< HEAD
=======
    },
    {
     "cell_type": "code",
     "collapsed": false,
     "input": [
      "rainfall.head()"
     ],
     "language": "python",
     "metadata": {},
     "outputs": [
      {
       "html": [
        "<div style=\"max-height:1000px;max-width:1500px;overflow:auto;\">\n",
        "<table border=\"1\" class=\"dataframe\">\n",
        "  <thead>\n",
        "    <tr style=\"text-align: right;\">\n",
        "      <th></th>\n",
        "      <th>WY</th>\n",
        "      <th>Oct</th>\n",
        "      <th>Nov</th>\n",
        "      <th>Dec</th>\n",
        "      <th>Jan</th>\n",
        "      <th>Feb</th>\n",
        "      <th>Mar</th>\n",
        "      <th>Apr</th>\n",
        "      <th>May</th>\n",
        "      <th>Jun</th>\n",
        "      <th>Jul</th>\n",
        "      <th>Aug</th>\n",
        "      <th>Sep</th>\n",
        "      <th>Total</th>\n",
        "    </tr>\n",
        "  </thead>\n",
        "  <tbody>\n",
        "    <tr>\n",
        "      <th>0</th>\n",
        "      <td> 1921</td>\n",
        "      <td> 5.25</td>\n",
        "      <td> 12.38</td>\n",
        "      <td> 11.52</td>\n",
        "      <td> 13.12</td>\n",
        "      <td>  3.76</td>\n",
        "      <td> 5.30</td>\n",
        "      <td> 0.94</td>\n",
        "      <td> 3.05</td>\n",
        "      <td> 0.65</td>\n",
        "      <td> 0.00</td>\n",
        "      <td> 0.00</td>\n",
        "      <td> 0.02</td>\n",
        "      <td> 55.99</td>\n",
        "    </tr>\n",
        "    <tr>\n",
        "      <th>1</th>\n",
        "      <td> 1922</td>\n",
        "      <td> 1.39</td>\n",
        "      <td>  3.16</td>\n",
        "      <td> 11.22</td>\n",
        "      <td>  3.21</td>\n",
        "      <td> 14.42</td>\n",
        "      <td> 8.37</td>\n",
        "      <td> 1.58</td>\n",
        "      <td> 2.22</td>\n",
        "      <td> 0.98</td>\n",
        "      <td> 0.14</td>\n",
        "      <td> 0.08</td>\n",
        "      <td> 0.01</td>\n",
        "      <td> 46.78</td>\n",
        "    </tr>\n",
        "    <tr>\n",
        "      <th>2</th>\n",
        "      <td> 1923</td>\n",
        "      <td> 3.59</td>\n",
        "      <td>  6.01</td>\n",
        "      <td> 11.79</td>\n",
        "      <td>  5.95</td>\n",
        "      <td>  1.93</td>\n",
        "      <td> 0.49</td>\n",
        "      <td> 6.86</td>\n",
        "      <td> 0.93</td>\n",
        "      <td> 2.09</td>\n",
        "      <td> 0.20</td>\n",
        "      <td> 0.40</td>\n",
        "      <td> 2.75</td>\n",
        "      <td> 42.99</td>\n",
        "    </tr>\n",
        "    <tr>\n",
        "      <th>3</th>\n",
        "      <td> 1924</td>\n",
        "      <td> 2.15</td>\n",
        "      <td>  0.46</td>\n",
        "      <td>  2.77</td>\n",
        "      <td>  3.55</td>\n",
        "      <td>  3.94</td>\n",
        "      <td> 2.67</td>\n",
        "      <td> 0.89</td>\n",
        "      <td> 0.05</td>\n",
        "      <td> 0.08</td>\n",
        "      <td> 0.00</td>\n",
        "      <td> 0.14</td>\n",
        "      <td> 0.40</td>\n",
        "      <td> 17.10</td>\n",
        "    </tr>\n",
        "    <tr>\n",
        "      <th>4</th>\n",
        "      <td> 1925</td>\n",
        "      <td> 6.63</td>\n",
        "      <td>  4.71</td>\n",
        "      <td>  6.01</td>\n",
        "      <td>  3.47</td>\n",
        "      <td> 15.21</td>\n",
        "      <td> 4.51</td>\n",
        "      <td> 5.46</td>\n",
        "      <td> 2.14</td>\n",
        "      <td> 1.52</td>\n",
        "      <td> 0.11</td>\n",
        "      <td> 0.83</td>\n",
        "      <td> 2.45</td>\n",
        "      <td> 53.05</td>\n",
        "    </tr>\n",
        "  </tbody>\n",
        "</table>\n",
        "</div>"
       ],
       "metadata": {},
       "output_type": "pyout",
       "prompt_number": 14,
       "text": [
        "     WY   Oct    Nov    Dec    Jan    Feb   Mar   Apr   May   Jun   Jul   Aug  \\\n",
        "0  1921  5.25  12.38  11.52  13.12   3.76  5.30  0.94  3.05  0.65  0.00  0.00   \n",
        "1  1922  1.39   3.16  11.22   3.21  14.42  8.37  1.58  2.22  0.98  0.14  0.08   \n",
        "2  1923  3.59   6.01  11.79   5.95   1.93  0.49  6.86  0.93  2.09  0.20  0.40   \n",
        "3  1924  2.15   0.46   2.77   3.55   3.94  2.67  0.89  0.05  0.08  0.00  0.14   \n",
        "4  1925  6.63   4.71   6.01   3.47  15.21  4.51  5.46  2.14  1.52  0.11  0.83   \n",
        "\n",
        "    Sep  Total  \n",
        "0  0.02  55.99  \n",
        "1  0.01  46.78  \n",
        "2  2.75  42.99  \n",
        "3  0.40  17.10  \n",
        "4  2.45  53.05  "
       ]
      }
     ],
     "prompt_number": 14
    },
    {
     "cell_type": "code",
     "collapsed": false,
     "input": [
      "groundhog.head()"
     ],
     "language": "python",
     "metadata": {},
     "outputs": [
      {
       "html": [
        "<div style=\"max-height:1000px;max-width:1500px;overflow:auto;\">\n",
        "<table border=\"1\" class=\"dataframe\">\n",
        "  <thead>\n",
        "    <tr style=\"text-align: right;\">\n",
        "      <th></th>\n",
        "      <th>year</th>\n",
        "      <th>mintemp</th>\n",
        "      <th>shadow</th>\n",
        "    </tr>\n",
        "  </thead>\n",
        "  <tbody>\n",
        "    <tr>\n",
        "      <th>0</th>\n",
        "      <td> 1990</td>\n",
        "      <td> 24</td>\n",
        "      <td> N</td>\n",
        "    </tr>\n",
        "    <tr>\n",
        "      <th>1</th>\n",
        "      <td> 1991</td>\n",
        "      <td> 23</td>\n",
        "      <td> Y</td>\n",
        "    </tr>\n",
        "    <tr>\n",
        "      <th>2</th>\n",
        "      <td> 1992</td>\n",
        "      <td> 22</td>\n",
        "      <td> Y</td>\n",
        "    </tr>\n",
        "    <tr>\n",
        "      <th>3</th>\n",
        "      <td> 1993</td>\n",
        "      <td> 16</td>\n",
        "      <td> Y</td>\n",
        "    </tr>\n",
        "    <tr>\n",
        "      <th>4</th>\n",
        "      <td> 1994</td>\n",
        "      <td> 12</td>\n",
        "      <td> Y</td>\n",
        "    </tr>\n",
        "  </tbody>\n",
        "</table>\n",
        "</div>"
       ],
       "metadata": {},
       "output_type": "pyout",
       "prompt_number": 11,
       "text": [
        "   year  mintemp shadow\n",
        "0  1990       24      N\n",
        "1  1991       23      Y\n",
        "2  1992       22      Y\n",
        "3  1993       16      Y\n",
        "4  1994       12      Y"
       ]
      }
     ],
     "prompt_number": 11
    },
    {
     "cell_type": "code",
     "collapsed": false,
     "input": [
      "rainfall.merge(groundhog, left_on='WY', right_on='year').head()"
     ],
     "language": "python",
     "metadata": {},
     "outputs": [
      {
       "html": [
        "<div style=\"max-height:1000px;max-width:1500px;overflow:auto;\">\n",
        "<table border=\"1\" class=\"dataframe\">\n",
        "  <thead>\n",
        "    <tr style=\"text-align: right;\">\n",
        "      <th></th>\n",
        "      <th>WY</th>\n",
        "      <th>Oct</th>\n",
        "      <th>Nov</th>\n",
        "      <th>Dec</th>\n",
        "      <th>Jan</th>\n",
        "      <th>Feb</th>\n",
        "      <th>Mar</th>\n",
        "      <th>Apr</th>\n",
        "      <th>May</th>\n",
        "      <th>Jun</th>\n",
        "      <th>Jul</th>\n",
        "      <th>Aug</th>\n",
        "      <th>Sep</th>\n",
        "      <th>Total</th>\n",
        "      <th>year</th>\n",
        "      <th>mintemp</th>\n",
        "      <th>shadow</th>\n",
        "    </tr>\n",
        "  </thead>\n",
        "  <tbody>\n",
        "    <tr>\n",
        "      <th>0</th>\n",
        "      <td> 1990</td>\n",
        "      <td> 6.29</td>\n",
        "      <td> 3.08</td>\n",
        "      <td>  0.07</td>\n",
        "      <td>  7.88</td>\n",
        "      <td>  4.60</td>\n",
        "      <td>  3.19</td>\n",
        "      <td> 1.83</td>\n",
        "      <td> 7.55</td>\n",
        "      <td> 0.29</td>\n",
        "      <td> 0.12</td>\n",
        "      <td> 0.54</td>\n",
        "      <td> 0.53</td>\n",
        "      <td> 35.97</td>\n",
        "      <td> 1990</td>\n",
        "      <td> 24</td>\n",
        "      <td> N</td>\n",
        "    </tr>\n",
        "    <tr>\n",
        "      <th>1</th>\n",
        "      <td> 1991</td>\n",
        "      <td> 1.10</td>\n",
        "      <td> 1.56</td>\n",
        "      <td>  1.39</td>\n",
        "      <td>  0.88</td>\n",
        "      <td>  3.11</td>\n",
        "      <td> 17.94</td>\n",
        "      <td> 1.81</td>\n",
        "      <td> 2.51</td>\n",
        "      <td> 1.20</td>\n",
        "      <td> 0.40</td>\n",
        "      <td> 0.22</td>\n",
        "      <td> 0.05</td>\n",
        "      <td> 32.17</td>\n",
        "      <td> 1991</td>\n",
        "      <td> 23</td>\n",
        "      <td> Y</td>\n",
        "    </tr>\n",
        "    <tr>\n",
        "      <th>2</th>\n",
        "      <td> 1992</td>\n",
        "      <td> 3.44</td>\n",
        "      <td> 2.64</td>\n",
        "      <td>  3.97</td>\n",
        "      <td>  2.81</td>\n",
        "      <td> 11.84</td>\n",
        "      <td>  5.35</td>\n",
        "      <td> 2.67</td>\n",
        "      <td> 0.12</td>\n",
        "      <td> 2.73</td>\n",
        "      <td> 0.20</td>\n",
        "      <td> 0.16</td>\n",
        "      <td> 0.08</td>\n",
        "      <td> 36.01</td>\n",
        "      <td> 1992</td>\n",
        "      <td> 22</td>\n",
        "      <td> Y</td>\n",
        "    </tr>\n",
        "    <tr>\n",
        "      <th>3</th>\n",
        "      <td> 1993</td>\n",
        "      <td> 4.77</td>\n",
        "      <td> 1.15</td>\n",
        "      <td> 14.41</td>\n",
        "      <td> 16.53</td>\n",
        "      <td> 10.26</td>\n",
        "      <td>  7.57</td>\n",
        "      <td> 3.66</td>\n",
        "      <td> 4.27</td>\n",
        "      <td> 2.31</td>\n",
        "      <td> 0.00</td>\n",
        "      <td> 0.38</td>\n",
        "      <td> 0.01</td>\n",
        "      <td> 65.32</td>\n",
        "      <td> 1993</td>\n",
        "      <td> 16</td>\n",
        "      <td> Y</td>\n",
        "    </tr>\n",
        "    <tr>\n",
        "      <th>4</th>\n",
        "      <td> 1994</td>\n",
        "      <td> 2.65</td>\n",
        "      <td> 2.81</td>\n",
        "      <td>  7.34</td>\n",
        "      <td>  4.10</td>\n",
        "      <td>  7.62</td>\n",
        "      <td>  1.53</td>\n",
        "      <td> 2.87</td>\n",
        "      <td> 1.96</td>\n",
        "      <td> 0.32</td>\n",
        "      <td> 0.01</td>\n",
        "      <td> 0.00</td>\n",
        "      <td> 0.62</td>\n",
        "      <td> 31.83</td>\n",
        "      <td> 1994</td>\n",
        "      <td> 12</td>\n",
        "      <td> Y</td>\n",
        "    </tr>\n",
        "  </tbody>\n",
        "</table>\n",
        "</div>"
       ],
       "metadata": {},
       "output_type": "pyout",
       "prompt_number": 12,
       "text": [
        "     WY   Oct   Nov    Dec    Jan    Feb    Mar   Apr   May   Jun   Jul   Aug  \\\n",
        "0  1990  6.29  3.08   0.07   7.88   4.60   3.19  1.83  7.55  0.29  0.12  0.54   \n",
        "1  1991  1.10  1.56   1.39   0.88   3.11  17.94  1.81  2.51  1.20  0.40  0.22   \n",
        "2  1992  3.44  2.64   3.97   2.81  11.84   5.35  2.67  0.12  2.73  0.20  0.16   \n",
        "3  1993  4.77  1.15  14.41  16.53  10.26   7.57  3.66  4.27  2.31  0.00  0.38   \n",
        "4  1994  2.65  2.81   7.34   4.10   7.62   1.53  2.87  1.96  0.32  0.01  0.00   \n",
        "\n",
        "    Sep  Total  year  mintemp shadow  \n",
        "0  0.53  35.97  1990       24      N  \n",
        "1  0.05  32.17  1991       23      Y  \n",
        "2  0.08  36.01  1992       22      Y  \n",
        "3  0.01  65.32  1993       16      Y  \n",
        "4  0.62  31.83  1994       12      Y  "
       ]
      }
     ],
     "prompt_number": 12
>>>>>>> 614f5817a6aae7dc1f97ddb3bcabd660284af944
    },
    {
     "cell_type": "code",
     "collapsed": false,
     "input": [
      "df = rainfall.merge(groundhog, left_on='WY', right_on='year')[['Total', 'shadow']]"
     ],
     "language": "python",
     "metadata": {},
     "outputs": [],
     "prompt_number": 3
<<<<<<< HEAD
=======
    },
    {
     "cell_type": "code",
     "collapsed": false,
     "input": [
      "df.tail()"
     ],
     "language": "python",
     "metadata": {},
     "outputs": [
      {
       "html": [
        "<div style=\"max-height:1000px;max-width:1500px;overflow:auto;\">\n",
        "<table border=\"1\" class=\"dataframe\">\n",
        "  <thead>\n",
        "    <tr style=\"text-align: right;\">\n",
        "      <th></th>\n",
        "      <th>Total</th>\n",
        "      <th>shadow</th>\n",
        "    </tr>\n",
        "  </thead>\n",
        "  <tbody>\n",
        "    <tr>\n",
        "      <th>16</th>\n",
        "      <td> 80.15</td>\n",
        "      <td> Y</td>\n",
        "    </tr>\n",
        "    <tr>\n",
        "      <th>17</th>\n",
        "      <td> 37.21</td>\n",
        "      <td> N</td>\n",
        "    </tr>\n",
        "    <tr>\n",
        "      <th>18</th>\n",
        "      <td> 34.99</td>\n",
        "      <td> Y</td>\n",
        "    </tr>\n",
        "    <tr>\n",
        "      <th>19</th>\n",
        "      <td> 46.85</td>\n",
        "      <td> Y</td>\n",
        "    </tr>\n",
        "    <tr>\n",
        "      <th>20</th>\n",
        "      <td> 53.59</td>\n",
        "      <td> Y</td>\n",
        "    </tr>\n",
        "  </tbody>\n",
        "</table>\n",
        "</div>"
       ],
       "metadata": {},
       "output_type": "pyout",
       "prompt_number": 5,
       "text": [
        "    Total shadow\n",
        "16  80.15      Y\n",
        "17  37.21      N\n",
        "18  34.99      Y\n",
        "19  46.85      Y\n",
        "20  53.59      Y"
       ]
      }
     ],
     "prompt_number": 5
>>>>>>> 614f5817a6aae7dc1f97ddb3bcabd660284af944
    },
    {
     "cell_type": "code",
     "collapsed": false,
     "input": [
      "df.boxplot(column='Total', by='shadow')"
     ],
     "language": "python",
     "metadata": {},
     "outputs": [
      {
       "metadata": {},
       "output_type": "pyout",
<<<<<<< HEAD
       "prompt_number": 4,
       "text": [
        "<matplotlib.axes._subplots.AxesSubplot at 0x10a390350>"
=======
       "prompt_number": 6,
       "text": [
        "<matplotlib.axes._subplots.AxesSubplot at 0x109d9f310>"
>>>>>>> 614f5817a6aae7dc1f97ddb3bcabd660284af944
       ]
      },
      {
       "metadata": {},
       "output_type": "display_data",
       "png": "iVBORw0KGgoAAAANSUhEUgAAAXcAAAEaCAYAAADqqhd6AAAABHNCSVQICAgIfAhkiAAAAAlwSFlz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\n",
       "text": [
<<<<<<< HEAD
        "<matplotlib.figure.Figure at 0x10a341bd0>"
       ]
      }
     ],
     "prompt_number": 4
=======
        "<matplotlib.figure.Figure at 0x109d31d90>"
       ]
      }
     ],
     "prompt_number": 6
>>>>>>> 614f5817a6aae7dc1f97ddb3bcabd660284af944
    },
    {
     "cell_type": "markdown",
     "metadata": {
      "slideshow": {
       "slide_type": "slide"
      }
     },
     "source": [
      "Part 2\n",
      "------"
     ]
    },
    {
     "cell_type": "code",
     "collapsed": false,
     "input": [
      "mod = sm.OLS.from_formula(\"Total ~ shadow == 'Y'\", df)\n",
      "res = mod.fit()\n",
      "print res.summary(alpha = .1)"
     ],
     "language": "python",
     "metadata": {
      "slideshow": {
       "slide_type": "fragment"
      }
     },
     "outputs": [
      {
       "output_type": "stream",
       "stream": "stdout",
       "text": [
        "                            OLS Regression Results                            \n",
        "==============================================================================\n",
        "Dep. Variable:                  Total   R-squared:                       0.016\n",
        "Model:                            OLS   Adj. R-squared:                 -0.036\n",
        "Method:                 Least Squares   F-statistic:                    0.2996\n",
        "Date:                Tue, 10 Feb 2015   Prob (F-statistic):              0.591\n",
<<<<<<< HEAD
        "Time:                        20:13:52   Log-Likelihood:                -88.568\n",
        "No. Observations:                  21   AIC:                             181.1\n",
        "Df Residuals:                      19   BIC:                             183.2\n",
        "Df Model:                           1                                         \n",
=======
        "Time:                        20:14:19   Log-Likelihood:                -88.568\n",
        "No. Observations:                  21   AIC:                             181.1\n",
        "Df Residuals:                      19   BIC:                             183.2\n",
        "Df Model:                           1                                         \n",
        "Covariance Type:            nonrobust                                         \n",
>>>>>>> 614f5817a6aae7dc1f97ddb3bcabd660284af944
        "=========================================================================================\n",
        "                            coef    std err          t      P>|t|      [90.0% Conf. Int.]\n",
        "-----------------------------------------------------------------------------------------\n",
        "Intercept                56.4160      7.721      7.307      0.000        43.066    69.766\n",
        "shadow == 'Y'[T.True]    -4.8410      8.845     -0.547      0.591       -20.135    10.453\n",
        "==============================================================================\n",
        "Omnibus:                        1.662   Durbin-Watson:                   1.830\n",
        "Prob(Omnibus):                  0.436   Jarque-Bera (JB):                1.276\n",
        "Skew:                           0.403   Prob(JB):                        0.528\n",
        "Kurtosis:                       2.102   Cond. No.                         3.88\n",
<<<<<<< HEAD
        "==============================================================================\n"
       ]
      }
     ],
     "prompt_number": 5
=======
        "==============================================================================\n",
        "\n",
        "Warnings:\n",
        "[1] Standard Errors assume that the covariance matrix of the errors is correctly specified.\n"
       ]
      }
     ],
     "prompt_number": 9
>>>>>>> 614f5817a6aae7dc1f97ddb3bcabd660284af944
    },
    {
     "cell_type": "markdown",
     "metadata": {
      "slideshow": {
       "slide_type": "fragment"
      }
     },
     "source": [
      "I report the confidence interval [-20.135, 10.453] for the difference between the `shadow == 'Y'` and the `shadow == 'N'` means."
     ]
    },
    {
     "cell_type": "markdown",
     "metadata": {
      "slideshow": {
       "slide_type": "slide"
      }
     },
     "source": [
      "Part 3\n",
      "------\n",
      "If I repeated this sample of `shadow` and `rainfall` in Northern California (assuming they are IID each year) and I form this confidence interval as `t.test` does. Then, 90% of the intervals will cover the true underlying difference in the rainfall between years the groundhog sees his shadow or not."
     ]
    },
    {
     "cell_type": "markdown",
     "metadata": {
      "slideshow": {
       "slide_type": "slide"
      }
     },
     "source": [
      "Part 4\n",
      "------\n",
      "As the reported $p$-value is 0.591, I fail to reject the null hypothesis at the 5% level."
     ]
    },
    {
     "cell_type": "markdown",
     "metadata": {
      "slideshow": {
       "slide_type": "slide"
      }
     },
     "source": [
      "Part 5\n",
      "------\n",
      "I am assuming that the `rainfall` measurements are independent $N(\\mu_i,\\sigma^2)$ where $\\mu_i=\\mu_N$ in the `shadow == 'N'` years and $\\mu_i=\\mu_Y$ in the `shadow == 'Y'` years."
     ]
    },
    {
     "cell_type": "markdown",
     "metadata": {},
     "source": [
      "---"
     ]
    },
    {
     "cell_type": "markdown",
     "metadata": {
      "slideshow": {
       "slide_type": "slide"
      }
     },
     "source": [
      "1-2 Pairs\n",
      "========\n",
      "\n",
      "Use `enron.db` from Lab 2. It can be found in the data folder.\n",
      "\n",
      "1. Create a boxplot of the message recipient count (`MAX(rno)`), splitting the data based on the `seniority` of the sender.\n",
      "\n",
      "2. Compute the sample mean and standard deviation in the two groups.\n",
      "\n",
      "3. Create a histogram of the recipient count within each group.\n",
      "\n",
      "4. Compute a 90% confidence interval for the difference in recipient count between the two groups. What is a problem with this? How might you fix it?\n",
      "\n",
      "5. At level $\\alpha=5\\%$, test the null hypothesis that the average recipient count does not differ between the two groups. What assumptions are you making? What can you conclude?"
     ]
    },
    {
     "cell_type": "code",
     "collapsed": false,
     "input": [
      "import sqlite3\n",
      "import pandas as pd\n",
      "conn = sqlite3.connect('enron.db')"
     ],
     "language": "python",
     "metadata": {},
     "outputs": [],
     "prompt_number": 6
    },
    {
     "cell_type": "code",
     "collapsed": false,
     "input": [
      "df2 = pd.read_sql(\"\"\"SELECT eid, name, seniority, MAX(rno)\n",
      "    FROM EmployeeBase \n",
      "    JOIN MessageBase ON eid = from_eid \n",
      "    JOIN RecipientBase USING(mid)\n",
      "    GROUP by (eid)\n",
      "    ORDER by max(rno) desc\"\"\", conn)"
     ],
     "language": "python",
     "metadata": {},
     "outputs": [],
     "prompt_number": 23
    },
    {
     "cell_type": "code",
     "collapsed": false,
     "input": [
      "df2.boxplot(column='MAX(rno)', by='seniority')"
     ],
     "language": "python",
     "metadata": {},
     "outputs": [
      {
       "metadata": {},
       "output_type": "pyout",
       "prompt_number": 24,
       "text": [
        "<matplotlib.axes._subplots.AxesSubplot at 0x10cbb0c90>"
       ]
      },
      {
       "metadata": {},
       "output_type": "display_data",
       "png": "iVBORw0KGgoAAAANSUhEUgAAAXcAAAEaCAYAAADqqhd6AAAABHNCSVQICAgIfAhkiAAAAAlwSFlz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\nAABJRU5ErkJggg==\n",
       "text": [
        "<matplotlib.figure.Figure at 0x10a3418d0>"
       ]
      }
     ],
     "prompt_number": 24
    },
    {
     "cell_type": "code",
     "collapsed": false,
     "input": [
      "df2.mean(axis=0)\n",
      "\n"
     ],
     "language": "python",
     "metadata": {},
     "outputs": [
      {
       "metadata": {},
       "output_type": "pyout",
       "prompt_number": 29,
       "text": [
        "eid         78.855263\n",
        "MAX(rno)     7.118421\n",
        "dtype: float64"
       ]
      }
     ],
     "prompt_number": 29
    },
    {
     "cell_type": "code",
     "collapsed": false,
     "input": [],
     "language": "python",
     "metadata": {},
     "outputs": []
    },
    {
     "cell_type": "markdown",
     "metadata": {
      "slideshow": {
       "slide_type": "fragment"
      }
     },
     "source": [
      "On your own\n",
      "=========\n",
      "\n"
     ]
    },
    {
     "cell_type": "markdown",
     "metadata": {},
     "source": [
      "Start with the Twitter data on US and Canada trends from Lab 3.\n",
      "\n",
      "1. Create a histogram of `text_len` within each group. (Use `alpha = 0.5` to overlay them.)\n",
      "\n",
      "2. Compute the sample mean and standard deviation in the two groups.\n",
      "\n",
      "3. Create a `DataFrame` concatenating data from each collection adding a `country` column to distinguish US from Canada.  \n",
      "    i.e. given `ca_text_len` and `us_text_len` as `Series` containing the length of each text in the Canadian and US collections respectively:\n",
      "\n",
      "    ```python\n",
      "    text_len_df = pd.concat([pd.DataFrame({'text_len': ca_text_len, 'country': 'CA'}), \n",
      "                             pd.DataFrame({'text_len': us_text_len, 'country': 'US'})])\n",
      "    ```\n",
      "\n",
      "4. Use this `DataFrame` to create a `boxplot` of the `text_len` by `country`.\n",
      "\n",
      "5. Use `OLS` to compute a 90% confidence interval for the difference in `text_len` between the two groups. Name a problem with describing the confidence interval of tweet length in this way.\n",
      "\n",
      "5. At level $\\alpha=5\\%$, test the null hypothesis that the average text length does not differ between the two groups. What can you conclude?\n",
      "\n",
      "6. Repeat the above steps but pick your own tags and try to find a pair with a more significant difference."
     ]
    },
    {
     "cell_type": "markdown",
     "metadata": {},
     "source": [
      "---"
     ]
    },
    {
     "cell_type": "markdown",
     "metadata": {},
     "source": [
      "### Don't forget to submit exit tickets: [http://tinyurl.com/dat-exit-ticket](http://tinyurl.com/dat-exit-ticket)"
     ]
    },
    {
     "cell_type": "code",
     "collapsed": false,
     "input": [],
     "language": "python",
     "metadata": {},
     "outputs": []
    }
   ],
   "metadata": {}
  }
 ]
}