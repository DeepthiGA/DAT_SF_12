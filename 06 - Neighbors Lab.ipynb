{
 "metadata": {
  "name": "",
<<<<<<< HEAD
  "signature": "sha256:d0bc6e86a7b88831cce43731174ce16d47f48fc9ae041a30ace152c9ca4c9440"
=======
  "signature": "sha256:a6ca112163b997fdd52729241e5bbc1ab739a89ad64e2a960a4f8843d39cdd88"
>>>>>>> 016478627c6b1264d8355bed55ac8d2e77152e78
 },
 "nbformat": 3,
 "nbformat_minor": 0,
 "worksheets": [
  {
   "cells": [
    {
     "cell_type": "markdown",
     "metadata": {},
     "source": [
      "## Implementing the $k$-NN Classification"
     ]
    },
    {
     "cell_type": "markdown",
     "metadata": {},
     "source": [
      "* Apply the $k$-NN Algorithm\n",
      "* Using Cross Validation\n",
      "* Apply Scaling"
     ]
    },
    {
     "cell_type": "code",
     "collapsed": false,
     "input": [
      "%matplotlib inline\n",
      "from __future__ import division\n",
      "import pandas as pd\n",
      "import numpy as np\n",
      "from seaborn import plt\n",
      "from sklearn.datasets import load_iris\n",
      "\n",
      "load_iris?"
     ],
     "language": "python",
     "metadata": {},
<<<<<<< HEAD
     "outputs": [],
     "prompt_number": 4
=======
     "outputs": []
>>>>>>> 016478627c6b1264d8355bed55ac8d2e77152e78
    },
    {
     "cell_type": "markdown",
     "metadata": {},
     "source": [
      "The best data set to validate any classification algorithm's performance is the [Fisher Iris data set](http://en.wikipedia.org/wiki/Iris_flower_data_set), which is commonly included in any stats or machine learning package."
     ]
    },
    {
     "cell_type": "code",
     "collapsed": false,
     "input": [
      "from matplotlib.colors import ListedColormap\n",
      "from sklearn import neighbors, datasets, feature_selection\n",
      "from sklearn.cross_validation import train_test_split, cross_val_score"
     ],
     "language": "python",
     "metadata": {},
<<<<<<< HEAD
     "outputs": [],
     "prompt_number": 5
=======
     "outputs": []
>>>>>>> 016478627c6b1264d8355bed55ac8d2e77152e78
    },
    {
     "cell_type": "code",
     "collapsed": false,
     "input": [
      "# Various variables we'll need to set intially.\n",
<<<<<<< HEAD
      "n_neighbors = range(1, 51, 2)\n",
      "# we want k to be odd number to avoid possibility of tie? "
     ],
     "language": "python",
     "metadata": {},
     "outputs": [],
     "prompt_number": 6
=======
      "n_neighbors = range(1, 51, 2)"
     ],
     "language": "python",
     "metadata": {},
     "outputs": []
>>>>>>> 016478627c6b1264d8355bed55ac8d2e77152e78
    },
    {
     "cell_type": "code",
     "collapsed": false,
     "input": [
      "# Load in the data\n",
<<<<<<< HEAD
      "# scikit reads targets as well in data, can't be strings\n",
      "iris = datasets.load_iris()\n",
      "#iris_df = pd.DataFrame(iris.data, columns=iris.feature_names)\n",
      "#iris_df.describe()\n",
      "\n",
      "# Load with Scale\n",
      "from sklearn.preprocessing import scale\n",
      "df_norm = pd.DataFrame(scale(iris.data), columns=iris.feature_names)\n",
      "df_norm.head()\n",
      "df_norm.describe()\n"
     ],
     "language": "python",
     "metadata": {},
     "outputs": [
      {
       "html": [
        "<div style=\"max-height:1000px;max-width:1500px;overflow:auto;\">\n",
        "<table border=\"1\" class=\"dataframe\">\n",
        "  <thead>\n",
        "    <tr style=\"text-align: right;\">\n",
        "      <th></th>\n",
        "      <th>sepal length (cm)</th>\n",
        "      <th>sepal width (cm)</th>\n",
        "      <th>petal length (cm)</th>\n",
        "      <th>petal width (cm)</th>\n",
        "    </tr>\n",
        "  </thead>\n",
        "  <tbody>\n",
        "    <tr>\n",
        "      <th>count</th>\n",
        "      <td> 1.500000e+02</td>\n",
        "      <td> 1.500000e+02</td>\n",
        "      <td> 1.500000e+02</td>\n",
        "      <td> 1.500000e+02</td>\n",
        "    </tr>\n",
        "    <tr>\n",
        "      <th>mean</th>\n",
        "      <td>-1.468455e-15</td>\n",
        "      <td>-1.657933e-15</td>\n",
        "      <td>-1.515825e-15</td>\n",
        "      <td>-8.052818e-16</td>\n",
        "    </tr>\n",
        "    <tr>\n",
        "      <th>std</th>\n",
        "      <td> 1.003350e+00</td>\n",
        "      <td> 1.003350e+00</td>\n",
        "      <td> 1.003350e+00</td>\n",
        "      <td> 1.003350e+00</td>\n",
        "    </tr>\n",
        "    <tr>\n",
        "      <th>min</th>\n",
        "      <td>-1.870024e+00</td>\n",
        "      <td>-2.438987e+00</td>\n",
        "      <td>-1.568735e+00</td>\n",
        "      <td>-1.444450e+00</td>\n",
        "    </tr>\n",
        "    <tr>\n",
        "      <th>25%</th>\n",
        "      <td>-9.006812e-01</td>\n",
        "      <td>-5.877635e-01</td>\n",
        "      <td>-1.227541e+00</td>\n",
        "      <td>-1.181504e+00</td>\n",
        "    </tr>\n",
        "    <tr>\n",
        "      <th>50%</th>\n",
        "      <td>-5.250608e-02</td>\n",
        "      <td>-1.249576e-01</td>\n",
        "      <td> 3.362659e-01</td>\n",
        "      <td> 1.332259e-01</td>\n",
        "    </tr>\n",
        "    <tr>\n",
        "      <th>75%</th>\n",
        "      <td> 6.745011e-01</td>\n",
        "      <td> 5.692513e-01</td>\n",
        "      <td> 7.627586e-01</td>\n",
        "      <td> 7.905908e-01</td>\n",
        "    </tr>\n",
        "    <tr>\n",
        "      <th>max</th>\n",
        "      <td> 2.492019e+00</td>\n",
        "      <td> 3.114684e+00</td>\n",
        "      <td> 1.786341e+00</td>\n",
        "      <td> 1.710902e+00</td>\n",
        "    </tr>\n",
        "  </tbody>\n",
        "</table>\n",
        "</div>"
       ],
       "metadata": {},
       "output_type": "pyout",
       "prompt_number": 68,
       "text": [
        "       sepal length (cm)  sepal width (cm)  petal length (cm)  \\\n",
        "count       1.500000e+02      1.500000e+02       1.500000e+02   \n",
        "mean       -1.468455e-15     -1.657933e-15      -1.515825e-15   \n",
        "std         1.003350e+00      1.003350e+00       1.003350e+00   \n",
        "min        -1.870024e+00     -2.438987e+00      -1.568735e+00   \n",
        "25%        -9.006812e-01     -5.877635e-01      -1.227541e+00   \n",
        "50%        -5.250608e-02     -1.249576e-01       3.362659e-01   \n",
        "75%         6.745011e-01      5.692513e-01       7.627586e-01   \n",
        "max         2.492019e+00      3.114684e+00       1.786341e+00   \n",
        "\n",
        "       petal width (cm)  \n",
        "count      1.500000e+02  \n",
        "mean      -8.052818e-16  \n",
        "std        1.003350e+00  \n",
        "min       -1.444450e+00  \n",
        "25%       -1.181504e+00  \n",
        "50%        1.332259e-01  \n",
        "75%        7.905908e-01  \n",
        "max        1.710902e+00  "
       ]
      }
     ],
     "prompt_number": 68
=======
      "iris = datasets.load_iris()\n",
      "iris_df = pd.DataFrame(iris.data, columns=iris.feature_names)\n",
      "iris_df.describe()"
     ],
     "language": "python",
     "metadata": {},
     "outputs": []
>>>>>>> 016478627c6b1264d8355bed55ac8d2e77152e78
    },
    {
     "cell_type": "heading",
     "level": 3,
     "metadata": {},
     "source": [
      "Parameter Search"
     ]
    },
    {
     "cell_type": "code",
     "collapsed": false,
     "input": [
      "# Create the training (and test) set using scikit-learn's train_test_split function\n",
<<<<<<< HEAD
      "X_train, X_test, y_train, y_test = train_test_split(iris.data, iris.target, test_size=0.3, random_state=8)\n",
      "\n",
      "# random_state decides how the data is split\n",
      "# keepig training and target set in similar sized splits ??\n",
=======
      "X_train, X_test, y_train, y_test = train_test_split(iris.data, iris.target, test_size=0.3, random_state=12)\n",
      "\n",
>>>>>>> 016478627c6b1264d8355bed55ac8d2e77152e78
      "# Try this sequence again with the following random seed.\n",
      "# observe how it changes the scores of K quite dramatically\n",
      "# X_train, X_test, y_train, y_test = train_test_split(iris.data, iris.target, test_size=0.3, random_state=8)"
     ],
     "language": "python",
     "metadata": {},
<<<<<<< HEAD
     "outputs": [],
     "prompt_number": 69
=======
     "outputs": []
>>>>>>> 016478627c6b1264d8355bed55ac8d2e77152e78
    },
    {
     "cell_type": "code",
     "collapsed": false,
     "input": [
      "# Loop through each neighbors value from 1 to 51 and append\n",
      "# the scores\n",
      "scores = []\n",
      "for n in n_neighbors:\n",
      "    clf = neighbors.KNeighborsClassifier(n)\n",
      "    clf.fit(X_train, y_train)\n",
      "    scores.append(clf.score(X_test, y_test))"
     ],
     "language": "python",
     "metadata": {},
<<<<<<< HEAD
     "outputs": [],
     "prompt_number": 70
=======
     "outputs": []
>>>>>>> 016478627c6b1264d8355bed55ac8d2e77152e78
    },
    {
     "cell_type": "code",
     "collapsed": false,
     "input": [
      "plt.figure(figsize=(18,6))\n",
      "_ = plt.plot(n_neighbors, scores, linewidth=3.0)"
     ],
     "language": "python",
     "metadata": {},
<<<<<<< HEAD
     "outputs": [
      {
       "metadata": {},
       "output_type": "display_data",
       "png": "iVBORw0KGgoAAAANSUhEUgAABBkAAAFxCAYAAAA24HBiAAAABHNCSVQICAgIfAhkiAAAAAlwSFlz\nAAALEgAACxIB0t1+/AAAIABJREFUeJzs3XlwVOma3/lfZmpfEdqR0AqcAlEU+y4kqurWXgXFcieu\nO2bG7ekOu/ufjjsRHW6PIzrsuTMd0fb0dMSE3WP3OKbbdkzYYdaibq23qgCxFlsBVSwH0IqEBNr3\nNTPnjxQnUxRIgFI6uXw/ETcuD6nMfCh0UOaT7/t7HV6vVwAAAAAAALPltLsBAAAAAAAQGRgyAAAA\nAACAoGDIAAAAAAAAgoIhAwAAAAAACAqGDAAAAAAAICgYMgAAAAAAgKCIme5GwzCckv5G0ipJo5L+\nwDTN2oDbfyXpTyWNSDpgmuZfT97nP0haJskj6Q9N0zTnqH8AAAAAABAiZlrJsFtSnGmaWyX9maS/\nenyDYRiZkv5C0uuStknaZRjGGklvSUo2TXO7pP9V0v8+F40DAAAAAIDQMtOQYZukLyXJNM3vJa0P\nuK1c0jXTNHtM0/RKOi9ph6RhSemGYTgkpUsaC3rXAAAAAAAg5Ey7XUJSmqS+gNptGIbTNE2PpLuS\nKgzDyJE0IOkNSYclnZaUIOm2pExJHwa9awAAAAAAEHJmGjL0SUoNqB8PGGSaZrdhGL+WdEhSp6Qr\nk///TyWdMU3znxuGUSjpO8MwVpqm+cwVDV6v1+twOGbz5wAAAAAAAMH3Qm/WZxoynJFvJcIBwzA2\nS7r++AbDMGIkrTdNs9IwjHhJJyX9K0n/SP7VD92SYiW5pu3Y4VB7e/+L9A1ElezsVK4RYBpcI8D0\nuEaAZ+P6AKaXnZ068xcFmGnIcETSLwzDODNZ//7kiRIppmn+P4ZhuA3DuCzJLenfmaZZaxjGv5b0\nd4ZhnJJvwPDPTNMcfrE/BgAAAAAACDcOr9drdw+S5GV6CDwbE3ZgelwjwPS4RoBn4/oAppednfpC\n2yVmOl0CAAAAAADguTBkAAAAAAAAQcGQAWHlt2cb9I//jxP6+y9uK0S2+gAAAAAAJjFkQNhoetiv\nIzV1Gp/wqObaA12912F3SwAAAACAAAwZEDYOnqxV4NqFQyfr5PZ4bOsHAAAAADAVQwaEhVsNXfqp\nrmvK7z3oGNTZH9ts6ggAAAAA8CSGDAh5Xq9XB07UWnVqUqz166On6zU27rajLQAAAADAExgyIORd\nMtvV0OY7uzjG5dSf/d5apSXHSZK6+0f17eVmO9sDAAAAAExiyICQNuH26NBJ/yqGN9cXKj8zWbu2\nlVi/99m5Rg0Mj9vQHQAAAAAgEEMGhLSaaw/0qHtYkpQUH6P3txRLkipfW6TcjERJ0tDohD4/12hb\njwAAAAAAH4YMCFkjYxM6drreqt/fWqzkBF8eQ4zLqb1V5dZt31xuVmfvyLz3CAAAAADwY8iAkPX1\nhfvqG/Jtg8hIjdcbawun3L7OyFZpfpok37aKo6fr5r1HAAAAAIAfQwaEpL7BMX1xocmqd1eWKi7W\nNeVrHA6H9lf7VzOc/bFNzY8G5q1HAAAAAMBUDBkQkj4906DRMd/RlAVZydq2Mv+pX/dKcYZWlWdK\nkrySDgaERAIAAAAA5hdDBoScR91DOnG1xar3VpfL6XQ88+v3VpXr8a3XaztlNnXPcYcAAAAAgKdh\nyICQc7imTm6PV5K0rDBdr02uVHiWxTkp2rIyz6oPnKiV1+ud0x4BAAAAAD/HkAEhpb61TxduPbLq\nfTuXyOF49iqGx3ZXlirG5fu6ugd9umy2z1mPAAAAAICnY8iAkOH1enXwhD9TYd2ybC0pSH+u+2al\nJ+qNdf7TJw7V1GnC7Ql6jwAAAACAZ2PIgJBxo6FLtxp9eQpOh0N7qspe6P7vbylRYnyMJOlh15BO\nX28Neo8AAAAAgGdjyICQ4PF6dfC4fxVD5Wv5ys9MfqHHSEmM1Xubi6z6k9P11gkVAAAAAIC5x5AB\nIeH7mw/V9GhAkhQX49RH20pf6nHeXL9YGanxkqTewTF9fel+0HoEAAAAAEyPIQNsNz7h0ZGaOqt+\na6N/UPCi4mNd2rXdP6D44nyj+obGZt0jAAAAAGBmDBlguxM/tKijd0SSb8vDOxuLZ/V4217NU35m\nkiRpZMyt355tmG2LAAAAAIDnwJABthoamdCnAUOAD7aWKCkhZlaP6XI6ta+q3KqPX2lRe8/wrB4T\nAAAAADAzhgyw1ZcXmjQwPC5JykpP0M41BUF53NVLs6zjL90er46cqpvhHgAAAACA2WLIANv0DIzq\n64tNVv3xjjLFxgTnW9LhcGj/Tv9qhvM3HqqxrT8ojw0AAAAAeDqGDLDNsdP1Ghv3SJIW56Ro04rc\noD7+0sIFWrM0y6oPnqyd5qsBAAAAALPFkAG2aO0cVM21VqveX10up8MR9OfZU1Wuxw97o75LNxq6\ngv4cAAAAAAAfhgywxeGaOnm8XknS8uIMVZQunJPnKchK1vZX86364Ila63kBAAAAAMHFkAHzrral\nV5fNdqveV10uxxysYnhs1/ZSK+uhsa1fF289mrPnAgAAAIBoxpAB88rr9erA8XtWvXF5jkrz0+b0\nORemJegX6xdb9eGaWk24PXP6nAAAAAAQjRgyYF5dr+3UneZeSZLL6dDHO8rm5Xnf21yk5IQYSVJ7\nz4hOXn0wL88LAAAAANGEIQPmjcfjnXLCQ9XqRcrNSJqX505KiNX7W0qs+tiZeg2PTszLcwMAAABA\ntGDIgHlz9qc2tbQPSpLi41z6aFvpvD7/G+sKlJkWL0nqHxrXVxea5vX5AQAAACDSMWTAvBgbd+vI\nqTqrfmdjkdKS4+a1h9gYl3ZX+rdnfHXhvnoHRue1BwAAAACIZAwZMC++u9Ki7n7fG/q0pFi9tWHx\nDPeYG1sq8lSYnSxJGh1369jZBlv6AAAAAIBIxJABc25wZFyfnWuw6g+3lSoxPsaWXpxOh/ZVl1t1\nzdUHetg1ZEsvAAAAABBpGDJgzn1+rlGDI76QxZyMRFWtXmRrP6+WZcpYvECS5PZ4dbimboZ7AAAA\nAACeB0MGzKmuvhH97lKzVe/ZUaYYl73fdg6HQ/t3LrHqi7cfqb61z8aOAAAAACAyMGTAnDp6ul4T\nbo8kqSQvVetfybG5I5+yRWlab2Rb9YHj9+T1em3sCAAAAADCH0MGzJmW9gGd+bHVqvdXl8vpcNjY\n0VR7qvz93G7q0U/1XTZ3BAAAAADhjSED5syhk3V6vDhgZelCLS9ZaG9DT8hbmKQdAfkQB47XysNq\nBgAAAAB4aQwZMCfu3O/R1XsdkiSHNOVEh1Cya1uJ4mJ9l0Fz+4DO32izuSMAAAAACF8MGRB0Xq9X\nB07cs+rNFbkqyk21saNnS0+J19sbiqz6SE2dxifcNnYEAAAAAOGLIQOC7oe7Hapt8Z3WEONy6OPK\nMps7mt47m4qUkhgrSersG9XxKy02dwQAAAAA4YkhA4LK7fHo0Mlaq965plBZCxJt7GhmifEx+nBb\niVV/erZBQyMT9jUEAAAAAGGKIQOC6vT1VrV2DkmSEuNd+mBrsc0dPZ+dawqUlZ4gSRocmdAX3zfa\n3BEAAAAAhB+GDAia0XG3jp6ut+p3NxUrNSnOxo6eX4zLqT1V/m0dv7t4X939ozZ2BAAAAADhhyED\nguabS/fVOzAmSUpPidMv1i+2uaMXs3F5ropyUyRJYxMefRIwMAEAAAAAzIwhA4JiYHhcn5/3bzHY\ntb1U8XEuGzt6cU6HQ/url1j1qesP1No5aGNHAAAAABBeGDIgKH57tkHDo76jH/MWJqlyVb7NHb2c\nitKFqijJkCR5vdKhk3U2dwQAAAAA4YMhA2ato2dY311ptuq9VeVyOcP3W2tfwGqGK3fada+518Zu\nAAAAACB8hO87QYSMI6fqNeH2SpLKF6Vp7bIsmzuaneK8VG1akWvVB07ck9frtbEjAAAAAAgPDBkw\nK00P+3X+RptV79+5RA6Hw8aOguPjHWVyOX1/jrvNvbp2r9PmjgAAAAAg9DFkwKwcPFmrx5/xr16S\npWWLF9jaT7DkLEjUzjUFVn3wZK08HlYzAAAAAMB0GDLgpd1q6NJPdV2SJIdD2lNVZnNHwfXBthIl\nTJ6Q8aBjUGd+bLW5IwAAAAAIbQwZ8FK8Xq8OnKi16m0r81WYnWJjR8GXlhSndzYVWfXR0/UaG3fb\n2BEAAAAAhDaGDHgpl8x2NbT1S5JiY5zaXVlqc0dz460Ni5WWHCdJ6u4f1beXm2e4BwAAAABEL4YM\neGETbo8OnfSvYnhzXaEWpiXY2NHcSYiL0a7t/gHKZ+caNTA8bmNHAAAAABC6Yqa70TAMp6S/kbRK\n0qikPzBNszbg9l9J+lNJI5IOmKb515O//88kfSgpVtK/MU3zP85N+7BDzbUHetQ9LElKio/Re1uK\nbe5oblWuytfXF5r0sHtYQ6MT+vxco375+hK72wIAAACAkDPTSobdkuJM09wq6c8k/dXjGwzDyJT0\nF5Jel7RN0i7DMNYYhlEtacvkfaolRVYaYJQbGZvQsdP1Vv3+1mIlJ8Ta2NHci3E5tbeq3Kq/udys\nzt4RGzsCAAAAgNA005Bhm6QvJck0ze8lrQ+4rVzSNdM0e0zT9Eo6L2mHpLck/WgYxlFJn0o6FvSu\nYZuvL9xX35Bvu0BGarzeWFtoc0fzY52RrdL8NEm+7SJHT9fZ3BEAAAAAhJ6ZhgxpkvoCavfkFgpJ\nuiupwjCMHMMwkiS9ISlZUpZ8w4h9kv6JpP8vuC3DLn2DY/riQpNVf1xZprhYl40dzR+Hw6Ff7vSv\nZjj7Y5uaHw3Y2BEAAAAAhJ5pMxnkGzCkBtRO0zQ9kmSaZrdhGL+WdEhSp6Qrkjomv/62aZoTku4Y\nhjFiGEaWaZod0z1RdnbqdDcjBBw+dV2jY74jHIvyUvXRzqVyOR02dzV/srNT9e0PD3Tp1kN5JX16\nvlF//j9tntfnB/BsXCPA9LhGgGfj+gCCZ6Yhwxn5AhwPGIaxWdL1xzcYhhEjab1pmpWGYcRLOinp\nLyUtl/Qnkv5PwzAWybe6oXOmRtrb+1/uT4B58ah7SF+ca7Dq3dtL1dUZfZ/kf7ilWJcnhwwXbz7U\n6ctNMooy5vx5s7NTuUaAaXCNANPjGgGejesDmN6LDuFm2i5xRNKIYRhn5At9/LVhGL8yDOMPJ1cq\nuA3DuCzplKS/NU2zzjTNzyT9YBjGBfnyGP54MrMBYexwTZ3cHt9f47LCdL1WnmlzR/ZYnJOiLSvz\nrPrAiVp5vXx7AwAAAIA0w0qGyeHAHz3x23cCbv+NpN885X7/NCjdISQ0tPXpwq1HVr1/5xI5HNGz\nTeJJuytLdeHWQ024vap70Kcrd9q1zsixuy0AAAAAsN1MKxkQ5bxerw4cr7XqdcuyVV6QbmNH9stK\nT9Qb6/ynahw8WSe3x2NjRwAAAAAQGhgyYFo3Grp0q7FbkuR0OLSnqszmjkLD+1tKlBjvWwj0sGtI\np6612twRAAAAANiPIQOeyeP16mDAKobK1/KVn5lsY0ehIyUxVu9tLrLqT07XWydvAAAAAEC0YsiA\nZ7pw86GaHvlOkIiLdWrX9lKbOwotb65frIzUeElS7+CYvr503+aOAAAAAMBeDBnwVOMTHh2uqbPq\ntzYs1oKUeBs7Cj3xsa4pg5cvzjeqf2jMxo4AAAAAwF4MGfBUJ35oUUfviCTf1oB3Nhbb3FFo2vZq\nnvIzkyRJI2NufXq2wd6GAAAAAMBGDBnwM0MjE1PeLH+wtURJCdOedhq1XE6n9lWVW/XxKy1q7xm2\nsSMAAAAAsA9DBvzMlxeaNDA8LknKSk/QzjUFNncU2lYvzdKSyWM93R6vjpyqm+EeAAAAABCZGDJg\nip6BUX19scmqP95RptgYvk2m43A4tH+nfzXD+RsP1djWb2NHAAAAAGAP1sBjimOn6zU27pEkLc5J\n0aYVuTZ3FB6WFi7QmqVZ+uFuhyTp0Mla/c//3Wqbuwo/Hq9XX33fpAaGNBEtxuXQ5oo8vVqWaXcr\nCDKv16tvLjfrXnOv3a1MKzE+Ru9uLlJuRpLdrQAAEHEYMsDS2jmommutVr2/ulxOh8PGjsLLnqpy\nXb3XIa9X+qm+SzcburSiZKHdbYWV7y4368CJWrvbwDy4bLbrX/3RVqUlx9ndCoLo7E9t+i/f3LW7\njedyr6VX//IfbZDLyWo9AACCiZ+ssByuqZPH65UkLS/OUEUpb5BfREFWsra/mm/VB07UWv89MbPh\n0QkdO9NgdxuYJ2MTHt1o6LK7DQTR+IQ7rDJpHnQM6uyPbXa3AQBAxGElAyRJtS29umy2W/W+6nI5\nWMXwwnZXlun8zYcan/Cosa1fl24/0sblbDl5Hl9+7w8czUxLmJJzgchx7V6nzt3wvbG7Wd+lLRV5\nNneEYPn2cou6+kYlSWlJsfrVm8sUij9GbjZ0q+baA0nS0dP12rQiV3GxLpu7AgAgcjBkgLxe75Ql\n6huX56g0P83GjsJXRmq8frF+sT4/3yhJOnyyTmuXZSvGxaKh6fQMjOqrgMDRPTvKGM5EqMy0BGvI\ncKOhS16vl4FmBBgcGddn5xqs+qPtpSGb6fNaeZau3utQ3+CYuvtH9c3lZr23udjutgAAiBi884Gu\n13bqzv0eSZLL6dDHO8ps7ii8vbe5SMkJvvndo55hnbz6wOaOQt+xMw1TA0crQvPNCWavJD9VifG+\n66NnYEwPOods7gjB8Pn5Rg2OTEiScjISteO1RTZ39GzxcS7t2l5q1Z+da7RWUQEAgNljyBDlPB6v\nDp70r2KoWr2ItO1ZSkqI1ftbSqz62Jl6DY9O2NdQiGvrGlJNwCBmH4GjEc3ldGpFcYZV36wnlyHc\ndfWN6JtLzVa9Z0dZyK/eqlyVr9yFvp91w6MT+vxco80dAQAQOUL7VQDm3LkbbWppH5Tk+3Tno22l\nM9wDz+ONdQXKTIuXJPUPjeurC00z3CN6HT7pD8h8pWiBVhI4GvFWBPwdE/4Y/j45Xa/xCd9KpJK8\nVK1/JcfmjmYW43Jqb8CqvW8uN6uzd8TGjgAAiBwMGaLYk0ng72ws4ji5IImNcWl3pf8F7FcX7qt3\ncMzGjkJT7YNeXQoIHN2/cwn786NARYl/JYPZ1KMJt8fGbjAbLR2DOv1jwNHHO5eEzUqkdUa2lT80\n4fboaBidjAEAQChjyBDFnkwCf2vDYps7iixbKvJUmJ0sSRodd+vYmXqbOwotXq9XB477t+pseIXA\n0WiRk5GkrPQESb5ro7al1+aO8LIOnajV45N6V5Yt1PKArTChzuFw6JcBp9ic/alNzY8GbOwIAIDI\nwJAhSj2ZBP7htlIrjA3B4XQ6tK/a/wK25uoDPewi5O6xH+umBo7uIXA0qlSwZSLs3bnfo6v3OiRJ\nDkn7qsLv2FmjKEOryjMlSV5pSkYRAAB4OQwZotSTSeBVq0M3CTycvVqWKWPxAkmS2+PVoRqW40qT\ngaMBx6buWL3ICmFDdKgoCRgy1Hfb2Alehtc79RreXJGrotxUGzt6efuqyvV4g8f12k6ZTXw/AgAw\nGwwZolA4JoGHK4fDof07l1j1pduPVN/aZ2NHoeHcjTY1Pw4cjSVwNBq9UpxhvbFraOvT4AhHCIaT\nH+526N7kNpcYl0MfV4bvSqTCnBRtXZln1f/teK28j/eAAACAF8Y7yyh0NAyTwMNZ2aI0rTeyrfrA\n8XtR/QL2ycDRtzcuVjqBo1EnJTFWJfm+T769XulWA58ehwu3x6NDAdsKXl9bqKwFiTZ2NHu7K/3D\n9vrWPl0OCKQFAAAvhiFDlGlpH9CZwCTw6vKwSQIPZ3uq/P+dbzf16Kf66N2DHhg4mpoUq7c3Ftnc\nEeyyImDLxE1yGcLGmR/b1Nrpy5dJjHfp/S3FNnc0e5npCXpjXYFVH6qp49QTAABeEkOGKHPoZN3U\nJPCAF/mYO3kLk7QjIPfiwPFaeaJwNcPQE4GjHxE4GtVWEv4YdkbH3VOOenx3U7FSkyJjJdL7W0qs\nf48edg3p1PXWGe4BAACehiFDFImEJPBwtmtbieJifZdcc/uAvr/x0OaO5t9ngYGjCwgcjXblBemK\nj3VJktp7RvSoZ9jmjjCTby7dV8/AmCQpPSVOv4igo49TEmOnrMr45HS9RsYmbOwIAIDwxJAhSni9\nXh04cc+qwzkJPFylp8Tr7Q3+rQGHa+o0PuG2saP59bPA0SoCR6NdjMspo2iBVd+M4m1E4WBgeFyf\nn2+06t3bS60hUaR4c12hMlLjJUl9g2P63cX7NncEAED44RV+lPjhbodqW3ynGoR7Eng4e2dTkVIS\nYyVJnX0jOn6lxeaO5s8nAYGjxQSOYlJgLgNbJkLbb882aHjUNxjNW5ik7avybe4o+OJiXdq13X/a\nzRffN6lvaMzGjgAACD8MGaLAk0ngO9eEfxJ4uEqMj9GH20qs+tOzDRoaifzluC0dgzpN4CieoqIk\nw/r1rYZueTzRl1USDjp6hvXdFf9KpL1V5XI5I/MlxLZX87QoK1mSNDLm1m/PNNjbEAAAYSYyXyFg\nitPXW6ckgX+wNfyTwMPZzjUFykpPkCQNjkzoi+8bZ7hH+Dt0otYfOFq6cMqn14hui7KStSDFFxw4\nNDqh+rY+mzvC0xw5Va8Jt+8iLi9I09plWTZ3NHdcTqf2VvlX+x3/oYW8EAAAXgBDhgg3Ou7W0dP1\nVh1JSeDhKsbl1J6AF7C/u3hf3f2jNnY0twIDRyVpXzWBo/BzOBxTj7IklyHkND3s1/kbbVa9v3qJ\nHBG+Emn1kiwtKUyXJLk9Xh2tqZvhHgAA4DGGDBHum0v31RuYBL4+cpLAw9nG5bkqyk2RJI1NePRJ\nwCAokni9Xh084d+qQ+AonqZiSi5Dt42d4GkOnazT400sq5dkadniBdN+fSRwOBz6ZfUSqz5/86Ea\n2/pt7AgAgPDBkCGCPZkEvmt7qeLjIisJPFw5HQ7tD3gBe+r6A7V2DtrY0dy4erdD91p6JUkuJ4Gj\neLoVAbkMtS29HBsYQm41duvHuk5JksOhKauwIt2SwnStWerfFnIw4IQmAADwbAwZItiTSeCVEZgE\nHs4qShdab668Xt+nhZHE7fHoYGDg6NoCZRM4iqdIT4lXYbZvZY/b45XZ1GNzR5Amjz4+7n9jvW1l\nvvX3FC32VpXr8c6QGw3dusF2HgAAZsSQIUJFUxJ4OAtczXDlTrv1qX8kOPNjmxU4mhDn0odbS+xt\nCCGtotS/moGjLEPDJbNdDZNbBGJjnNpdWTrDPSLPoqzkKQP6gydq5fFyAgoAANPhXWeEmpIEviiy\nk8DDWXFeqjatyLXqA8fvyRsBL2BHx906esq/MuPdzQSOYnqBuQw3yWWw3YR76tHHb64r1MK0BBs7\nss+u7WWKi/G9XGp82K+Ltx7Z3BEAAKGNIUME+lkS+M7ITwIPZx/vKJPL6fv7udvcq2v3Om3uaPa+\nuXRfPY8DR5Pj9BaBo5jB0sULFOPyXQcPOgbV1Tdic0fRrebaAz3q9h3bmBQfo/e2RO/Rxxmp8frF\nBv+/YYdrajXh9tjYEQAAoY0hQwSKxiTwcJazIFHVawqs+uDJWnk84buawRc42mTVBI7iecTHurS0\n0P9vFasZ7DMyNqFjASfevL+1WMkJsTZ2ZL93NxUpOSFGktTeM6ITP7TY3BEAAKGLIUOEieYk8HD2\n4bYSJUy+EX/QMagzP7Xa3NHL8wWO+k4HyF2YpMrXCBzF8wk8ZeImuQy2+frCffUNjUuSFqbF6811\nhTZ3ZL+khFh9EJArc+yM/985AAAwFUOGCEISePhKS4rTO5uKrProqXqNjbtt7OjldPRODRzdV1VG\n4CieW0VpYC5DFwF7NugbHNMXF/wrkXZvL1NsDCuRJOn1tQXKTIuX5Fux9VXAfycAAODHq/8IEpgE\nHuOKziTwcPbWhsVKS/aFI3b3j+rby80z3CP0HA0IHC1blKa1y7Jt7gjhpCg3VSmJvmX5fUPjan40\nYHNH0efTMw0aHfMNOAuykrV1ZZ7NHYWO2BiXPt7hXx341YX76h0YtbEjAABCE0OGCPGzJPD10ZsE\nHq4S4mK0a1uJVX92rlEDw+P2NfSC7j8a0LmfAgJHq8sJHMULcTocT2yZIJdhPj3qHtKJq/6sgb3V\n5XI6uYYDbV6RZ60QHB1369iZBnsbAgAgBDFkiBBPJoG/H8VJ4OGs8rVFys1IlCQNjU7o8/ONNnf0\n/A6eqLUCR18rz5RRlDHt1wNPsyLgKMsb5DLMq8M1dXJPhs4uW7xAr5Vn2txR6HE6HdpXXW7VJ68+\nUFvXkI0dAQAQehgyRACSwCNHjMupvVX+F7DfXGpWZ2/oH+U3JXBUvk9AgZdRETBkuHO/R+MT4ZdN\nEo4a2vp04dYjq2Yl0rO9WrZQrxT5TkLxeL06XFNnc0cAAIQWhgwRIDAJPCM1Xm+sJQk8nK0zslWa\nnybJtw3m6OnQfgHr9Xp18IQ/cHTrq3kEjuKlZaYnKHdhkiRpfMKjO829NncU+Xyhwf7tduuWZau8\nIN3GjkKbw+HQ/p1LrPrS7Ueqe9BnY0cAAIQWhgxh7mdJ4JWlioslCTycORwO7Q9YCXD2xzY1tIbu\nC9jLZrvqWwMCR7dzbCpmpyIwl6GeLRNz7UZDl241+vIvnA4HRx8/h9L8NK1/JceqDxy/Jy+noQAA\nIIkhQ9h7Mgl828p8mztCMLxSnKFVk/uhvZL+0+c37W3oGZ4WOJqZTuAoZqeCXIZ54/F6dTBgFcOO\n1/KVn5lsY0fhY++OMjknt5SY93v0Yx3fqwAASAwZwhpJ4JFtb1W5Hv9tXrz5UGZT6CXtn7r2QA8D\nAkff20zgKGbPKMqw3rw1PRxQ39CYzR1Frgs3H6pp8qjQuFinPtrO0cfPK3dhkqpWL7LqgyfuyeNh\nNQMAAAwZwtiUJPDCdJLAI8zinBRtCTij/sCJ2pBajjsyNqFPAo5ve39LsVISCRzF7CUlxKisIM2q\nb3GU5ZwYn/BMCS18a8NiLUiJt7Gj8PPRthLFT25RbG4f1LkbbTPcAwCAyMeQIUw9mQS+b+cSksAj\n0O7KUsViPkrsAAAgAElEQVS4fH+vdQ/6dOVOu80d+X198b76Bn2fMGekxuuNdQSOInjYMjH3TvzQ\noo7J02tSEmP1zkZWIr2o9JR4vb1xsVUfPVXHiSgAgKjHkCEMPS0JfAlJ4BEpKz1xypv3gyfr5PZ4\nbOzIp29wTF98HxA4up3AUQRX4JDhZkNXSK3iiQRDIxP69GyDVX+wtURJCTH2NRTG3t5YpNQk3yqu\nzr5RfXelZYZ7AAAQ2RgyhCGSwKPL+1tKlDz54v9h15BOXWu1uSPp07NPBI6+SuAogqt0UaoS432D\nq66+UbV1DdncUWT58kKTBoZ9Rx9npSdo55oCmzsKX4nxMfpwa4lV//Zsg4ZGxu1rCAAAmzFkCDNP\nJoFXkgQe8VISY7X39aVW/cnpeusNvh0edQ/pxA8BgaNVBI4i+FxOp14pCjjKklyGoOkZGNXXF/0r\nkT7eUabYGF4OzEb1mgJlL/CdrDM4MqHPzzfNcA8AACIXryrCzJQk8BinPtpGEng0+LCyTAtS4iRJ\nvYNj+vrSfdt6OXKq3gocXVqYrteWEDiKubEiMJehnlyGYDl2ul5j475tV4tzUrRpRa7NHYW/GJdT\ne3aUW/XvLt1Xd/+ojR0BAGAfhgxh5GdJ4BsXKyOVJPBokBAXo92V/m0xX5xvVL8Nx/o1tPXp+5sP\nrXp/NYGjmDsVpf4hw+2mbk247c8jCXetnYOqCdhytb+63DouFLOzYXmOinNTJfl+Xn9yum6GewAA\nEJkYMoQRksCj27ZX85SfmSRJGhlzTwltmy8HT/i36qxdlq0lhQSOYu7kZiQqM803SB0Zc6vuQZ/N\nHYW/wzV18kyGaC4vzpgyyMHsOB0O7dvpX81w6nqrHnQM2tgRAAD2YMgQJkgCh8vp1L4q/wvY41da\n1N4zPG/Pf6O+y9oX73BIewkcxRxzOBxT3gTf5CjLWalt6dVl038M7r7qclYiBVlFyUJVlPiyRLxe\n6dDJ2hnuAQBA5GHIECYCk8Az00gCj1arl2ZZx5W6PV4dOTU/y3E9Xq8OnLhn1ZWrFhE4inkxJZeB\nIcNL8x197L+GNy7PUWl+mo0dRa591UusX/9wt0N3m3ts7AYAgPnHkCEMPJkEvock8KjlcDi0P2A5\n7vkbD9XY1j/nz3vh5kM1PfQHju7aTuAo5seKkoV6/Fl7/YN+DY1M2NpPuLpe26k7zb2SJJfToY93\nsBJprhTnpWpzQJjmgRO18k5uUQEAIBpM+07VMAynYRj/zjCMs4ZhHDcMo/yJ239lGMaVydt//cRt\nOYZh3DcMY9lcNB5NfpYEXkESeDRbWrhAa5ZmWfXBOV6O+2Tg6C82EDiK+ZOSGKuiPF+Ynsfr1e0m\njrJ8UR6Pd8q/E9WrC5SbkWRjR5Fv944yuSaP9r3X3Kurdzts7ggAgPkz08fhuyXFmaa5VdKfSfqr\nxzcYhpEp6S8kvS5pm6RdhmGsmbwtVtK/l0Ti0SyRBI6n2VNVrsffBjfqu+Z0GfmJq/7A0eSEGL27\nicBRzK8KtkzMytmf2tTS7vtxHB/n0ofbSuxtKArkLEicsq3x4MlauT2cjgIAiA4zDRm2SfpSkkzT\n/F7S+oDbyiVdM02zxzRNr6TzknZM3vavJf3fklqFWSEJHE9TkJWs7a/mW/XBE7XW90kwDY9O6NMz\nDVb9IYGjsMHjID3JN1TD8xsbd0/JbnlnY5HSkuNs7Ch6fLCtRAlxLklSa+eQzvzYZnNHAADMj5mG\nDGmSAs8McxuG8fg+dyVVTG6LSJL0hqRkwzD+oaR20zS/nvw6PnZ/SSSBYzq7tpda2RyNbf26dPtR\n0J/ji++fCBxdWxj05wBmsqRwgeImv9cfdQ+rYx5PVQl3311pUXf/qCQpLSlWb21YbHNH0SMtKU7v\nbiqy6k9O12t03G1jRwAAzI+ZPpLsk5QaUDtN0/RIkmma3ZM5DIckdUq6IqlD0u9L8hqG8aak1ZL+\no2EYu0zTfDjdE2Vnp053c9Txer36q/92zaorVxdo4ypOlIhmT14j2dmp2rWjXAe/uytJOnq6Xm9t\nDV4oaFffiH536b5V/48frNCi/PSgPDbwolaWZ+mK6RukNXUOafnSnJ99DT9HphoYGtPn5xut+h+8\ns1xFhRnT3APB9g/eXaHjVx+op39U3f2jOnfrkfa/YV9UFdcI8GxcH0DwzDRkOCPpQ0kHDMPYLOn6\n4xsMw4iRtN40zUrDMOIlnZT0l6Zp/m3A1xyX9I9nGjBIUnv73Cfkh5Nr9zp0o65Tki8J/L1Ni/lv\nFMWys1Of+vdfvSpPX5yt1+DIhNo6h3ToG1NvrAvOaoP/9JWp0THfp26Lc1K0YnE634OwzdKCNGvI\ncP7HVq0tz5xy+7OukWh24Pg9ayVSTkai1pYv5L+RDT7cWqL//JUpSTrw7V2tX5qllMTYee+DawR4\nNq4PYHovOoSb6SPPI5JGDMM4I1/o468nT5T4Q9M0J+TbPnFZ0ilJf2uaZt10D4bn82QSeNXqRSSB\n46mSEmL1/pYSqz52pl7Do7M/4q+ta0g1Vx9Y9T4CR2GzwPDHWw1d8ng4EnA6vpVIzVa9Z0eZYlwc\nfWyHylX5yl3o+xk+PDqhz8412NoPAABzbdqVDJOBjn/0xG/fCbj9N5J+M839d86quyj18yTwUps7\nQih7Y12Bvr18X519o+ofGtdXF5q0u7JsVo956KQ/SPKVogVaSeAobFaQnaz05Dj1Do5pcGRCjQ/7\nVZqfZndbIevo6XpNuH2nGZTkpWr9Kz/fXoL5EeNyau+OMv3N0Z8kSd9ebtYb6wqVlZ5oc2cAAMwN\nPtYIMU9LAk8nCRzTiI1xTRkqfHXhvnoHRl/68Z4MHN2/cwmBo7Cdw+HQioBTJm5ylOUztbQP6MyP\nHH0cStYZ2dZQbMLt1dFT9TZ3BADA3GHIEGJIAsfL2FKRp8LsZEnS6Lhbx842vNTjeL1eHTjh36qz\n4ZUcPi1GyFgRsGWCoyyf7dDJOj0+0XZl2UItL2Elkt0cDod+ubPcqs/91Kb7jwZs7AgAgLnDkCGE\nDI6MT9mr+eG2UiXGz5TNCUhOp0P7qv0vYGuuPtDDrqEXfpwf6zp1536PJF/g6J4ds9t2AQRT4JDh\nbnOvFUwKvzv3e3T1Xock3/nR+6rKp78D5o1RlKFVk4GlXvm2pQEAEIkYMoSQz881anDEF9qXsyBR\nVasX2dwRwsmrZZkyFi+QJLk9Xh2uebEcVo/Hq4MBqxh2rF5khZUBoSAjNV4FWb4VO26PV+bkQAw+\nvpVI96x6c0WuinI5ki2U7Ksq1+ONK9drO3W7sdvWfgAAmAsMGULEz5LAq0gCx4txOBzaF7Ac9+Lt\nR6pv7Xvu+5+70abmx4GjsS59ROAoQlDgagZyGaa6cqdDtS2+az7G5dDHswyARfAV5qRo68o8qz5w\nolZeLyelAAAiC+9iQwRJ4AiG8kXpWm9kW/WB4/ee6wXs+MTUwNG3Ny4mcBQhqSLgpJMbDBksbo9n\nyvL719cWKmsBpxeEot2V/g8R6lv7pgTtAgAQCRgyhACSwBFMe6r83z+3m3r003ME5H17uUVdfb7A\n0dSkWL29sWhOewRelrF4gWJcvu/vlvZB9cziJJVIcvp6q9omc1gS4116f0uxzR3hWTLTE/TmukKr\nPnSy1vqQAQCASMCQIQRMSQIvJQkcs5O3MEk7AvI8DhyvlWea1QxDTwSOfkTgKEJYfJxLSwrSrZot\nE74TZY6e9h+J+O6mYqUmsRIplL23pdj6d/Zh97BOXW+d4R4AAIQPhgw2+1kSeDVJ4Ji9j7aVKC7W\nd3k3tw/o/I22Z37tZ+cJHEV4mXqUJcF5v7t4X70DY5Kk9JQ4/WI9Rx+HupTE2CmrTT45Xa+RsQkb\nOwIAIHgYMtiIJHDMlQUp8Xp7g3/Lw5GaOo1P/Py4v66+EX1D4CjCTGAuw83GrqgOzusfGtMX3zda\n9e7tpYqPc9nYEZ7Xm+sKlZEaL0nqGxzT1xfv29wRAADBwbsJG/1wlyRwzJ13NhUpJTFWktTZN6rj\nV1p+9jWfnK7X+IRvL3AxgaMIE8W5qUpO8C017x0YU0vHoM0d2eezc40aHvUNEPMWJmn7qnybO8Lz\niot1afd2/yk+X3zfpL6hMRs7AgAgOBgy2OTJJPCda0gCR3Alxsfow20lVv3p2QYNjfiX47Z0DOo0\ngaMIQ06nQ8uLM6z6xnOEm0aijp5hfXfFvxJpb1W5XE5+rIeTra/maVFWsiRpdMyt355psLchAACC\ngFcjNjl9vVWtnf4k8A+2kgSO4KteXaCs9ARJ0uDIxJRl1YdO1FqBoxWlC6fscwdC3QqOstSRU3Wa\ncPsu4vKCNK1dlmVzR3hRLqdTe6v8qxiP/9CiRz3DNnYEAMDsMWSwAUngmC+xMU7tCXgB+7uL99Xd\nPzolcFTyrWIAwklFwFDsTlPPUzNHIlnTw36dv/HQqvdXL5GDlUhhafWSLC0p9J2Y4vZ4daSmzuaO\nAACYHYYMNvjmEkngmD8bl+eqKDdFkjQ24dEnp+t08IR/qw6BowhH2QsSlZPh22I2NuHRrShbzXDw\nZK0ex12uXpKlZYsX2NoPXp7D4dAvq5dY9fc3H6qxrd/GjgAAmB2GDPNsYHhcn5/3L1nfRRI45pjT\n4dD+gBewNddada+lV5LkchI4ivAVuJrh6p12GzuZX7cauvRTnW+o4nBoymolhKclhelas9S/3eVg\nwMlTAACEmxi7Gwi2geFxNT0M3U8Azt94OCUJvJIkcMwDX+ZChm42dE/5/Z1rC5RN4CjC1IqShTr+\ng+/UlB/utOvdDZG/Kszj9epAwEqkbSvzVZidYmNHCJa9VeW6eq9DXq90o6Fbx680K3dhUtAef0H3\niHp6h4LyWE6HQ8V5qUqMj7iXkQCAIIionw4POgb1L/7uoibcHrtbeS4kgWM+7a9eon/59xetOiHO\npQ+3ltjXEDBLy4sXyOGQvF6ptrlHA8Pj1rGtkerS7UdqmFxKHxvj1O7K0hnugXCxKCtZlavyVXPN\nd+rPf/76js0dTS8rPUH/4vc3Kikhol5KAgCCIKLe4bZ0DIbNgKF8EUngmF/FeanatCLXqt/dVETg\nKMJaUkKsyvLTJPkGDbcau2e4R3ibcHt0+KQ/FPCNdYVamJZgY0cItl3byxQXEx4vzTp6R6acWAQA\nwGMRNX5evSRLH2wtVm1Ln92tTCs1KVb7qspJAse8+x/eNpSUEKPkhFi9t4VjUxH+VpQsVO0D37/5\nN+o7teGVHJs7mjs11x5Yxxsmxcfofa7hiJORGq8//vhVfXelWeMTwf3QJDbWpfHx2Z/CMjbutq65\n3128r9fXFiojNX7WjwsAiBwRNWSIjXFqzw6O4gOeJTE+Rv/9W4bdbQBBU1G6UJ+ebZAk3ajvltfr\njcgB7vDohI4FHH38/tZiJSdE9taQaLWqPFOryjOD/rjZ2alqb599ZpXH69Vv/v6SGh/2T55YVK9/\n+O4rQegQABApwmNNHgAAT1G2KM06oaezb0SPuodt7mhufH3xvvqGxiX5Pu1+Y22hzR0hWjkdDu3b\n6f9A59T1B2rtHLSxIwBAqGHIAAAIWzEup5YXZVj1jYYuG7uZG72DY/ryQpNVf1xZprhYjj6GfSpK\nFqqixHfdeb3SoYCsEAAAGDIAAMLaipKAIUN95A0ZfnumQaNjvr30BVnJ2royz+aOAGlf9RLr11fu\ntOteS6+N3QAAQglDBgBAWKsoXWj9+nZTt9ye8Dhl6Hk86h7SiastVr23ulxOZ+RlTiD8FOelanPA\niUUHjt+T1+u1sSMAQKhgyAAACGt5C5OUle47ynF41K361tmH24WKwzV1cnt8b9yWFabrtTkIBARe\n1u4dZXJNDr3uNvfq2r1OmzsCAIQChgwAgLDmcDi0epn/6MqbEbJlor61TxduPbLq/TuXROTJGQhf\nOQsStXNNgVUfPFkrj4fVDAAQ7RgyAADC3upl2davf4qA8Eev16uDJ2qtet2ybJUXpNvYEfB0H2wr\nUcLkCS8POgZ15qdWmzsCANiNIQMAIOy9ttQ/ZKhr6dPw6ISN3czejYYu3WrsluQ7MnBPVZnNHQFP\nl5YUp3c3FVn10VP1Ght329gRAMBuDBkAAGFvQWq8inJTJEker1e3m7pt7ujlebxeHTzuX8VQ+Vq+\n8jOTbewImN5bG4qUlhwnSeruH9W3l5tt7ggAYCeGDACAiFBR4j9l4mZ9+A4Zvr/5UE2PBiRJcbFO\n7dpeanNHwPTi41xTvk8/O9eogeFxGzsCANiJIQMAICKsCDjK8kaY5jKMT3h0pKbOqt/asFgLUuJt\n7Ah4PpWr8pW7MEmSNDQ6oc/PN9rcEQDALgwZAAARYVlhumJjfD/W2rqG1NU3YnNHL+7EDy3q6PX1\nnZIYq3c2FtvcEfB8YlxO7d3hzw755lKzOnvD7xoEAMweQwYAQESIjXFpWaH/BIYbYXaU5dDIhD49\n22DVH2wtUVJCjH0NAS9onZGt0vw0SdKE26Ojp+tmuAcAIBIxZAAARIxw3jLx5QX/Pvas9ATtXFNg\nc0fAi3E4HPrlznKrPvtjm5on80UAANGDIQMAIGJMCX9s6JbH67Wxm+fXMzCqry/ct+qPd5RZWz+A\ncGIUZWhVeaYkySvp0Mna6e8AAIg4vIIBAESMwpwUpSbFSpIGhsd1/2F4fIp67HS9xiY8kqTFOSna\ntCLX5o6Al7e3qlyOyV9fq+2UGcZHygIAXhxDBgBAxHA6HFNWM4TDlonWzkHVXGu16v3V5XI6HNPc\nAwhti3NStHVlnlUfOFErb5isKgIAzB5DBgBARFkROGQIg/DHwyfrrG0dy4szVBGQKwGEq92VZYpx\n+V5m1j3o05U77TZ3BACYLwwZAAARJfBN+t3mXo2Nu23sZnq1Lb26HPDma191uRysYkAEyExP0Bvr\n/OGlB0/Wye3x2NgRAGC+MGQAAESUjNR45WcmSfIdo3enucfmjp7O6/XqwPF7Vr1xeY51/B8QCd7f\nUqLEeN8xrA+7hnQqYFsQACByMWQAAEScKadM1Idm6Nz12k7dae6VJLmcDn28o8zmjoDgSkmM1ftb\niq36k9P1Gh0L3ZVFAIDgYMgAAIg4K0pDO/zR4/HqYMDRftWrC5SbkWRjR8DceHNdoTJS4yVJvYNj\n+vrS/RnuAQAIdwwZAAARx1i8QC6nL9vg/qMB9Q6O2dzRVGd/alNL+6AkKT7OpQ+3ldjbEDBH4mJd\n2rW91Kq/ON+o/qHQuh4BAMHFkAEAEHES42NUvsifb3AzhFYzjI27deRUnVW/s7FIaclxNnYEzK1t\nr+ZZOSkjY259erbB3oYAAHOKIQMAICIFnjJxM4SOsvzuSou6+0clSWlJsXprw2KbOwLmlsvp1L7q\ncqs+fqVF7T3DNnYEAJhLDBkAABHpyVwGr9drYzc+gyPj+uxcg1V/tL3USt8HItnqJVlaUpguSXJ7\nvFNW8wAAIgtDBgBARCrNS1PS5Bv4noExPegcsrkj6fNzjRocmZAk5WQkasdri2zuCJgfDodD+wNW\nM5y/8VCNbf02dgQAmCsMGQAAEcnpdGh5cYZV271loqtvRL+71GzVe3aUKcbFj2FEj6WFC7RmaZZV\nB56wAgCIHLy6AQBErFA6yvLo6XpNuD2SpJK8VK1/JcfWfgA77K0ql8N38Itu1HfZfl0CAIKPIQMA\nIGJVlPhXMphNPdab/PnW0j6gMz+2WvX+6nI5H7/TAqLIoqxkVa7Kt+qDJ2rlCYG8FABA8DBkAABE\nrJyMJGWlJ0iSRsfdqm3ptaWPQyfr9Ph91MqyhVpesnD6OwARbNf2MsXG+F6CNrb169LtRzZ3BAAI\nJoYMAICIVmHzlok793t09V6HJMkhaV9V+fR3ACJcRmq8frHef3TroZO1tq0yAgAEH0MGAEBEqwhY\nNXCjvnten9vr9erAiXtWvbkiV0W5qfPaAxCK3ttcpOQE3+kv7T0jOnn1gc0dAQCChSEDACCiLS/J\nsILmGtr6NDgyPm/P/cPdDtW29EmSYlwOfVxZNm/PDYSypIRYfbC1xKqPnanX8OiEfQ0BAIKGIQMA\nIKIlJ8SqJC9NkuT1Srca5mc1g9vj0aGAI/peX1uorAWJ8/LcQDh4fW2BMtPiJUn9Q+P66kKTzR0B\nAIKBIQMAIOJVlPpPmbg5T7kMp6+3qrVzSJKUGO/S+1uK5+V5gXARG+PS7oDVPV9duK/egVEbOwIA\nBANDBgBAxJuSyzAPQ4bRcbeOnq636nc3FSs1KW7OnxcIN1sq8lSYnSzJd90cO9tgb0MAgFljyAAA\niHjlBemKj3VJ8oXMPeoZntPn++bSffUOjEmS0lPipiTpA/BzOh3aV73EqmuuPtDDriEbOwIAzFbM\ndDcahuGU9DeSVkkalfQHpmnWBtz+K0l/KmlE0gHTNP/aMIxYSf+vpGJJ8ZL+N9M0P52j/gEAmFGM\nyymjaIGu13ZKkm7WdylnTcGcPFf/0Jg+P99o1bu3lyo+zjUnzwVEglfLFuqVogW63dQjt8erwzV1\n+qPdK+1uCwDwkmZaybBbUpxpmlsl/Zmkv3p8g2EYmZL+QtLrkrZJ2mUYxhpJvyep3TTNHZLekfRv\n5qJxAABexIp52jLx2blGDY+6JUl5C5O0fVX+nD0XEAkcjqmrGS7efqT61j4bOwIAzMZMQ4Ztkr6U\nJNM0v5e0PuC2cknXTNPsMU3TK+m8pB2SDkj684DH5zwiAIDtKkr9Q4ZbDd3yeLxBf46OnmF9d6XZ\nqvdWlcvlZGciMJOyRWlab2Rb9YHj9+T1Bv8aBQDMvZle+aRJChwluye3UEjSXUkVhmHkGIaRJOkN\nSUmmaQ6apjlgGEaqfAOHfx70rgEAeEGLMpO0IMUXvjg0OqH6tuB/UnrkVL0m3L43RuUFaVq7LCvo\nzwFEqr1V5XI6HJKk2009+ql+fk6CAQAE17SZDPINGFIDaqdpmh5JMk2z2zCMX0s6JKlT0hVJHZJk\nGMZiSYcl/VvTNP/r8zSSnZ068xcBUYxrBJje81wja1/J1XeX7kuSGh8NavNrhUF7/voHvTp/s82q\n/3D3KuXkpAXt8YHZCvWfI9nZqXp7S7G+mDxh4sipelVvKJbT6bC3MUSFUL8+gHAy05DhjKQPJR0w\nDGOzpOuPbzAMI0bSetM0Kw3DiJd0UtJfGoaRK+lrSX9smubx522kvb3/hZsHokV2dirXCDCN571G\nyvNT9d3kry/caNPrqxcFrYe/PXJdj1d3r16SpZzUOK5bhIxw+Tny1toCfXuxSWPjHjW09unTk3e1\ndSW5Jphb4XJ9AHZ50SHcTNsljkgaMQzjjHyhj782DONXhmH8oWmaE/Jtn7gs6ZSkvzVNs07S/yIp\nXdKfG4ZxfPJ/CS/8JwEAIMgCwx9rW3o1Mhac2KBbDV36qc63tNvhkPZUlQXlcYFok54Sr7c3FFn1\nkZo6jU+4bewIAPCipl3JMBno+EdP/PadgNt/I+k3T9znTyT9SbAaBAAgWNKT41SYnaLm9gG5PV6Z\nTT16bcnschO8Xq8OnLBOd9a2lfkqzE6ZbatA1HpnU5FOXG1R/9C4OvtGdfxKi97aWDTzHQEAIYHI\nawBAVKkozbB+HYyjLC/efqSGNt8y29gYp3ZXls76MYFolhgfow+3llj1p2cbNDTCYWUAEC4YMgAA\nokpFwJaJmw3ds3qsCbdHh0/WWfWb6wq1MI0dgsBsVa8pUFa671oaHJnQF9832twRAOB5MWQAAESV\npYsXKMblS6t/0DGorr6Rl36smmsP9KhnWJKUFB+j97YUB6VHINrFuJxTsk1+d/G+uvtHbewIAPC8\nGDIAAKJKfKxLSwsXWPXLrmYYGZvQsdP1Vv3+1mIlJ8TOuj8APhuX56o415doPjbh0ScB1xsAIHQx\nZAAARJ2K0sAtEy+Xy/D1hfvqGxqXJC1Mi9eb6wqD0hsAH6fDoX07y6361PUHau0ctLEjAMDzYMgA\nAIg6U3MZuuTxel/o/n2DY/riQpNV795eptgYV9D6A+BTUbJQFSW+sFavVzoYcJILACA0MWQAAESd\nxbkpSkn0bW3oGxpX86OBF7r/p2caNDrmliQVZCVr68q8oPcIwGdf9RLr1z/c7dC95l4buwEAzIQh\nAwAg6jgdDq0o8R9l+SK5DI+6h3TiaotV760ul9PpCGp/APyK81K1aUWuVR84cU/eF1x9BACYPwwZ\nAABRaUXAlokbL5DLcLimTm6P7w3OssUL9Fp5ZtB7AzDVxzvK5Joc5t1t7tW1e502dwQAeBaGDACA\nqBSYy3Dnfo/GJ9wz3qe+tU8Xbj2y6v3V5XI4WMUAzLWcBYnauabAqg+erJXb47GxIwDAszBkAABE\npcz0BOUuTJIkjU94dGeGfd5er3dK6Ny6ZdkqL0if0x4B+H2wrUQJcb6A1Qcdgzr7Y5vNHQEAnoYh\nAwAgaq0MPGWifvotEzcaunSr0Zfd4HQ4tKeqbE57AzBVWlKc3tlUZNVHT9drbHzmFUgAgPnFkAEA\nELVWlPrDH6fLZfB4vTp43L+KYcdr+crPTJ7T3gD83NsbipSWHCdJ6u4f1beXm23uCADwJIYMAICo\n9UpRhpyTmQpNDwfUNzT21K/7/uZDNU0ecxkX69RH20vnrUcAfvFxLu0KuP4+O9eogeFxGzsCADyJ\nIQMAIGolxseorCDNqm895SjL8QmPjtTUWfVbGxZrQUr8vPQH4OcqV+UrNyNRkjQ0OqHPzzXa3BEA\nIBBDBgBAVKuY4SjLEz+0qKN3RJKUkhirdzYWz1tvAH4uxuXU3qpyq/7mcrM6J69RAID9GDIAAKJa\n4JDhZkOXvF6vVQ+NTOjTsw1W/cHWEiUlxMxnewCeYp2RrdJ83yqkCbdHR0/XzXAPAMB8YcgAAIhq\npYtSlRjvOxavq29UbV1D1m1fXmiy9ntnpSdo55oCW3oEMJXD4dAvd/pXM5z9sU3Nk7kpAAB7MWQA\nADewojUAABvtSURBVEQ1l9OpV4r8p0zcnMxl6BkY1dcXm6zf/3hHmWJj+LEJhAqjKEOryjMlSV5J\nB0/WTn8HAMC84NUSACDqVZQG5DLU+3IZjp2u19i4R5K0OCdFm1bk2tIbgGfbW1Uux+Svr9d2ymz6\neXgrAGB+MWQAAES9wFyG203dam4fUM21Vuv39leXW0ddAggdi3NStGVlnlUfOFE7JVcFADD/GDIA\nAKJeTkaiMtMSJEkjY2792yM/yTP5RmV5ccaUlQ4AQsvHlWWKcfle0tY96NNls93mjgAgujFkAABE\nPYfDoYpSfy7Dw4Dwx33V5XKwigEIWZnpCXpjnT+U9VBNnSbcHhs7AoDoxpABAABJK0p+vlph4/Ic\n65g8AKHr/S0lSoz3HS/7sGtIp6+3znAPAMBc4bBvAADkGzI45EuplySX06GPd5TZ2RKA55SSGKv3\nNhfp0Mk6SdJ//fauvvy+aYZ7IVwlxLm0q7JUa5Zm291K2LnX3Kv/8u0dDQ5P2N3KtIrzUvX7772i\nhDjeroYj/tYAAJDvTUpRXqoa2/olSdWrC5SbkWRzVwCe1y/WL9Z3V1rU3T+qsQmPHvUM290S5tB/\n+O1N/eU/2aqUxFi7Wwkb4xMe/ftjN9TZN2J3KzN61DOszPQE/XLnErtbwUtguwQAAJPe3VQkl9Oh\nnIxEfbi9xO52ALyAuFiXfu8XyzgJJkoMj7r127MNdrcRVo7/0BIWA4bHvrnUrK4w6hd+rGQAAGDS\nxuW5erUsU/GxLjmdvFEBws3aZdn6v/6kUv3DY3a3gjlyp6lHf/fFbUnSd1ea9eb6QmWlJ9rcVegb\nGpmYMpT5uLJUG1fk2tfQNP722A3Vt/7/7d17cJX3nd/x99FdQhIIkLDMVRLhMYsNNmCMQeYSO06M\nb5hLZ3Y73U12k2lnujOdzE63aZrZP3babTtpttt2uk2a7cbtbLqZcomvseMkNpeI2ARj4+DLQ5DE\nXdwvEkLodk7/OOLowIIE6MCjI71fM57RV895OB9k/UZ8v3qe59dGT2+cl7Y384dPz446km6RQwZJ\nktJceXicpOxUUpRHSZHreKSqGlfMtj3HaDzWSk9vgh9va+Zrz/5O1LGGvTfeO8jFjm4AJo4t4kuP\nTCc/b3he1L5uxUy+/fcfANCwt4UnF01lSmVpxKl0K4bnd5YkSZIkXSMWi7FuRV2qfvfj4xw60RZh\nouHvXFsnP/v14VS9ZlntsB0wAMyeXsEDtRMASCRg05bGiBPpVg3f7y5JkiRJukYwrYJ5dX1NKKR2\nFdH1vdLQTFdPHIBpVaXD9jaJdGuX13LlpsU9jWcID52LNI9ujUMGSZIkSVll7Yq6VBP6m6YzfHrQ\nJvR6Ws60s31PS6pet7IuKx6OOm1SGYvn3JOqN25pJJFIDHCGhhOHDJIkSZKyypTKUpY8kN6E7rcJ\nvY5NW5uI931dZk+vYM6M8REnunkvPFZDXm5yINJ4rJXd+05FnEg3yyGDJEmSpKyzur6WvNxkO9Pc\n0sau0CY03f6jF65qzNevrCOWBVcxXDFxXDGfnz8lVW/c2kRvPB5hIt0shwySJEmSss6EsUU8sbC/\nCd20tZGeXptQgEQiwcZ39qfqRbOrmHFPeYSJbs8zS2ZQXJgLwImzl9j+UcsgZ2g4cMggSZIkKSut\nWjydkr6th0+e62D7nmMRJxoe9jSeYd+RCwDk5sRYs6w24kS3p7Q4n1WLp6fql3/ZTGdXb4SJdDMc\nMkiSJEnKSqXF+Tz9aFoT2nCAy109ESaKXjyeuGrbxxUPTqaqoiTCREPzxMKpjC0tAODCxS7e2nV4\nkDMUNYcMkiRJkrLW4wumUFFWCEBrexdv7RzdTWjD3haOnm4HoLAgl2eXzog20BAV5ueyur4mVb/x\n7kHaLnVFmEiDccggSZIkKWsV5Oey+rG0JnTnIVrbR2cT2tXdy0vbm1P1U4umUT6mIMJEmVE/t5rq\nCcmrMS539fLajoMRJ9JAHDJIkiRJympL769m8sQxAHR29fLqjgPRBorIL3Yf4VxbJwDlJfk8uWhq\nxIkyIzcnh7XL61L127uPcOp8R4SJNBCHDJIkSZKyWk5O7KomdMsHRzl57lKEie6+ix3dvJ72G/7n\n6msoKsiLMFFmPfS5idRNTu6Q0RtP8OPtTREn0o04ZJAkSZKU9ebNnMDnpowFkk3o5m2jqwn9ybsH\nudSZfOhlVUUxy+bdG3GizIrFYqxfMTNVv/vxCQ4eb4swkW7EIYMkSZKkrBeLxVi/sr8J3fnpSQ4c\nb40w0d1ztvUyP991JFWvXV5HXu7Ia/VmTR3HgzMnpupNWxsHeLWiMvK+8yRJkiSNSjMnj2X+rMpU\nvXHL6GhCX9reTE9vHICa6jIWBpWDnJG91i6vJRZLfry3+SyfHDgbbSD9Aw4ZJEmSJI0Y6U3oJwfO\n8XHzyG5Cj5y6SMPellS9bsVMYle+ACPQ5MpSlj5Qnao3bGkknkhEmEjXcsggSZIkacSonjCGx+b2\nP49gw5b9I7oJ3bSlkSt/vftrxzN7ekW0ge6C1fU15OclW9mDx9vY9dnJiBMpnUMGSZIkSSPK8/U1\nFPQ1oYdOXGTnJyciTnRnhIfOsafxDAAxYF3aDhsj2fjyIp5YOCVVb97alLpdRNFzyCBJkiRpRKko\nK+QLD09N1Zu3NdHdM7Ka0EQicdUzJxbPuYdpk8oiTHR3rVo8nTFFyS06T57vYOuHxyJOpCscMkiS\nJEkacZ56pL8JPX3hMls+PBpxoszave80jceSu2fk5cZ44bGaiBPdXWOK8nn60Rmp+tWGZjr6tvBU\ntBwySJIkSRpxSoryeHbJjFT9asOBEdOE9sbjV23f+Pn5U5g4rjjCRNF4fMFkxpcXAtB6qZuf7jwU\ncSKBQwZJkiRJI9TK+VOYUF4EwMWObt54b2Q0ods/auH42UsAFBfm8vSj0yNOFI38vFxW19em6p/u\nPMyF9q4IEwkcMkiSJEkaofLzclizrL8JfevXhzh/sTPCREPX2dXLy79sTtWrFk+nrKQgwkTRWnL/\nPUyuHANAZ3cvrzY0D3KG7jSHDJIkSZJGrEfmTGJqVSkAXd1xXmk4EG2gIfrZrsNcuJj8bf3Y0gKe\nWDh1kDNGtpyc2FW7amz98Bgnzl2KMJEcMkiSJEkasXJiMdat6G9Ct314jJYz7REmun1tl7p4472D\nqXp1fQ2F+bkRJhoe5tZNYNbUcQD0xhNs3toUcaLRzSGDJEmSpBHt/prx3Dct2YTGEwk2b8vOJvS1\nHQfp6OwFoHpCCfVzqyNONDzEYjHWpw2Sfv3ZSZpbWiNMNLo5ZJAkSZI0osViMdavnJmq3w9P0Xj0\nQoSJbt2p8x28vftIql67vI7cHNu5K+omj2VBUJmqN7yzn0QiEWGi0cvvSkmSJEkjXk11OQ/fV5Wq\nN2xpzKom9KXtTfTGk3nrJpfz0OcmRpxo+FmzrJacWAyAzw6d5+PmsxEnGp0cMkiSJEkaFdYsqyU3\nJ9mE7jt8no8az0Sc6OYcOtHGux+fSNXrV8wk1tdMq1/1hDEsm9d/C8mGLY3Es2iQNFI4ZJAkSZI0\nKkwaX8KyB+9N1Ru3NqauDhjONm5p5ErKB2dOTD3kUP/Qc/U1FOQn29zDJy/yXtpwRndH3kAHgyDI\nAf4amAt0Al8Nw7Ax7fjvAv8SuAxsCMPwPw92jiRJkiRF5bmlNez4zXE6u3s5eqqdLe8fZu6Miqhj\n3dAnB86yt++y/1gM1i6vjTjR8DautJAnH57GazsOALB5WxML76siP8/fr98tg32lVwMFYRguAb4B\nfOfKgSAIJgB/AXweWAo8HwTBQ33nFF7vHEmSJEmK0tgxBXxx0dRU/XdvfkZ3T2+EiW4snkiwYUv/\n72uXPlDN5MrSCBNlh6cemUZpcT4AZ1ov884HRyNONLoMNmRYCrwJEIbhe8DCtGN1wJ4wDM+HYZgA\n3gWW9Z3zxg3OkSRJkqRIfXHRNMpKkk3o6fMd/OL94dmE7vrsJAePtwGQn5fD6vqaiBNlh+LCPJ5d\nMiNVv7bjAJcu90QXaJQZbMhQDqRvMNrbdzsEwG+BOUEQVAVBUAI8DowZ5BxJkiRJilRxYR7PLe1v\n2F//1QHaL3dHF+g6enrjbN7alKqfWDCF8eVFESbKLisemszEscmv18WObt5472DEiUaPAZ/JQHJY\nUJZW54RhGAcIw/BcEARfBzYBZ4DdwGlgwo3OGUhlZdlgL5FGNdeINDDXiDQw14h0tbVPBLy9+ygt\nZ9ppv9zDlj0tfPmZOVHHSnn9l02cPN8BQGlxPr//zBxKSwoiTpVd/uCZOXznh+8D8LNdR1j/hYAJ\nY4sjTjXyDTZkaACeBTYEQbAY+OjKgSAI8oCFYRg+FgRBIbAV+I8kBw3XPWcgp0613UZ8aXSorCxz\njUgDcI1IA3ONSNf3fP0MvvvyxwC8sr2JR2dXDYurBTo6e/i/P/0sVa9aPJ2O9k462jsjTJV9Zk8p\nZ1pVKYdOXqSru5cfvLKXP/jSfVHHyjq3OqQe7DaGHwOXgyBoIPkAx68HQfC7QRB8LQzDHpK3QrwP\nbAf+ZxiGTdc751b/EpIkSZJ0py28r4qZU8YC0N0T5+VfNkecKOmtXx+m9VLy9o3x5YU8vmByxImy\nU04sxrqVdal6+54WWs60R5hodIglEsNiX9iE03XpxvwNlDQw14g0MNeIdGPHzl3mW9/bASS3iPzz\nP3qEyRPHRJbnQnsX3/jur+jsTu548YerZlM/tzqyPNkukUjwn370IZ8ePAfA/FmV/PGaByJOlV0q\nK8tit/J6H8goSZIkadSaN6uSOTXjAUgkYFPalpFReLWhOTVgmFw5hiX33xNpnmwXi8VYn3Y1w+59\np9h/9EKEiUY+hwySJEmSRrX1K/qb0A/3n2bf4fOR5Dhx7hJbPzyWqtctryMn55Z+iazrmHFPOYtm\nV6Xqje/sZ5hc0T8iOWSQJEmSNKpNm1TG4jmTUvXGLY2RNKE/3tZEbzz5vrOmjmNu3YS7nmGkWrOs\nlty+gc2+IxfY03gm4kQjl0MGSZIkSaPeC4/1N6H7j17gg9+evqvv39zSys5PT6bq9SvqiMW8iiFT\nqipKWPFg/wM0N21pJB73aoY7wSGDJEmSpFGvclwxK+enNaFbG+mNx+/KeycSCTa8sz9VL5hVSd3k\nsXflvUeTZ5fOoLAgF4Cjp9tp2NsScaKRySGDJEmSJAHPLplBUV8T2nLmEg2/OX5X3vfj5rN8dij5\nHIicWIw1y2vvyvuONuVjCnhq0bRU/dL2Zrr6HrKpzHHIIEmSJElAWUkBTy2enqpf2t6U2unhTokn\nEmxI29Fi2bxqqidEt4XmSPfkoqmUl+QDcK6tk1/sPhJxopHHIYMkSZIk9Xly4VTGjikA4PzFLn6+\n6/Adfb/3Pj7B4ZMXASjIz+G5+po7+n6jXVFB3lVf49d3HORiR3eEiUYehwySJEmS1KewIJfn05rQ\nn7x755rQ7p44m7c1peonH57KuNLCO/Je6rds3r1UVRQDcKmzh5+8ezDiRCOLQwZJkiRJSvPYvGom\njS8BoKOzl9d2HLgj7/POB0c503oZgNLifJ56ZPogZygT8nJzWLu8LlX/fNcRzvb9f9DQOWSQJEmS\npDS5OTmsS3v44tu7j3D6QkdG3+PS5Z6rhhfPLplBcWFeRt9DN7YwqKSmugyAnt44L21vjjjRyOGQ\nQZIkSZKuMX9WJbX3lgPQ05vIeBP65s7+2zAmji1ixUOTBzlDmRSLxVi3YmaqbtjbwpFTFyNMNHI4\nZJAkSZKka8RiMdav6L+k/ld7j3PoRFtG/uxzbZ28tbP/gZIvLKslP8/W7G6bPb2C+2vHA5BIwKa0\nXT50+/xOliRJkqTrCKZVMK9uAgAJYNPWpoFPuEmvNDTT1RMHYFpVKY/8zqSM/Lm6deuW1xHr+3hP\n4xnCQ+cizTMSOGSQJEmSpBtYu6K/Cf1N0xk+PTi0JrTlTDvb97Sk6nUr68iJxQY4Q3fStEllLJ5z\nT6reuKWRRCIRYaLs55BBkiRJkm5gSmUpSx5Ib0L3D6kJ3by1iXjf+bOnVzBnxvghZ9TQvPBYDXm5\nyUFP47FWdu87HXGi7OaQQZIkSZIGsLq+lrzcZOvU3NLGrvDUbf05+49e4P19/eeuX1lHzKsYIjdx\nXDGfnz8lVW/a2khvPB5houzmkEGSJEmSBjBhbBFPLLy6Ce3pvbUmNJFIsPGd/al60ewqZtxTnrGM\nGppnlsyguDAXgONnL7H9o5ZBztCNOGSQJEmSpEGsWjydksI8AE6e62D7nmO3dP6exjPsO3IBgNyc\nGGuW1WY8o25faXE+qxZPT9Uv/7KZzq7eCBNlL4cMkiRJkjSI0uJ8nn40rQltOMDlrp6bOjceT1y1\nPeKKBydTVVGS8YwamicWTmVsaQEAFy528bNdhwc5Q9fjkEGSJEmSbsLjC6ZQUVYIQGt7F2/tvLkm\ntGFvC0dPtwNQWJDLs0tn3KmIGoLC/FxW19ek6jfeO0jbpa4IE2UnhwySJEmSdBMKrm1Cdx6itX3g\nJrSru5eXtjen6i8tmkb5mII7llFDUz+3muoJyatMOjp7eW3HwYgTZR+HDJIkSZJ0k5Y+UM3kiWMA\n6Ozq5dUdBwZ8/S92H+FcWycA5SX5fHHR1DsdUUOQm5PD2uV1qfrt3Uc4db4jwkTZxyGDJEmSJN2k\nnJzYVU3olg+OcvLcpeu+tv1yN6+n/Sb8ufoaigry7nhGDc1Dn5tI3eTkzh+98QQvbW+KOFF2ccgg\nSZIkSbdg3swJfG7KWCDZhG7edv0m9PVfHeRSZ/LhkFUVxSybd+9dy6jbF4vFWL9iZqp+9+MTHDrR\nFmGi7OKQQZIkSZJuwbVN6M5PT3LgeOtVrznbepmf7zqSqtcsqyUv1/YrW8yaOo4HZ04EIAFsTNsd\nRAPzu1ySJEmSbtHMKWOZP6syVV/bhL60vZme3jgANdVlPHxf1V3Np6Fbu7yWWCz58d7ms3xy4Gy0\ngbKEQwZJkiRJug3pTegnB87xcXOyCT1y6iINe1tSr1u3YiaxKy9U1phcWcrSB6pT9YYtjcQTiQgT\nZQeHDJIkSZJ0G6onjOGxuf3PWdiwZT/xRILNW5u40oveXzue2dMrIkqooVpdX0N+XrJtPni8jV2f\nnYw40fDnkEGSJEmSbtPz9TUU9DWhh05c5Ic/28eH+08DEAPWpe1EoewzvryIJxZMSdWbtzalboPR\n9TlkkCRJkqTbVFFWyBcenpqq39l9NPXx4jn3MG1SWRSxlEGrHp3OmKLk1qMnz3ew9cNjESca3tyk\nVZIkSZKG4KlHprPlg6O0X+5JfS4vN8YLj9VEmEqZMqYon6cfncH/e2c/AK80NNPV3RtxqhurKCtk\nQVBJfl5uJO/vkEGSJEmShqCkKI9nl8zgR2/vT33u8/OnMHFccYSplEmPL5jMz98/zNnWTtoudbNh\nmG9p+aWT0/hHK2cO/sI7wNslJEmSJGmIVs6fQlVFcqhQWpzP049OjziRMik/L5c1y2qjjnHTunui\ne26EVzJIkiRJ0hDl5+Xwr35vPjs/PcHcugmUlRREHUkZtuT+avJyczhwvC3qKAOqKCtk6f3Vg7/w\nDnHIIEmSJEkZUFFWyBcXTYs6hu6gRbMnsWj2pKhjDGveLiFJkiRJkjLCIYMkSZIkScoIhwySJEmS\nJCkjHDJIkiRJkqSMcMggSZIkSZIywiGDJEmSJEnKCIcMkiRJkiQpIxwySJIkSZKkjHDIIEmSJEmS\nMsIhgyRJkiRJygiHDJIkSZIkKSMcMkiSJEmSpIxwyCBJkiRJkjLCIYMkSZIkScoIhwySJEmSJCkj\nHDJIkiRJkqSMcMggSZIkSZIywiGDJEmSJEnKCIcMkiRJkiQpIxwySJIkSZKkjHDIIEmSJEmSMsIh\ngyRJkiRJygiHDJIkSZIkKSPyBjoYBEEO8NfAXKAT+GoYho1px18AvgkkgL8Nw/C7fef8DTALiANf\nC8MwvEP5JUmSJEnSMDHYlQyrgYIwDJcA3wC+c83xvwS+ACwF/iQIgnHAk8CYMAzrgT8H/l1mI0uS\nJEmSpOFosCHDUuBNgDAM3wMWXnO8GxgHlAAxklcudABjgyCIAWOBrkwGliRJkiRJw9NgQ4ZyoDWt\n7u27HeKK7wDvA78BXg3DsBVoAIqAz4DvAf8tc3ElSZIkSdJwNeAzGUgOGMrS6pwwDOMAQRBMA/4Y\nmA5cAv4uCIJ1JJ/F0BCG4b8JgmAK8HYQBPeHYTjQFQ2xysqyAQ5Lco1IA3ONSANzjUg35vqQMmew\nKxkagFUAQRAsBj5KO1YE9AKdfYOHk0AFMIb+qx/OAflAbgYzS5IkSZKkYSiWSCRueLDvuQpXdpcA\n+AqwACgNw/D7QRB8Hfg94DKwH/gaUAr8AJhIcsDwV2EY/uiO/Q0kSZIkSdKwMOCQQZIkSZIk6WYN\ndruEJEmSJEnSTXHIIEmSJEmSMsIhgyRJkiRJyojBtrC8o4IgyKH/wZKdwFfDMGyMMpM0HARB8Ajw\nH8IwXBkEwUzgRSAO7AX+eRiGPkxFo1YQBPnA35LcQrkQ+LfAp7hOJIIgyAW+T3JL8QTwz0j+G+tF\nXB9SShAEVcD7wOMk18aLuEYkAIIg2A1c6CubgH/PLayRqK9kWA0UhGG4BPgG8J2I80iRC4LgT0n+\nA7Gw71N/CXwzDMNlQAx4Pqps0jDxj4FTfWviS8B/J/nzw3UiwTNAPAzDeuBbwF/g+pCu0jes/h7Q\nTnJN+G8tqU8QBEUAYRiu7Pvvj7jFNRL1kGEp8CZAGIbvAQujjSMNC/uBNSQXMMD8MAy39X38BvBE\nJKmk4WMD8Gd9H+cA3bhOJADCMHwZ+Kd95QzgHLDA9SFd5dvA/wBa+mp/hkj95gElQRD8NAiCXwRB\nsJhbXCNRDxnKgda0urfvFgpp1ArDcDPQk/apWNrHF4GxdzeRNLyEYdgehuHFIAjKSA4cvsXVP89c\nJxrVwjDsDYLgReC/AD/EnyNSShAEXyZ5NdxbfZ+K4RqR0rUD3w7D8Iskb7n74TXHB10jUTf0rUBZ\nWp0ThmE8qjDSMJW+JsqA81EFkYaLIAimAm8D/ycMw7/HdSJdJQzDLwMB8DdAUdoh14dGu68AXwiC\n4B3gQeB/A5Vpx10jGu320TdYCMPwt8AZYFLa8UHXSNRDhgZgFUDfZRgfRRtHGpY+CIJged/HTwHb\nBnqxNNIFQTAJeAv40zAMX+z7tOtEAoIg+CdBEPzrvrID6AV2uT6kpDAMl4dhuCIMw5XAh8DvA2+6\nRqSUr9D3rMQgCO4lOVR461bWSKS7SwA/JjlJbOirvxJlGGmYufLE1j8Bvh8EQQHwCbAxukjSsPBN\nkpfp/VkQBFeezfAvgP/qOpHYCLwYBMFWIJ/k2vgMf45IN5LAf2tJ6f4X8IMgCK4MEr5C8mqGm14j\nsUTC3VkkSZIkSdLQRX27hCRJkiRJGiEcMkiSJEmSpIxwyCBJkiRJkjLCIYMkSZIkScoIhwySJEmS\nJCkjHDJIkiRJkqSMcMggSZIkSZIywiGDJEmSJEnKiP8Pj7o4qhEAa1oAAAAASUVORK5CYII=\n",
       "text": [
        "<matplotlib.figure.Figure at 0x11b0542d0>"
       ]
      }
     ],
     "prompt_number": 71
=======
     "outputs": []
>>>>>>> 016478627c6b1264d8355bed55ac8d2e77152e78
    },
    {
     "cell_type": "markdown",
     "metadata": {},
     "source": [
      "### Application of Cross Validation"
     ]
    },
    {
     "cell_type": "markdown",
     "metadata": {},
     "source": [
      "The work above shows that at 11 neighbors, we can get an ideal result that doesn't overfit the data. To verify this, we'll use cross validation."
     ]
    },
    {
     "cell_type": "code",
     "collapsed": false,
     "input": [
      "from sklearn.cross_validation import cross_val_score\n",
<<<<<<< HEAD
      "clf = neighbors.KNeighborsClassifier(7, weights='uniform')\n",
      "# cv=5 splits into 5, gives val score for the splits\n",
      "# cv atleast 3, not 500 for time. More splits, better validation\n",
      "scores = cross_val_score(clf, df_norm.values, iris.target, cv=5)\n",
=======
      "clf = neighbors.KNeighborsClassifier(11, weights='uniform')\n",
      "scores = cross_val_score(clf, iris_df.values, iris.target, cv=5)\n",
>>>>>>> 016478627c6b1264d8355bed55ac8d2e77152e78
      "print scores"
     ],
     "language": "python",
     "metadata": {},
<<<<<<< HEAD
     "outputs": [
      {
       "output_type": "stream",
       "stream": "stdout",
       "text": [
        "[ 0.96666667  0.96666667  0.93333333  0.9         1.        ]\n"
       ]
      }
     ],
     "prompt_number": 84
=======
     "outputs": []
>>>>>>> 016478627c6b1264d8355bed55ac8d2e77152e78
    },
    {
     "cell_type": "code",
     "collapsed": false,
     "input": [
<<<<<<< HEAD
      "np.mean(scores)\n",
      "# above 90% is decent?"
     ],
     "language": "python",
     "metadata": {},
     "outputs": [
      {
       "metadata": {},
       "output_type": "pyout",
       "prompt_number": 73,
       "text": [
        "0.98000000000000009"
       ]
      }
     ],
     "prompt_number": 73
=======
      "np.mean(scores)"
     ],
     "language": "python",
     "metadata": {},
     "outputs": []
>>>>>>> 016478627c6b1264d8355bed55ac8d2e77152e78
    },
    {
     "cell_type": "code",
     "collapsed": false,
     "input": [
      "# Below returns highest signifiance for features 2 and 3\n",
      "# (remember, Python uses index 0). \n",
      "n = np.arange(len(iris.feature_names))\n",
      "\n",
      "fig = plt.figure(figsize=(18,6))\n",
      "ax = fig.add_subplot(111)\n",
      "\n",
<<<<<<< HEAD
      "# classif gives the weight\n",
=======
>>>>>>> 016478627c6b1264d8355bed55ac8d2e77152e78
      "ax.bar(n, feature_selection.f_classif(iris.data, iris.target)[0])\n",
      "\n",
      "xtickNames = ax.set_xticklabels(iris.feature_names)\n",
      "ax.set_xticks(n)\n",
      "_ = plt.setp(xtickNames, rotation=45, fontsize=16)"
     ],
     "language": "python",
     "metadata": {},
<<<<<<< HEAD
     "outputs": [
      {
       "metadata": {},
       "output_type": "display_data",
       "png": "iVBORw0KGgoAAAANSUhEUgAABCsAAAHJCAYAAACsf7N/AAAABHNCSVQICAgIfAhkiAAAAAlwSFlz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\nrDAzMzMzMzOzWvkHRHbRbpUYx30AAAAASUVORK5CYII=\n",
       "text": [
        "<matplotlib.figure.Figure at 0x11ebc0890>"
       ]
      }
     ],
     "prompt_number": 85
=======
     "outputs": []
>>>>>>> 016478627c6b1264d8355bed55ac8d2e77152e78
    },
    {
     "cell_type": "markdown",
     "metadata": {},
     "source": [
      "Fit only the last two features:"
     ]
    },
    {
     "cell_type": "code",
     "collapsed": false,
     "input": [
<<<<<<< HEAD
      "clf = neighbors.KNeighborsClassifier(7, weights='uniform')\n",
=======
      "clf = neighbors.KNeighborsClassifier(11, weights='uniform')\n",
>>>>>>> 016478627c6b1264d8355bed55ac8d2e77152e78
      "clf.fit(iris.data[:, 2:4], iris.target)"
     ],
     "language": "python",
     "metadata": {},
<<<<<<< HEAD
     "outputs": [
      {
       "metadata": {},
       "output_type": "pyout",
       "prompt_number": 86,
       "text": [
        "KNeighborsClassifier(algorithm='auto', leaf_size=30, metric='minkowski',\n",
        "           metric_params=None, n_neighbors=7, p=2, weights='uniform')"
       ]
      }
     ],
     "prompt_number": 86
=======
     "outputs": []
>>>>>>> 016478627c6b1264d8355bed55ac8d2e77152e78
    },
    {
     "cell_type": "code",
     "collapsed": false,
     "input": [
      "h = .02  # step size in the mesh\n",
      "# Create color maps\n",
      "cmap_light = ListedColormap(['#FFAAAA', '#AAFFAA', '#AAAAFF'])\n",
      "cmap_bold = ListedColormap(['#FF0000', '#00FF00', '#0000FF'])"
     ],
     "language": "python",
     "metadata": {},
<<<<<<< HEAD
     "outputs": [],
     "prompt_number": 76
=======
     "outputs": []
>>>>>>> 016478627c6b1264d8355bed55ac8d2e77152e78
    },
    {
     "cell_type": "code",
     "collapsed": false,
     "input": [
      "# Plot the decision boundary. For that, we will assign a color to each\n",
      "# point in the mesh [x_min, m_max]x[y_min, y_max].\n",
      "x_min, y_min = iris_df.min()[['petal length (cm)', 'petal width (cm)']]\n",
      "x_max, y_max = iris_df.max()[['petal length (cm)', 'petal width (cm)']]"
     ],
     "language": "python",
     "metadata": {},
<<<<<<< HEAD
     "outputs": [],
     "prompt_number": 87
    },
    {
     "cell_type": "code",
     "collapsed": false,
     "input": [
      "df_norm.info()"
     ],
     "language": "python",
     "metadata": {},
     "outputs": [
      {
       "output_type": "stream",
       "stream": "stdout",
       "text": [
        "<class 'pandas.core.frame.DataFrame'>\n",
        "Int64Index: 150 entries, 0 to 149\n",
        "Data columns (total 4 columns):\n",
        "sepal length (cm)    150 non-null float64\n",
        "sepal width (cm)     150 non-null float64\n",
        "petal length (cm)    150 non-null float64\n",
        "petal width (cm)     150 non-null float64\n",
        "dtypes: float64(4)"
       ]
      }
     ],
     "prompt_number": 88
    },
    {
     "cell_type": "code",
     "collapsed": false,
     "input": [
      "plt.scatter(iris_df['petal length (cm)'], iris_df['petal width (cm)'], c=iris.target)"
     ],
     "language": "python",
     "metadata": {},
     "outputs": [
      {
       "metadata": {},
       "output_type": "pyout",
       "prompt_number": 89,
       "text": [
        "<matplotlib.collections.PathCollection at 0x11eff2210>"
       ]
      },
      {
       "metadata": {},
       "output_type": "display_data",
       "png": "iVBORw0KGgoAAAANSUhEUgAAAekAAAFVCAYAAADLxheZAAAABHNCSVQICAgIfAhkiAAAAAlwSFlz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\nFhERsaj/B/CDRPk8SQi6AAAAAElFTkSuQmCC\n",
       "text": [
        "<matplotlib.figure.Figure at 0x11ebb7fd0>"
       ]
      }
     ],
     "prompt_number": 89
=======
     "outputs": []
>>>>>>> 016478627c6b1264d8355bed55ac8d2e77152e78
    },
    {
     "cell_type": "code",
     "collapsed": false,
     "input": [
      "xx, yy = np.meshgrid(np.arange(x_min, x_max, h), np.arange(y_min, y_max, h))\n",
      "\n",
      "Z = clf.predict(np.c_[xx.ravel(), yy.ravel()])"
     ],
     "language": "python",
     "metadata": {},
<<<<<<< HEAD
     "outputs": [],
     "prompt_number": 90
=======
     "outputs": []
>>>>>>> 016478627c6b1264d8355bed55ac8d2e77152e78
    },
    {
     "cell_type": "code",
     "collapsed": false,
     "input": [
      "# Put the result into a color plot\n",
      "Z = Z.reshape(xx.shape)"
     ],
     "language": "python",
     "metadata": {},
<<<<<<< HEAD
     "outputs": [],
     "prompt_number": 91
=======
     "outputs": []
>>>>>>> 016478627c6b1264d8355bed55ac8d2e77152e78
    },
    {
     "cell_type": "code",
     "collapsed": false,
     "input": [
      "plt.figure(figsize=(18,6))\n",
      "plt.pcolormesh(xx, yy, Z, cmap=cmap_light)"
     ],
     "language": "python",
     "metadata": {},
<<<<<<< HEAD
     "outputs": [
      {
       "metadata": {},
       "output_type": "pyout",
       "prompt_number": 92,
       "text": [
        "<matplotlib.collections.QuadMesh at 0x115832a90>"
       ]
      },
      {
       "metadata": {},
       "output_type": "display_data",
       "png": "iVBORw0KGgoAAAANSUhEUgAABBEAAAFxCAYAAAAlNzCWAAAABHNCSVQICAgIfAhkiAAAAAlwSFlz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\ngg==\n",
       "text": [
        "<matplotlib.figure.Figure at 0x11f80a9d0>"
       ]
      }
     ],
     "prompt_number": 92
=======
     "outputs": []
>>>>>>> 016478627c6b1264d8355bed55ac8d2e77152e78
    },
    {
     "cell_type": "code",
     "collapsed": false,
     "input": [
      "# Plot also the training points\n",
      "plt.figure(figsize=(18,6))\n",
      "plt.pcolormesh(xx, yy, Z, cmap=cmap_light)\n",
      "plt.scatter(iris_df['petal length (cm)'], iris_df['petal width (cm)'], c=iris.target, cmap=cmap_bold)\n",
      "plt.xlim(xx.min(), xx.max())\n",
      "plt.ylim(yy.min(), yy.max())\n",
      "plt.title(\"3-Class classification (k = {}, weights = '{}')\".format(clf.n_neighbors, clf.weights))"
     ],
     "language": "python",
     "metadata": {},
<<<<<<< HEAD
     "outputs": [
      {
       "metadata": {},
       "output_type": "pyout",
       "prompt_number": 93,
       "text": [
        "<matplotlib.text.Text at 0x1227357d0>"
       ]
      },
      {
       "metadata": {},
       "output_type": "display_data",
       "png": "iVBORw0KGgoAAAANSUhEUgAABA4AAAF6CAYAAACZVRowAAAABHNCSVQICAgIfAhkiAAAAAlwSFlz\nAAALEgAACxIB0t1+/AAAIABJREFUeJzs3XecVPW9+P/XbIddlt4lFIEjiAVLxI6NENRoiKuJLUZN\nM1dzc2+Sm5hrEu83RRPjTW5y480vGo2Kbe1dUEEFUbCAiHCkSe9lYdm+M78/ZsBl3QEGdne2vJ6P\nxz7Yc2bmfd57ZpiZ8z7vz+dEYrEYkiRJkiRJDclIdwKSJEmSJKnlsnAgSZIkSZKSsnAgSZIkSZKS\nsnAgSZIkSZKSsnAgSZIkSZKSsnAgSZIkSZKSykp3ApKk1i8Ign8BvgPEgCXAN8Mw3Jjkvv2BXwPH\nAFGgAvhNGIZPJ26PAj3CMNzSHLnXyesq4CthGJ7fiDH7AcVhGJ4cBEEh8AJQCPwW+F4YhicfYNxr\ngewwDO8IguDbQJcwDG9txLxvAV4FqoA/h2F4RCPF/RNwWp1VhwBrwjA8qjHiJ9nm34EHwzB8dS/3\n+SXQPQzD6xu4bfe+boLcosDYMAxfP8DHvw+cDpQCTwCHAX8Kw/CvjZclBEFwDxALw/AbQRDcB/wq\nDMOwMbchSWrZLBxIkg5KEATHAv8OHBmG4Y4gCH4P/D/ihYT69+0JvAncGIbhVYl1RwJTgiDYGYbh\nK82XedMLw3ANsKs4cDTQKwzDYYnlBw4i9CnAvMQ2/nYQcT4jCIIxwIgwDH8SBMHYxowdhuH362xn\nEPA6cEVjbqOBbX5zP+4W28ttu/d1EygHdh7og8MwHA0QBMHngHFAxzAM9/a3HKidxIt8AD8n/to9\nsQm2I0lqoSwcSJIOShiG7wZBMDQMw9ogCPKIn0VekuTu1wGvh2E4qc7jPwiC4CvA1rp3DIIgH7gD\nGAZ0A3YAl4Zh+HEQBBOBnxE/mKkFfhSG4RvJ1tdPIgiCnwJXAjXAIuCqerePAW4FcoG+wJQwDK8N\ngiAL+DPxYkAVsBT4BlCZZH1P4EPi3RX/APoFQfAecCnwThiGBYmYvwPOTeTzZmI/dQP+BvQC+gDL\ngYuJH8ieD5wdBEF54vbuYRheHwTB4cBfEo+NAX8Iw/C+RAHg14nnZVTi7/peGIbTGniOfgn8TwP7\n7BTgfuCrYRi+Ve+2GUDHeg+Z3tAZ/Dr+nsjvg73chyAIngCeDcPwrsTz8iYwJAzDT4Ig+BlQGIbh\nfyR+n0h8GOYnwHVhGK4NgmAa8a6JxxJdJf9B/IB9KnBDGIbZQAQ4LAiCV4k/3+uBrxI/ON61r8sS\nj7mL+P6LAHfW70QIgmAEDReF/hiG4T/rrZsMzK/f7VJ3OXG2vwQ4AhgALCT+HOxMdCx8DngRyAbe\nS/xf6k/8NdWR+OvxP8MwfCkR95rE+hLgn8BFQB4wCFgB/C/wL8Bw4PYwDG8H3ib+2iQMw2VBEGwL\nguBLu7qEJEltn3McSJIOWqJocCGwkviB7T1J7nosMKOBx08Pw3B+vdXjgS1hGJ4YhmEAzCZ+QAPx\ng6LvhmF4PHAT8Xbtva3fLQiCLwFfB8YkWvCXJeLWPVN7A3BTGIZjgMOBLwVBMJr4geTpYRgeGYbh\nccQLBEcmWb+rvT8WhuHHxA/YloRheAzx4Rm7tncd8cLCkcQP6jsBlyR+ZoRheFIYhkOAMuCKMAyf\nAJ4mflD310ScWBAEmYn1f0q0/n8R+E3iYBvg88Btie3fRbxAUH/fdCH+/E2ut/4M4G7gvPpFA4Aw\nDE8Ow3B0vZ+kRYMgCL5IvMD0mQJFAx4n/log8e864JzE8peA4iAIriS+7z6fOAv/AnBn4j679s9I\n4BbgrMQ+KGHP70FDgKIwDEcQL2JdW29f3wH8CHg68RxPAE4LgiBSb18saGBfjG6gaEAYhl8Ow7Bi\nP/bBMcAXgBFAP+IH+7uUEX+uyxN/ewlQTLwochTx1/r9iQ4PgJHEX6tnEi9+nEK8cDYc6A1ckrht\nAvCrRJ73hmFYtxjyDPEijSSpnbDjQJLUKMIwfBJ4MjEm/CXg0AbuFgUy9zPeY0EQLAuC4HpgKDCW\n+NlmgIcS23oOmAL8fh/r6zobeCQMw5LEdv4ddp/l3eXrwLmJzoQRxM/QFgAfALVBELyd+BsfC8Nw\ndhAEnZOsH1Qn5h4HmPXyuTcMw8rE8ld33RAEwalBEPwb8a6LUUDdg/ZInX8jxA/8chPPA4mz7Y8R\nP9ieCiyvc3b/fep1WSQMBdaGYVhTZ90A4geKfw3D8MOG/oAgCN4EOtRbPSMMw39p6P7AD4Df7mdb\n/bPA7YnCyDjiw2DOCYLgWaB3GIbvBEHwY+B44J0gCCD+GqubT4T4gfdLieEjEO/M+GWd+0wOw3Bz\n4ve5xDs56j4e4kWMe4Mg+DzwMvGD8z3+hkSBYhKf9acwDO/Zj7+3vhjwYhiG1Yn484h3lNRV97V1\nArA4DMPZAGEYfpToCBmbiPVBGIalde4/OwzD1YnYy/i0aLQUyAuCoGMYhmX1treUJh5iIklqWSwc\nSJIOShAEhwJ9wzCcnlh1N/B/QRB0Iz7B3q4Dq2uJH/iOId4OXTfGt4mPz/7vOuu+C3yT+BCAScBm\nYDBAGIb/GQTBXcQPJK8CfhIEwbF7WV/34K663rYLga7s2XEwnfjB9YvAI8TP1kfCMCwJguAo4CTg\nLODhIAj+JwzDPza0HnhyP3Zh/Xx6EP98/gHxg+G7iO/HLPY8QIzV+7ehLsJMPv2sL6/32IYKGQ0V\ndqqJFx+eDoKgeNcBaV1hGJ7UQKwGJea5+Dxwwf7cPwzDrYlJAL8EdAbuA34BXEj8QB7if/stu+Z7\nCIIgB+jewN9Rdx/V1ru9brGkfkEjlsjluSAIhhHveDgL+EUQBCeFYbi0Tr4fAaP352+rF7/u85FT\n7/aKvdy3vr29DqqJT6RYV2W95Rr2LZPP7j9JUhvmUAVJ0sHqBzwYBMGuA7XLgHlhGG4Jw/DoOq3a\n7xIfsz82CIJLd7V4JyZXvJn42fxdIsQP/u8Jw/Bu4GPiB44ZQRBkJs6M5icOFL9HfDb57CAIPqm3\nfgSfLZK/DEwMgqBTYvm/gH/bdWOiXf9Y4CeJs/eHED8TnxUEwXnAK8DMMAxvBu4FjgyC4NyG1rP3\nSffq5nNpEAQ5QRBkJPbR1xJ//x/D+HwQG4kfrO46qK/h04PLXQeRIVAVBMGXE39HP+Lt5FPY+4Fm\nXUuBXokD713WJYYn/JB4y3v9zoJUnUz8LHf5Pu/5qSeA3wAvJ86Wh8BPgEcTt78EfLPOc/pL4uP3\nd4kl7nN2Yr9AvJCVzK4uDqizr4MgeIB4K//DxF9f24m/Pg7WBmBUEAS5iTkvzufT187+Pne7vBVP\nNTg+kfPhwKnAtAOIlcwQYEEjxZIktQIWDiRJByWMTz74a2Ba4szwxcTPBjd0363EW6a/AswLguAD\n4i3jV4efXlEhlvi5Dfh2EATvAA8TP3s/NAzDWuBfgQeCIHiXeEfA1WEYVgHfr7f+G7tavOvk8ALx\nrogZie33Am7cte0wDLcRv1zie0EQTCdeCHme+NCL54H5wIdBEMwmPrfBL4mPqW9ofYQ9iwcN/f43\n4N3EzwfAGuBPxAsatwVB8BbxSSIfJV7AILG9G4Ig+Mmu/ZUYXnAh8P0gCOYSLxjcHIbhaw1su6Fl\nEn/7G8CZ9e8XhuG9xCfmu63+41I0lPi8EnsIguA/giC4OcljniI+FGNKYvklICsMw11DV+4kPqTh\nrSAIPgR2je3fLQzDRcS7OF5KPEeHEZ8fAD59zdHA8q59/R/En5PLgiCYQ/wA/fHwAC+lWM9k4DXi\n+/d19iyi1c+Nerft8XsYhpuAIuDPidf3JOCqMAwXNxCrodjJXq91jSc+j4IkqZ2IxGJNcdUeSZLU\nGgVBcCLwszAMz2vm7Q4gfqWHnzRR/EHEr6Tx/8IwjAXxK3D8KAxDLyuYgsTQpPvdb5LUvthxIEmS\ndgvDcCYQBkHwhWbe9Aj27yoLB2oV8WE18xIdAzcAVzfh9tqq/0f8CiGSpHbEjgNJkiRJkpSUHQeS\nJEmSJCkpCweSJEmSJCmp+peoalrFxY6LUJMrLkp3BpLUCvhmKUmS6ikqavjSvXYcSJIkSZKkpCwc\nSJIkSZKkpJp3qIIkSWoZioo//d1hC5IkaS/sOJAkSZIkSUlZOJAkSZIkSUk5VEFtjt23kpSium+c\n4JunJEnagx0HkiRJkiQpKQsHkiRJUiOIRqNs3bqWqqrydKfSpmzevIrVqxcQjUbTnYrUbjlUQZIk\n7ckxX1LKtm/fyh/+8BRLlx5OYeFsLrmkG6eddkq602r1fvGL37FgwSiggO7dH+LPf/4ZWVk56U5L\nanfsOJAkSZIO0sMPv8KCBV+nsvJ4Nm78EsXFG4hGa9OdVqv25psvsmDB2cAE4DQ2b/4xt9/+x3Sn\nJbVLFg4kSZKkg1RengtEdi/v3NmVysqy9CXUBqxY8QkwqM6afLZvjzR8Z0lNyqEKatPstpWkg+QV\nF6T9cuSRhcyatYiqqmFADcOGLadDhzPSnVarNn78hTzzzMNUV38XgEjkZc46a1Sas5LaJwsHkiRJ\n0kEaO/Z0MjLeYP78hRQUVHPxxRenO6VWr0uXPtx004n8/e+3UVOTx7hx/TjjjInpTktqlyKxWKz5\ntlZc3Iwbk/bkSTJJagS+mUqS1GYVFdHgeCA7DiRJ0v5zDJgkSe2OkyNKkiRJkqSk7DhQu+H8XpLU\nyOq/sdblm6wkSW2GHQeSJEmSJCkpCweSJEmSJCkphypIkqTG5zAGSZLaDDsOJEmSJElSUhYOJEmS\npEZSVVVBLBY7qBjV1ZVEo9FGiFF7UDFqaqqpra05qBgtRTQapbq6Mt1pEIvFqKqqSHcaAFRVlR/0\na1Xth0MV1G55KXJJShPfgNUGlZeX8t///SjLlvWjU6cSvva1QRx//PEpxaipqeJPf3qQhQv70qHD\nDiZO7MXYsaemFCMajXLHHQ8wd24PsrMrOPfcfCZMOCelGLFYjHvueYS33upEZmYNZ54Z4aKLzk8p\nRkvyyivTePLJLVRU5DNy5Dquv/5SsrKymz2PuXPncN99ISUl3fjc59by/e+fR2Fht2bPY9Wq5dxx\nx3TWr+9Fr14b+da3TmDQoEObPQ+1LnYcSJIkSQfpwQdfZM6cKygpGceqVUVMmrQ85TP+jz32PG+/\n/VVKSsaxbt1XeOihUsrKtqcU48UXX+S11y5g27bxbNx4IY88ks+GDStSivHGG9N46aUz2Lp1Aps2\nfYknnxzGwoVzU4rRUuzYsZmHHqph/fqJlJR8gZkzL+Gpp15ISy6TJoWsWHEJJSXnMG/eFUya9HKa\n8nibRYsuY/v2c1i8+FImTXo3LXmodbFwIEmSJB2k0tJcIHP38vbtPaio2JlSjJKSDCB39/K2bQPY\nsWNTSjG2bKkBOu1eLis7lHXr1qYUY9OmHUSjvXYvV1UNZdWq1SnFaCm2bdtAScnn6qzJY9u25s8j\nGo2yfXt+nTURduzIa/5EgO3bO+x1WWqIhQNJkpQ+RcV7/kitVBB0ICtrVWIpxuDBy+nYsTClGKNG\n9SA3N9wd49BD59C9+4CUYhx11EAKCubsXh4w4A2GDRuZUoyjjx5Bly4zdi/37j2Z0aOPTSlGS9Gn\nzxAOPfTTM+p5eQs44ojezZ5HRkYGgwdvAeJdKJHIRoYPz9z7g5rIoYeWA2WJpQqGDEmtwKX2KdKs\nE2IUFzv7hlokh9hKUgvhG7JasRdfnMJHH5VTUFDJ1752Dp06dUk5xrRpr/HeeyV06FDJxRefRvfu\nqR/kvv32W8ycuYGsrGomTjyOfv0Gphzjgw/eZ+rUFWRkRJkwYSSHHhqkHKOl2LhxDcXFb1JZmcOx\nx3bltNNSmzeisVRUlDJp0guUlOQydGg2558/nkgk0ux51NbWUFz8LGvWZNC7dw2XXHJ+WuZ8UMtU\nVESDL0oLBxJ+T5WkFsM3ZEmS0iZZ4cCrKkh8tjvW762SlCZecUGSpBbHOQ4kSZIkSVJSdhxIkqSW\nye4DSZJaBDsOJEmSJElSUhYOJEmSJElSUg5VkBpgd6wktTDOYitJUtrYcSBJkiRJkpKycCBJkiRJ\nkpJyqIIkSWp9HFMmtQsvvzyVF17YSnV1JscdV8UVV1xEJBJp9jzmzHmfhx5aRGlpHsOGbee664rI\nzs5t9jzUtj355HNMm1ZNLAann57FxInnpTul3SwcSJIkSWpx1q5dzgMP5FJaOhGA55/fyCGHvMqZ\nZ57VrHnU1tbwz38uYfXqiwHYsKGKHj2e5bLLJjZrHmrb5s17l8ceG05l5TAAHn98KYMHv83o0Sek\nObM4hypIkiRJanFWrlxOaenI3cvRaE/Wr9/Z7Hns3LmNLVv61VmTw5Ytnn9V41qxYjWVlUN3L1dV\nDWHVqvVpzGhPvuIlSVLrVv+KC3U5jEFqtUaMGEWfPjNYt+5cADp0+JCRIw9p9jw6derOgAFL+fjj\nkwDIyFjP0KF5zZ6H2rYjjxxF164z2Lr1FAC6dHmLI44YkeasPmXhQJIkSVKL06lTN/7lX4bw9NOP\nU1OTxZgxnTnqqNObPY9IJML3v38mDzzwCDt35jFyZCbjx09o9jzUtg0YMITvfGcLkyc/AUQ466z+\nDBo0LN1p7RaJxWLNt7Xi4mbcmNQ4PFklSa2Yb+KSJO23oiIanH3UjgNpH+p3wPodVJJaEa++IEnS\nQXNyREmSJEmSlJSFA0mSJEmSlJRDFSRJUvvg2DNJkg6IHQeSJEmSJCkpOw6kFDnPliS1Eb6hS5K0\nX+w4kCRJkiRJSVk4kCRJkiRJSTlUQZIkqf7EiXU5jEHt0NNPv8D06VVkZEQZN64rZ545NuUYU6a8\nyiuvlBCNRjj99A6ce+4XUo4xY8abPPfcOqqrMzn+eLj44gtSjvH+++/x2GNLqazM4YgjKrniiouI\nRCIpxzlYn3yyhHvvfYeSkg4MHFjKd74zkZycvGbPQ03jiSeeY+bMGjIza/nCF3owduxp6U6pUVk4\nkCRJkrTbu+++zSOPBFRVDQHgvvveYciQjxk0aPh+x1i06CMmTepOWdmZAKxd+zGHHPIORx113H7H\n2LhxNffcU01JyUQAVq9eTb9+r3PKKft/QFZWtp277lrDhg0XAbB8+VZ69HiJCRPG73eMxnLXXbMI\nw68BsHJlNQUFT3L11RYm24JZs2by2GOHU1U1CID77nuLoUOXcsghQ9KbWCNyqIIkSZKk3T75ZP3u\nogHAzp2jWbTo45RiLF68mLKyI3cvV1YOZ9myNSnFWLp0MSUlR+1erqnpz4oV21KKsWnTKjZsCOqs\n6cqaNVUpxWgM0WiUjRsL6qzJZtOm3GbPQ01j+fKNu4sGADt2jGbx4tT+z7R0dhxIB8EJuSWpHag/\njME3fLVxQfA5Onb8kLKyUQB06TKTkSNHpRTj8MNHUlj4Ntu3jwGgoGAuhx02OKUYw4ePoEePWWza\nNA6A3NzFDBvWO6UYvXoNpH//yaxePQyAzMw1DB5csI9HNb6MjAz69i1hy5Zda8rp37+m2fNQ0xg+\nvD8dOiygvHwEAF27zmTEiNT+z7R0mb/85S+bb2sffdSMG5Oa10eHpzsDSVKz8A1fbVyvXn0oLJxP\nWdkH9OmzgIsv7pLyQVDnzt3o1WsVpaWz6dkz5IILIhx33OdTitGhQz6HHLKdkpKZdO++iC9+cQen\nn356SjGysnIYMgS2bn2Nrl0Xc8YZazn33OYfpgAwcmRPNm9+nk6dlnL88Qu47LILyciwAbwt6NOn\nHwUFH1BRMY8+fT7ikkt6MHz4iHSndUAOP5ybG1oficVizZdFcXEzbkxqXp6AkqR2wjd8SVIbVVRE\ngzOHOlRBkiQpFY5TkyS1M/bGSJIkSZKkpCwcSJIkSZKkpByqIDUSJ92WpHbIYQuSpHbAjgNJkiRJ\nkpSUHQeSJEmNoX7rWV12I0iSWrG9Fg6CIMgG/gEMBHKBX4Vh+Eyd288HbgJqgH+EYXhnE+YqSZIk\nSZKa2b6GKlwGbAzD8DRgPPCXXTckigq3A+cApwPfCoKgV1MlKkmSJEmSmt++hioUA48mfs8g3lmw\nywhgcRiGJQBBEEwHTqtzf6ldc74sSdJuzqDbZMrLS7nrrmdYuzafHj3KuOaacRQWdkspRk1NFf/4\nx+MsX96Rrl3LufLK0+jVq29KMaLRWu6993EWLcqlU6cKLrvseAYMGJxSjFgsxiOPPMW8eRnk5VVS\nVDSKIBiRUgypPYnFYjz00JPMn59Jx46VXHzxkQwdGqQ7rQP2+utv8MormwE444xujB17Wpoz+tRe\nCwdhGO4ECIKgE/Eiws/q3FwIlNRZ3gF0buwEJUmSpGTuuusZXn/9EiCDRYti1NY+xA9/+LWUYtx3\n31O8/PJEIAeA8vIHuOmmS1OK8fjjz/H8818ECgDYvv1Bfv3rQUQikf2O8dJLU3jiiZOJRnsCsGXL\n49xyy2BycvJSykVqL55//iWefPJ0YrF4sXDLlke55ZbBZGXlpDmz1C1evIB77smntPRUAFaunEvf\nvh8SBKPSnFncPq+qEATBAOBV4N4wDB+qc1MJ0KnOcidga+OmJ0mSJCW3fn0+n36ljbBuXX7KMdat\ny2NX0QBg7doCYrFYSjFWr46wq2gQj9mP8vLtKcVYsaJid9EAYM2agC1bVqcUQ2pPVqyo2l00AFiz\nZijbtq1LY0YHLgwXUVp6zO7l0tKj+PjjpWnMaE97LRwEQdAbmAz8OAzDe+rdvBAYFgRB1yAIcogP\nU5jZJFlKkiS1JUXFn/7ooPTsWQrE6i2nGqOcuiNye/XamVKnAEDv3rVAWZ2Ya+jQoTClGP36ZVP3\nPFyfPovo2jW1IRNSe9KvXwZ1m+B7915C586905fQQRg2bAgdO36we7lDh/kceujANGa0p33NcXAj\n8eEHPw+C4OeJdX8H8sMw/HsQBP8GvES8AHFXGIZrmy5VSZIkaU9XX30uNTUPsG5dJ3r02Mk115yd\ncowrrzyfiopHWLGigC5dyvj6109OOUZR0Xls317MkiX55OeXc9llx6ZcfDj33PFs2fIoH32US15e\nJRddFJCb2zHlXKT24vzzJ7B166MsXJhHhw6VXHzxCLKzc9Od1gEZPnwUl1/+Kq+++gSxWISxYwsY\nOTL197OmEkm1DeugFBc348aklsM5sCRJSfkhIUlqIYqKaLDiua+OA0mNwMm0JUlJeRkeSVILt8/J\nESVJkiRJUvtl4UCSJEmSJCXlUAVJkqSWYm9XWXAYgyQpTew4kCRJkiRJSdlxIKWB82BJklLmTLuS\npDSx40CSJEmSJCVl4UCSJEmSJCXlUAVJkqTWyHFvjaa2toYHHniK5ctz6Ny5jCuvPJvOnbunFCMa\njXLzzb9n5coe5OZu5frrz2TkyGOaKOO9mzLlFWbN2kl2dg0XXHAYQTAyLXmoZaqqquCf/3ya9es7\n0LNnGV//+nnk5eWnOy21cBYOJEmS1K49+OBTPPPMeCAfiLFjxyRuvPHylGLccsvtLFhwLdCd0tL4\n8j33HE1GRvM2+M6e/Tb33juAysrhAKxa9Qy/+U1fCgq6NmsearnuuusJpk69CMgGaqmsfJgbbrg0\n3WmphXOogiRJktq1lStziBcNACKsWlVILBZLKcaqVfnAp10KFRWj2LJlVaPluL8WLly/u2gAsG7d\nCSxdGjZ7Hmq5Vq0qIF40AMhk9epO6UxHrYQdB1Ka2WkqSTpoXnHhoHTtWgZE2XVOrXv3MiKRSEox\nOnfeyqZNVUAOANnZy+jS5czGTXQ/9O3bgUhkE7FYDwAKCz+if/+g2fNQy9Wt2849lrt23ZnkntKn\nLBxIkiSpXbvyygmUlj7AypWFdOlSzlVXHZdyjJtu+hd+9KNb2bJlCFlZJXz1q4eQldX8X7XPOuts\n1qx5lPffzyU7u5rzzutN9+59mz0PtVxXXXUGFRUPsH59Ab167eSqq05Ld0pqBSKptmEdlOLiZtyY\n1Pp4gkiS1Cj8QJEkHYCiIhpst7LjQJIkqa1xHJwkqRE5OaIkSZIkSUrKwoEkSZIkSUrKoQpSC+Kk\n2JIkSZJaGjsOJEmSJElSUhYOJEmSJElSUg5VkCRJasu8woIk6SDZcSBJkiRJkpKy40CSJKm9aGGz\n8G7duo4f/uJmyss+R0Hn5fzpV7fRoUNBSjGqqiq4+ebb2bixO126bObnP7+OgoIuTZRxcrFYjOee\ne5GFC6vJz6/g0kvPonPn7s2eR0vywgtP8/TTy4nFMhg3rgcTJ16ScoxPPlnMU099QE1NJied1JMT\nTzypCTLdt61bN/Lgg1MpK8tj5MhcJkz4QlryqKoq5/77n2Xz5lwOOaSWSy75EhkZmWnJ5WDFYjGe\neeYFPv64hoKCCi699BwKC7umOy0lYeFAkiRJaXHDT35N5db/AbLZtr2M7/343/nHn+9IKcaNN/6e\nFSv+HejItm3V/OQnt/KXv/xnk+S7Ny++OIX77z+KaLQfEGPDhnv5xS++3ux5tBTz5s3mn/+EaPR6\nAB5++BX69n2FE088a79jlJZu449//JA1ayYCMH/++3TqNJdRo45qkpyTicVi/PGPz7NgwZVAhPfe\nW0VW1suMG3d2s+YBcMcdjzFjxiVANrNnl1Jd/QRXXnlRs+fRGJ577kUeeOBYotHeQIyNG+/lppva\n7/+Zls6hCpIkSUqLyh1HAdmJpY6UlRyecoyNGw8BOiaWstm6dWAjZZeaRYsqE0UDgAjLlw+krGx7\nWnJpCaZMmUw0ev7u5VjsLF59dVZKMRYs+IA1a07fvVxaOpp585Y3Wo77a8eOzXzyyVAgAkBNzSGE\nYVmz5wGwfHkhn/6fKWDZspy05NEYPv64OlE0gPj/mb5UVZWnNSclZ8eB1II5n5UkqUml+YMmI3sd\n0ZpPlzOz16YcIy9vM+V1jjVycrY2QmapKyysAmqBeNt4586byMtLbdhFWzJs2GDeemsRMDyxZhUD\nB6Y2dKN//wF07LiIsrLPJ9ZspUePvMZMc7907NiZLl3W13md1dC5c3Wz5wFQWFheb7kiLXk0hsLC\nSiDKrnMlionVAAAgAElEQVTZnTtvIzu7+Z9f7Z/MX/7yl823tY8+asaNSW3LR6mfhJEkaf+l4YMm\nq8MSPpw/GaLriOQVc923j2PggCClGIMH5zBr1oPU1q4jN3cK3/72EQwYMLiJMk7usMMGsmLFQ1RU\nrKZnzzlcfvkQ+vXr3+x5tBRBcAQLFtzNpk3LiEQ+4tBDp/KDH/wgpRidOnUlN/cj1q6dS17eUk45\nZT4XXXQBkUikibJuWEZGJj16lLJy5QwyM5dzxBFvc+21F5KZmb3vBzeyAQNyWb58MtHoCg49dDbX\nXDOW/PxOzZ5HYzjssM+xYsUjVFSsplev97jiiuH07ds33Wm1e4cfzs0NrY/EYrHmy6K4uBk3JrUt\ndhxIkppUGj9oystLU54Usb6qqgpyctJ/trK2toaMjMxmP7htqWpqaoAoWVkH3lIfi8WIRmvJzExv\ns3RLyQPir7OWkEdjaEt/S1tQVESDb14+Q5IkSUrrFRcOtmgAtIiiAeABUD1ZWQe/PyKRSIvYry0l\nD2hbr7O29Le0ZU6OKEmSJEmSkrJwIEmSJEmSkrIvRGol0thBKklqj+p/8OziB5AktTt2HEiSJEmS\npKQsHEiSJEmSpKQcqiBJkqT959g5SWp37DiQJEmSJElJ2XEgtVJ1T/h4skeS2o+SDTsovnkDFTs6\ncuz51ZxY9Ll0p9TqxWIxXljyZ5bkz6ZraT8uGfRfZGfnpjstSWoxLBxIkiS1ErU1tdz2la2E0/8D\niDD7qXfJynmN4y8YkO7UWrWnl/yeB7/+M6L9aqAKNv1+Of86/KF0pyVJLYZDFSRJklqJDZ9sZNHM\ncUAEgPLtxzLnxfTm1BYs6PZ6vGgAkAOLBr9FLBZLb1KS1ILYcSBJktRKdOpeQGHPZWxbd0RiTTUF\n3crTmlOrGDu3jxzzS7rssVywozuRbpGmzkqSWg0LB5IkSa1EQdcCLvrFQp78zU7KtvfksFPf5is3\nDUp3Wq3eV7v+mg23f8KK0fPouqwfX6v4dbpTkqQWxcKBJElSKzLuO4M54xvVVJatJL/LMCIRz4wf\nrJ5dBvJfnd9gx9LN5Od3IbOTX5Elqa5Is47fKi52sJjUDFpqp6gkqZ1p6g+kukMQ9rbdZPfb1+Mk\nqZ0pKqLBarSTI0qSJEmSpKQsHEiSJEmSpKQcwCVJkqSmsb9DBBpD3WEGB7rdpsjX4Q+S2gA7DiRJ\nkiRJUlIWDiRJkiRJUlJeVUFq4+yQlCSpBfIDWlIL5FUVJEmSJElSypwcUZIkqRWpKK3g0cmPUpFV\nwfEDjueo0UelJY/amlqeeuEpNsc2E3QNOO3U09KSR0sy6+1ZzF0/l8LaQiZOmEh2bnbyO+9tIka7\nEVqcqqoKHnvsBUpLMxk9ui/HHXd8ulOSmpWFA0mSpFYiWhvld4/+jg+v+BAyYebsmdzw/g1pKR78\n7eG/Me3L06AjvLbsNcqmlDH+nPHNnkdLMX3GdP7e9e+Un1AOVbDigRX86KofpTstNYJYLMbttz/I\ne+9dDmQzffo8vvvdmYwZc2K6U5OajUMVJEmSWokNyzew4NgFkBlf3nH8DmavnN3secRiMeZ3mg8d\n48tVg6uYUz6n2fNoSd7b8h7lI8vjCzmw8HMLqSitSG9SahQ7d25l4cKhQLyDpLz8CN55Z2N6k5Ka\nmR0HUhtXtxPSzkdJat3yO+fT8ZOO7GBHfEUt5NXkNXsekUiEDpUd9liXV9n8ebQkuZW5EINd04p1\n2N6B7Ly9DFXYm/rDGPwAT6vc3Hw6dtxKWdmuNTHy8qrSmZLU7Ow4kCRJaiU6de/EBVUXUDC1gIwP\nMxh17yguGndRWnL5yoCv0OP5HkQ+ijDo4UFc/PmL05JHS3Hx6Rcz/P7hZMzPoMvkLny5y5fJzMpM\nd1pqBNnZuVx4YT6dO08hI2M+QXAfRUVnpDstqVl5OUapHfGEhSS1Dds3badsexm9BvYiIzN954HK\ntpexbf02en6u594nAmwnaqpr2Lh8I4U9Csnvkt94gf0AbxFKS7eyY8dmevUaRGamjdtqm5JdjtHC\ngdSO+L1DkqRWzg9zSU0oWeHAoQqSJEmSJCkpCweSJEmSJCkpB+dIkiRJrYVXXJCUBnYcSJIkSZKk\npCwcSJIkSZKkpByqILUjdjdKkiRJStV+FQ6CIDgBuCUMwzPqrf8BcA2wMbHq22EYfty4KUqSJEmS\npHTZZ+EgCIIfA5cDpQ3cfAxwRRiG7zd2YpIkSY1l49qNTJk1hUgswoRTJ9C5e+d0p3TA1i5Zyw9/\n9UNqO9dyZIcjufG3N6YcI1ob5bkXn2Nb7TZGDxrNqCNHpRwjFosxefJkNlRu4PB+h3PMccekHKOx\n3H3X3YTbQgZ2GMh3r/vuAcV459mVLHithl6Daxj33aFEIg1eynyv5r26hjkvVNKlTzXn/utQMjId\nFSypbdifjoPFwETgvgZuOxa4MQiCPsBzYRje0pjJSZIkHaytG7fy2xm/ZdVFqyAGcx6Yw8/P/zn5\nhfnpTi1lZWVlfP//vg9/A3JgzpQ5/OKHv+Dm225OKc5fJv2F6RdNh44w9d2pXDfrOo77/HEpxbjr\n4buYPH4ydIGXF7zMVdOu4oyxZ+z7gY3slttv4b0L34MhsHTdUlb/djW/+umvUoox9e5l3H3DF6go\nPQoiW1g5/69c+79BSjFmP7WSO64eQ+mWk4CdLHvvdm6YdFhKMSSppdpnGTQMw8eBmiQ3Pwh8GzgT\nOCUIgnMbMTdJkqSD9sbMN1j1lVXxhQgsu2QZM6fPTG9SB+jp256Gy4CcxIpzYGHOwpRiVJRWMLf/\nXOgYXy49tpSZ61LbH7FYjDkd50CX+HL5iHJmbZ+VUozGsqDLAhiSWOgDy/ovSznGrCc6xYsGALFu\nzHlxCLFYLKUYbz2anSgaAOTzwZRjqNhZkXIuktQSHWz/1J/CMNwShmE18BwwuhFykiRJajQdsjtA\neZ0V2yG/Y+vrNgDoPbA3bK6zIgaRHam11GflZJGzM2ePddnV2SnFiEQi5FQfXIzGklmeuedyRWaS\neyaXnVe5x3Juh4qUhypk5+4ZIydvO1k5zkMuqW044MJBEASdgXlBEOQHQRAh3nXwTqNlJkmS1AjO\nPOdMjn/oeFgGkUURTnnmFMacPibdaR2QM75+BlmPZsEsYA3wW7h+/PUpxcjKyWJC7gQ6zuwIa2HQ\nw4P48pgvp5zLeT3Oo/C1QlgH/Z7sx4VHXphyjMZwYZ8LyXg0A9ZB5NkI4zqMSz3GT7Lpd9i9wDoK\ne77Eef++eZ+P+UyMnxYy8Kj/A9bSsfNrTPjBCrKyLRxIahsi+9OGFQTBIOCBMAxPCoLga0BBGIZ/\nT/z+A6ASeDkMw70PsCsuTq3nS1KT8nKMktqLaDTKknlLyMzMZPDhgw9o4ruW5J6b7mHZ8mV862ff\non/Q/4BibFi5gY3rNnLoyEPJy887oBhb1m5hzco1DDlsCB0LOx5QjMawbsk6Zk+fzTGfP4b+Iw5s\nf5RtL2Ppu+vpF3ShW7+uBxSjYmcFS2avpefgTvQa2OOAYqTMD3NJjaioiAY/IPercNBoLBxILZbf\nOyRJakP8YJd0AJIVDrxGjCRJkiRJSsrCgSRJkiRJSsoZWyRJkqS2pqh4z2WHLkg6CHYcSJIkSZKk\npCwcSJIkSZKkpCwcSJIkSZKkpCwcSJIkSZKkpJwcUZIkNWjpoqW8t/A9uuZ25cxzziQSafDSzkpB\nRWkFf/rfP1EZqeTicRdz2NGHpSWPWCzG1JensqViC8cExzBk+JADinPnHXeyqnQVY4IxjP/S+AOK\nMWvmLJZvWs7w/sM56pijDiiG2q7q6kpeemkKlZVRxo49ge7de6c7JaldsnAgCXDyZUl7mv/BfP5n\n2/+w9fytsA0+nvQx3738u+lOq1Wrqqjie3/4Hjt+ugNyYMG9C7ix+kaOOP6IZs/lbw/8jVcnvApd\nYfL0yVxfdj1HHJ1aHj/9zU9Z8o0l0Bc+mvUR6/6xjquuviqlGE88+wSPjXqMqhOr6LCgA5e/cjnn\nnHVOSjHUdtXUVHPrrZP44IMrgCymT3+cG288iZ49+6Y7NandcaiCJEn6jGnLprH1tK3xhS4wq/8s\nykrK0ptUK/fKY6+w45p40QCg9spaHpr2ULPnUVlWyexes6FrfHnbKduYtnxaSjGi0SjLBi2DXcdv\nn4cZVTNSzmVm7UyqBlUBUD6inBmlqcdQ2zV//rt88MG5QDYQYfXqr/DKK7PSnZbULtlxIEmSPiOz\nNnOP5azKLDKzM5PcW/ujY4eOULf2EoXM6ubfpxmZGWRV7fkVMKM29XNJkerIXpf3R/3X2YHkof1U\nt7WwlbQV5ubmEImUE4vtWlNLVlZsbw+R1ER8d5YkSZ9x3jHn0f/x/lAB2QuzObvybHI75qY7rVbt\n1AtPpc+kPrAK2Al5f8jj+iuvb/Y8snOzOTt6Njkf5UAF9HuyH+cffX5KMTIyMjiu5DiYDVRCxhMZ\nTBw4MeVcvtjzi3R6qxNUQrfXujFhwISUY6jtCoLRnHLK60Qia4BSguA+zj337HSnJbVLkVisGat2\nxcWWCKVWopWcjJDUhLZv3c6c2XPo07cPw48Ynu502oRoNMqT9zzJtu3buOjyiyjsUZi2XBZ/uJg1\na9Zw9HFHU9jtwPJ4c/KbfDD3A87+4tkMHTX0gGKsXraaReEiRowaQe9DnPiuWbSiD/lYLMacOW9R\nXl7GccedRE5Oh3SnJLVpRUU02D5m4UBSg1rRdwpJkpQKP+QlJZGscOBQBUmSJEmSlJSFA0mSJEmS\nlJRXVZDUoFY4+bIkSZKkJmDHgSRJkiRJSsrCgSRJkiRJSsrCgSRJkiRJSsrCgSRJkiRJSsrJESVJ\nakQfzf2IJcuXMHzIcIJRQbrTSbv3X3+f+4rvo3NuZ/7z1v8kMzMz5Rhrl6/l/vvvp2NOR755/TfJ\nyctJOUbJhhLuvPNOMjMy+dZ136JjYceUY1SUVvB///t/1NbWcs3V19ClT5eUY0Rro0ybMo3yqnJO\nPfVUCrsWphwjFosx/dXplOws4cQTTqR77+4pxwB4+4232bB1A8eNPo6+A/oeUAxJUvsQicVizbe1\n4uJm3JikxuJVFaT9M/nlyUzqO4nyw8spmFvAlduuZOzpY9OdVtpMe2Yaf934V/gGsA1yf5XLPb+7\nJ6XiwcpFK/nJSz+h+rpqKIcut3bhrz//K1lZ+3/uo2RDCdfffT0V/14BUci/NZ87fnAHeQV5+x2j\noqyC6/5wHaU/LoUsyLs9j9svu50e/Xrsd4xoNMp///O/ebvobciHgQ8N5Mazb6Rrz677HSMWi3HH\n/Xcw7dxp0BX6Pd2PHx/9Y/oN7LffMQDuLb6XF055gdo+tfR8uSc39L+BYKSFrnbDD3ZJSRQVEWlo\nvUMVJElqJFNLp1J+eDkApUeVMnXr1DRnlF73vX0fXA1EgK5QeVklMx+fmVKMOx+/k+rvVce/seTD\ntm9t48UHXkwpxt/u+hsVP6yI91nmwM4f7uTu/7s7pRj333E/pT8ohVwgEyr+rYI7/3lnSjEWzV3E\n22e8DQVABJZ/dTkvzkjtb9myegtvHvYmdIvHWHPBGl58P7UYVeVVvNHpDWr71kIENp6zkSkfT0kp\nhiSpfXGogqR9Kir+9HdPUkjJReoX6e2z21O0EWLEGtjP+xAhsudzEYNILMUYGZGDfj4jkQa2mWLM\nSCRy8K+zhv50X6vtS90PdvDDXdI+2XEgSVIjObPwTDrOi4+dL3i/gLN6nJXmjNLryhOvhDuJH5Ru\nhrwH8jhx4okpxfjWRd8i58858aJDKXS9sytfuPQLKcX49je/Td4f8qAaqICCPxRw1XevSinGZd++\njE63d4IKoAbybsvjO9/4Tkoxhh45lDHTxsAOIAqDHhzEF0/9YkoxuvXvxskfn0xkU7yQ0f/J/ow/\ndnxKMXLycjht52lkrc6CGPSa3IvxI1KLIUlqX5zjQFJKPCkh7d3CeQtZvGwxhw07jKEjhqY7nbT7\n4K0PuHfSvXTJ68JPb/npAU2OuGHFBu6fFJ8c8drrryUrJ/WGydItpdz5/91JZiSTb37vmynNb7BL\nRVkFd/7lTqprq7n6mqvp3KtzyjGi0ShvvPwG5VXlnHzKyXTq0inlGLFYjJnTZrKtdBtjThhDt17d\nUo4B8M6Md1i/eT3HHXscvfv3PqAYaiP8cJeUkGyOAwsHklLidwtJktoYP9wlJTg5oiRJkiRJSpmF\nA0mSJEmSlJSFA0mSJEmSlJSFA0mSJEmSlJSFA0mSJEmSlFTq1zOS1K4VFe+57ETMkiRJUttmx4Ek\nSZIkSUrKwoEkSWpQyeYSXn3hVRa8v+CAY+zcvpNpL05j7ttzicVijZhdamqqapjxygzemvoW0dpo\n2vKIxWK8O/1dXpv8GhU7K9KWR2NZsmAJrzz/ChvXbkx3KpKkJuRQBUmS9Bkrl63kD3P/wJoJa8he\nns35T57PVy/8akoxNq/fzC2v3sLyicvJ2JDB2Q+fzbVfvbaJMk6uurKa3076LR8WfQg1cOw/j+VH\nX/8RGZnNe/4kFovxv/f/L6+f8zp0hpeKX+LGC26koHNBs+bRWJ576Tke6fsI5ePK6Tm1J9/b9D1G\nHjEy3WlJkpqAHQeSJOkznn3/WdZcuAZyoHpYNa/kvZLyGfJn33yW5V9dDrkQHRBl2qHT2LRyUxNl\nnNzLU17mw8s/hE5AV3i36F1mvDqj2fNYMm8Jb5z4BvQBOsDiyxfz3KvPNXsejSEWizF552TKjyyH\nLNh4zkaeX/R8utOSJDURCweSJOkzYpl7DiuozalNucU/mhGFSJ3lvCjV1dWNkV5KaqI1e/ZY5kB1\nbfPnUV1dTSy3zn7NSOyjViqaGd3rsiSp7bBwIEmSPmPskLF0m9YtvrAVPr/283Qs7JhSjLOOOIve\nz/eOL+yE4989nj6D+zRuovvhzNPPZMikIRAFaiF4IOCU009p9jyCowNGTxkNlUAM+j/Wn7OPP7vZ\n82gMkUiEE2tPJGtNvCLT6d1OnNbrtDRnpQNWVPzpjyQ1INKsExUVF6dvViRJTcLLMUpt1/Ily3ln\n/jt069CNsWePJRKJ7PtB9axduZaZ788kPzufc8ad0+zzCuxSWlLKlGlTyIxkMu6sceTl56Ulj5rq\nGia/NJmKaAWnn3A63Xt3T0sejeXN199k7ba1jBo6imBkkO501Bj8YJfataIiGvywt3AgqdH4XUOS\npFbOD3OpXUtWOHCogiRJkiRJSsrCgSRJkiRJSsrCgSRJkiRJSsrCgSRJkiRJSsrCgSRJkiRJSsrC\ngSRJkiRJSsrCgSRJkiRJSsrCgSS1QtFolIXvLWTh+wuJxWLpTkctUFlJGe+/+T4bVm444BgVpRXM\nmTmH1UtXN2JmkiSptclKdwKS2o6i4j2Xi4vSk0dbF62Ncvu9tzPrzFkQgzH/HMO/XvmvZGRYC1bc\nJ4s/4Y8f/pE1p6wh/+N8vrboa4w7c1xKMTas2cBtb9zGJ2d+Qt7yPCaGE7nwixc2UcaSJKkl81um\nJLUy06ZMY9bFs2AgMAjemvgW01+Znu601II8OfdJ1ly4BnrAzpN28tzW51LuTHli5hN8cskn0BMq\njqvghdgLVJVXNU3CkiSpRbNwIEmtTFl1GXSss6IAyirL0paPWp7q7Oo9l3OqUy4c1GTX7LFclV9F\ndWV1kntLkqS2zMKBJLUyp518GgMfHggxIAaDHxrMqaeemu601IKM6TqGjvMS1aWtMHrH6JSHspzU\n/yQK3yqML+yEoz85mvwu+Y2cqaQWp6j40x9JSog066RaxcXO4CW1I85x0HS2btzKSzNeIkKE8aeO\np3P3zulOSS3M3Pfm8uGqD+mR24Nx48YRiURSjrFg/gLeW/IenTM7M2H8BDIyPd8gtSt+kEvtTlER\nDX5hsHAgqcn4fUOSpFbMD3Kp3UlWOPDUgSRJkiRJSsrCgSRJkiRJSior3QlIarvqzqtkt6MkSZLU\nOtlxIEmSJEmSkrJwIEmSJEmSkrJwIEmSJEmSktqvwkEQBCcEQTC1gfXnB0EwKwiCN4MguLbx05Mk\nSZIkSem0z8JBEAQ/Bv4O5NZbnw3cDpwDnA58KwiCXk2RpCSpbVs5fyXvvPAOFWUVac1j04pNzHp2\nFqVbStOaR2VZJSsXrKRse1la82gMtTW1rPp4FdvWbzvgGNFolDWL17Bl9ZZGzEySJO2v/bmqwmJg\nInBfvfUjgMVhGJYABEEwHTgNeLRRM5QktWm3/ulW3h35LgyGDv/TgVsvvZU+n+vT7Hnce9+9PJ//\nPNFRUbIfy+aG4TdwwuknNHsei8PF/HX+X1l1xCp6vtGTa/pcwzHHHtPseTSGitIKflf8Oz468SPy\nFuXxpXe+xMRzJ6YUo6aqhj/c/wfeP+F9sjdlM+6tcVzxlSuaKGNJktSQfXYchGH4OFDTwE2FQEmd\n5R1A50bKS5LUDmxasYl3D3033rt2GJT/uJzbJ92ellwmV04mOjEKw6H6m9Xc/d7dacnj0XmPsmri\nKhgGG8/dyGPLHktLHo3h8SmP8+GVHxI9LErZKWU8Xfh0yp0Hz7/0PO9e9i7Rw6NUjqnkhcNeYNmC\nZU2UsSRJasjBTI5YAnSqs9wJ2Hpw6UiS2pNt67dB7zorMqA6vzotudR03LNGXl2Qnjwqcyr3WK7I\nSe/wjYNRkVkBmXWWe1ZQWpLaMJAyyvYYLFnTp4atW/y6IUlSczqYwsFCYFgQBF2DIMghPkxhZuOk\nJamtKSr+9EfaZdDoQXR6sdOnfW1vwsm9Tk5LLn0W9YHtiYWlMGLniLTkcWTGkWStTowk3Aajykel\nJY/GcMKgEyh8szC+UAsjZo6g75C+KcUYM3IM3V/uHl+IwdDnhzLqmNa7T6RWpe6Htx/gUrsWicVi\n+7xTEASDgAfCMDwpCIKvAQVhGP49CILzgJ8TL0DcFYbhHXsNVFy8741JavOKi9KdgVqS0i2l3PK3\nW6joUMFJ/U5i4sWpjYFvLDU1Ndz2x9vYmLWRwzocxje//c205AEwdepUlpYupU9WHyaMn0AkEklb\nLgdr/gfzefuTt8mryWPiuInkFeSlHGNJuITXw9fJqsnigrEXUNitsAkylbRPfoBLbV5REQ1+6div\nwkGjsXAgCb93SJLUKvkBLrV5yQoHBzNUQZIkSZIktXEWDiRJkiRJUlJZ6U5AUvtTf34lOx8lSZKk\nlsuOA0mSJEmSlJSFA0mSJEmSlJSFA0mSJEmSlJSFA0mSJEmSlJSFA0mSJEmSlJRXVZAkSZK0b3Uv\ni+QlkaR2xY4DSZIkSZKUlIUDSZIkSZKUlIUDSZIkSZKUlIUDSZIkSZKUlIUDSZIkSZKUlFdVkJR2\nTtIsSZIktVx2HEiSJEmSpKQsHEiSJEmSpKQsHEiSJEmSpKQsHEiSJEmSpKQsHEiSJEmSpKQsHEiS\nJEmSpKQsHEiSJEmSpKSy0p2AJNVVVLzncnFRevKQJEmSFGfHgSRJkiRJSsrCgSRJkiRJSsrCgSRJ\nkiRJSsrCgSRJkiRJSsrCgSRJkiRJSsrCgSRJkiRJSsrCgSRJkiRJSior3QlI0t4UFX/6e3FR+vKQ\nJEmS2is7DiRJkiRJUlIWDiRJkiRJUlIOVZAkSZKUmrpjCcHxhFIbZ8eBJEmSJElKysKBJEmSJElK\nysKBJEmSJElKysKBJEmSJElKysKBJEmSJElKyqsqSGo1nMBZkiRJan52HEj/f3v3Hxx1fedx/Jmf\nBAMkQRAQRQzoxzsVbS2HRZFKDylYQB1TW6mDnJ2ztXO1OvVH5VCPq9W2evWuHa8dPQ+doq25q9Ur\nU7WeDmpruWIFBOIHlYpAAH9AoQRD2M3eH1kQKyt+Idldkudjxpn9JuT9eQUYl33t5/uJJEmSJCkn\niwNJkiRJkpSTxYEkSZIkScrJ4kCSJEmSJOVkcSBJkiRJknKyOJAkSZIkSTlZHEiSJEmSpJzKCx1A\nkg5UQ+N7jxsbCpdDkiRJ6s7ccSBJkiRJknKyOJAkSZIkSTl5q0IPlslkePjBBylfsoRdlZUMmz6d\n0aNHFzqWJEmSJKmIWBz0YE899RRnPvooR7S3A/DEvffyzgkncHjfvgVOJkmSJEkqFt6q0IO1rFu3\npzQAOPGdd3h93boCJpIkSZIkFRuLgx6srr6eN8rf23SyZNAgRgwbVsBEkiRJkqRi460KPdi4ceNY\nsHkzS154gbbKSo4//3xqq6sLHUuSJEmSVEQsDnq4c6dPh+nTCx1DkiRJklSkLA4kdQsNje89bmwo\nXA5JkiSpu/GMA0mSJEmSlJPFgSRJkiRJyslbFSRJkiQdHO8ZlLo1dxxIkiRJkqScLA4kSZIkSVJO\nH3qrQgihFLgLGAXsBL4UY3xtr89fBVwGvJX90OUxxlVdlFWSJEmSJOXZ/s44OA+ojDGODSGMAe7I\nfmy3jwOXxBhf7KqAkiRJkiSpcPZXHJwBPAYQY1wUQvjEX3z+NOCGEMJgYEGM8bYuyKgi9+Tjj9Py\n29/SXlbG0MmT+ZvRowsdST3c3uczgWc0SZIkSQdjf2cc9AO27XWdzt6+sNuDwOXABODMEMK5nZxP\nRW7xiy9y1Pz5TG9q4vzly2m95x7WbtpU6FiSJEmSpE6yv+JgG9B3718fY2zf6/pfY4ybY4y7gAXA\nxzo7oIpb86uvckJr657rMVu2sKKpqYCJJEmSJEmdaX/FwW+AKQAhhNOBZbs/EUKoAV4KIVSHEEro\n2HWwuKuCqjgdMXw4qysr91z/oW9fwsiRBUwkSZIkSepM+zvj4GFgYgjhN9nrWSGELwB9Yox3hxCu\nB56m4ycuPBljfKwLs6oInT56NAsaGlj+/POkS0sZOHkyxx51VKFjSZIkSZI6SUkmk8nfao2NeVxM\nkjp4OKIkSXnkE690yGpooGRfH9/frQqSJEmSJKkHsziQJEmSJEk5WRxIkiRJkqSc9nc4oiQd8hoa\n31URgBwAAA1SSURBVHvsbZeSJElSMu44kCRJkiRJOVkcSJIkSZKknCwOJEmSJElSThYHkiRJkiQp\nJw9HTCiVTvOL+fOpfOMNdtTW8pmZM6nt27cgWa77+tcZtmkTW8rKOHHmTM6fODHxjCefeIIdixez\nq6KCky64gDBiROIZzz77LJufe450aSkjpkzhlJNPTjyjMyxbsYJXFyygPJ2mduxYzho/viA5JEmS\nJKk7sThI6JH585nyy19yGJAB5re08MXrrst7jtnf/CZfa25mKEA6zZ13383WT36Smj59PvKM53/3\nO465/36Oa2sD4Bfr1zPk29+m32GHfeQZy1asoN+99zKupQWAX69Zw4a5cxkyYECSb+egvbllC813\n3cUFb70FwEsx8mJdHR8bNSqvOSRJkiSpu/FWhYQq1q5l98vqEqDfunUFydFnd2mQNQ54auXKRDPe\ninFPaQDwieZmXlmzJtGM11eu5JRsaQBw1ttvs3T58kQzOsOyFSsYly0NAE7esYO1TU15zyFJkiRJ\n3Y07DhJ6t7aWDB2lAcCOurqC5Hinupp3332X3tnrlcCEkSMTzeg1aBBbgN3fwaqaGk468shEM+qG\nDmV9eTlDUykAlldXM6K+PtGMzlB/7LEsr65mTLbE2FBWRk3C70U9Q0Pj+68bGwqTQ5IkSTpUWBwk\n9JmZM3mgpYW+a9eyo39/Rs+aVZAcN99xBzdefjmntLayFdh5xhkM7d8/0YxzJk3ioeZmei9dyq7K\nSgZPm8YRNTWJZowbO5aH16yhdNEi0mVl1EyaxGnDhiWa0Rnqhw5lzYwZ/PxXv6IslSI9ZgwXjBuX\n9xySJEmS1N2UZDKZ/K3W2JjHxSRp/9xxIElSJ/PJVTpkNTTs2Vz/Pu44kCRJktR5vC9Q6nY8HFGS\nJEmSJOVkcSBJkiRJknKyOJAkSZIkSTlZHEiSJEmSpJwsDiRJkiRJUk7+VAVJPdreBz976LMkSZL0\nQe44kCRJkiRJObnjIKFUKsUdt9xCTXMzm/v25e9vvJEB/folmpFOp5l9zTUM3riRTRUVfGHOHEaN\nHJk4y1NPPsn2pUvZ2bs3Z110EYMOPzzxjM7w+8WLaX7mGdJlZZz42c8SRowoSA5JkiRJUuezOEjo\n9rlzufzll6kDUlu2cOs11zDnxz9ONGP2tddy5bp1DAEyqRQ3z5nDqAcfTDTjmYULGT5vHvVtbWSA\nnzQ3c/HcuZSV5ncTSdOqVbT/6EdM37YNgAWvvUb/uXMZWFub1xySJEmSpK7hrQoJHb5uHXXZx+XA\nyK1bE884YuNGhmQflwCnpdOs37w50Yw/NTVR39a2Z8ZJq1fTnHBGZ3hl2TLGZEsDgL/duJE/LFmS\n9xySJEmSpK7hjoOEtvTuTWb7dkqy15srKxPPeLOykvZdu/a0Ns3AuTU1iWaka2poA3avvr6ujuP7\n9Emc5WBVDxjAW6WlDGxvB2BVVRVHH3103nNIncGDEiVJkqQPsjhIaOo3vsH35s7luB072FBRwfAZ\nMxLP+Lu5c7n52ms5NZ1mI7DzzDMpKytLNGPKhRfy0w0bGBAjLYcdxtALL6S6qipxloM1Yfx4Hvrj\nH6letIhUWRm9zjmHyZ5xIEmSJEndRkkmk8nfao2NeVysa21vbaXPQb5Q37x9OzW9eycuDfa2K5Wi\nvKyMkpKS/f/iLpRKpyktKaE0z2csSF3FHQeSJHUSn1SlQ0ZDA/t8YemOgwN0sKUBQP9OuLWgorw4\n/gjLD6L8kCRJkiQVL98eliRJkiRJOVkcSJIkSZKknCwOJEmSJElSThYHkiRJkiQpJ4sDSZIkSZKU\nU3EcyS9JRaah8f3X/iQpSZIk9VTuOJAkSZIkSTnldcfBoz/8IdUh8OmJE/O57B6pVIrvf+c79N6w\ngZaBA7lq9mwqy5P9FqRSKa684gqO3LaN9RUV3PiDHzC4tjZxlosvuoi/ymRYD0y//nomf/zjiWdc\netll1P/5z7wFnPWVr9Bw9tmJZ/zD1VczcN06tpaUcPKMGVw6bVriGcubmnjt6adJl5Vx2tSpHHPk\nkYlndIa1Gzbw+0cfpSyd5tjx4xl14okFySFJkiRJ3UlJJpPJ42olmfVlZSy/5BImTZmSv3Wzbrn+\ner66ejW1wHbgzmHD+Mfbb08046uzZjGnpYXBwE7g+pISvv+znyWacfHnPse3gHogBcwGvvPQQ4lm\nzPrSl7h62zZOBjLAPwFfu/de+vfp85FnXH3DDVz46quMzc74PnDO7bdz0rBhH3nGq6+/zvrbbmP8\n5s0A/Pyoozj75pup69cvwXdz8La2tPDrm27iwjfeAODZujoGXXcdx9fX5zWHui9vVZAk6QD5JCod\nMhoaKNnXx/N+q8LQdJqdy5fne9mOtZub2b03oA9wzMaNiWeckC0NAHoBnziA4uUUOkoD6NjycQbw\n3MqViWYcnS0NAEqAc4E7Hnkk0YyS1asZu9eMBuC78+YlmrFy8eI9pQHA5HXr+P2SJYlmdIYXli5l\nUrY0ABi3ZQsvL16c9xySJEmS1N3k/XDEDLCzujrfywKwtbISWlvfu66oSDzj7dJSaG/fc/3OAeTY\nSMfvw+4qZxNwTsJ3xjcCaaAse70G+PSoUYlmvFNeTmtbG1XZ6z8Cp5588od9yQf0qq1lK1CzO0dF\nBYMHDUo0ozMMHjyYNZWVnNTWBsCfgYqamg//IimBvQ9L9I0TSZIS8ElUOuTldcfB81VV/CQEzvr8\n5/O57B4nzZzJXRUVPAf8qKKC+hkzEs8YefHFfBd4FrgH2JzwhTbAkKlTmZudcR+wsLycqqqq/XzV\n+33x5puZDSwEHgB+VVnJhIRZbr3zTq4Hngb+G5jfqxdXn39+ohkTJ0zg0U99ioXV1TzRrx8vT53K\nqBASzegMf11fz+pp03i8poZnqqt5eNw4JhXoLA1JkiRJ6k7yesbBm/fckxnQty+lpYX7YQ5tqRSv\nbNjAcUOGJD4YcbfW1lYeX7aMM44/ngEHcDDi7hnffuQRLhgzhlOHDz+gGW1tbdy3cCFjjjuOUQc4\nY9euXSx48UWGDxzIqccee0AzAP7U0kJ5WRl9EhYgna2ltZW2VIq6BGc9SEn5ZokkSQfIJ1GpqOU6\n4yC/hyM2NuZxMUnqGv6bR5KkA+STqFTUiuZwREmSJEmSdOiwOJAkSZIkSTlZHEiSJEmSpJwsDiRJ\nkiRJUk4WB5IkSZIkKacD+3mEktSDNTS+/9oDoiVJktSdueNAkiRJkiTldMjsOGhvb+exBQtIbdpE\n3/p6zp4wodCRDsrvFi3izZdeIlNby5TzzqOiPPkfxZx//mcyTU1sLi/nyltvJQwd2gVJJUmSJEk9\n2SFTHDTOm8dnHnuMGmB9eTkLtm3j3PPOK3SsA/LsM88w8J57OL21lVbggbVrmXnVVYlm3HDTTUxr\nauJ0IJVKMeeqq7jp/vupqqrqksySJEmSpJ7pkLlVofeKFdRkHw9NpUgvXVrQPAdjywsvcEJrKwBV\nwOCVK2lta0s0o3LVKk7PPi4HzgceWrSoM2NKkiRJkkRJJpMpdAZJkiRJklSkDpkdB5IkSZIkKf8s\nDiRJkiRJUk4WB5IkSZIkKSeLA0mSJEmSlJPFgSRJkiRJysniQJIkSZIk5VSez8VCCGOA22KMZ+dz\nXemjCiFUAPcCxwC9gG/FGP+nsKmkDwohlAF3A8cDGeDLMcYVhU0l7VsI4QjgBeDTMcZVhc4j7UsI\n4Q/A1uzl6hjjZYXMI+USQvgmMBWoAH4YY7yvwJHUA+StOAghXAt8EdierzWlAzADeCvGeEkIoQ5Y\nAlgcqBh9FmiPMZ4ZQhgP3AKcV+BM0gdkC9kfAy2FziLlEkKoAvDNLRW7EMKngE/GGMeGEKqBawsc\nST1EPm9VeBW4ACjJ45pSUo3AjdnHpUCqgFmknGKMjwCXZy+HA1sKl0b6UN8D/h3YUOgg0oc4BTgs\nhPB4COF/s7tkpWJ0DvBSCOEXdLy59WiB86iHyFtxEGP8Ob4IU5GLMbbEGLeHEPrSUSLMLnQmKZcY\nYzqEMA/4N+CBAseRPiCEcCkdu7ieyH7INw9UrFqA78UYJwFfBuaHEDwLTMVoIHAacCHZv6uFjaOe\nwv8hSn8hhHA08BRwf4zxp4XOI32YGOOldJxzcHcIoXeB40h/aRYwMYTwNHAqcF8IYVCBM0n7sors\nC7AY4yvAO8CQgiaS9u1t4IkYYyp7ZkxrCGFAoUOp+8vr4YhSscv+g/YJ4IoY49OFziPlEkK4BDgq\nxngr8C7Qnv1PKhoxxvG7H2fLg8tjjJsKGEnKZRYwCvhqCOFIoB/eXqPi9BxwJfAv2b+r1XQUXVKX\nKkRxkCnAmtJHdQNQA9wYQth91sHkGGNrATNJ+/JfwLwQwkI6TlW+Msa4s8CZJOlQ9R/Af4YQnsle\nz4oxWsaq6MQYF4QQzgoh/B8du8eviDH6+kpdriST8e+ZJEmSJEnaN884kCRJkiRJOVkcSJIkSZKk\nnCwOJEmSJElSThYHkiRJkiQpJ4sDSZIkSZKUk8WBJEmSJEnKyeJAkiRJkiTlZHEgSZIkSZJy+n9Q\nm9UxbZSAVwAAAABJRU5ErkJggg==\n",
       "text": [
        "<matplotlib.figure.Figure at 0x1224f8e90>"
       ]
      }
     ],
     "prompt_number": 93
=======
     "outputs": []
>>>>>>> 016478627c6b1264d8355bed55ac8d2e77152e78
    },
    {
     "cell_type": "heading",
     "level": 3,
     "metadata": {},
     "source": [
      "Scaling"
     ]
    },
    {
     "cell_type": "code",
     "collapsed": false,
     "input": [
      "iris_df.describe()"
     ],
     "language": "python",
     "metadata": {},
     "outputs": []
    },
    {
     "cell_type": "code",
     "collapsed": false,
     "input": [
      "from sklearn.preprocessing import scale"
     ],
     "language": "python",
     "metadata": {},
     "outputs": []
    },
    {
     "cell_type": "code",
     "collapsed": false,
     "input": [
      "df_norm = pd.DataFrame(scale(iris.data), columns=iris.feature_names)"
     ],
     "language": "python",
     "metadata": {},
     "outputs": []
    },
    {
     "cell_type": "code",
     "collapsed": false,
     "input": [
      "df_norm.head()"
     ],
     "language": "python",
     "metadata": {},
     "outputs": []
    },
    {
     "cell_type": "code",
     "collapsed": false,
     "input": [
      "df_norm.describe()"
     ],
     "language": "python",
     "metadata": {},
     "outputs": []
    },
    {
     "cell_type": "heading",
     "level": 2,
     "metadata": {},
     "source": [
      "Lab"
     ]
    },
    {
     "cell_type": "markdown",
     "metadata": {},
     "source": [
      "1. Rerun the [parameter search](#Parameter-Search) with `random_state=8`. Do you get the same result for the optimal $k$\n",
      "2. Rerun the whole lab but using [scaled](#Scaling) data"
     ]
    },
    {
     "cell_type": "markdown",
     "metadata": {},
     "source": [
      "## Show and Tell"
     ]
    }
   ],
   "metadata": {}
  }
 ]
}