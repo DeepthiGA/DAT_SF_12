{
 "metadata": {
  "name": "",
<<<<<<< HEAD
  "signature": "sha256:a8308ca43d1a18d57c3fc91a730cba870d8994a237b0a8d8a0d3efcef428a039"
=======
  "signature": "sha256:72729ff11b1b5cc20de7d22f77230f80112f13b7ffa77acb5c6fd81b19557f0c"
>>>>>>> 2dcb583f4a2e2671df222b62e834a35798a83b0d
 },
 "nbformat": 3,
 "nbformat_minor": 0,
 "worksheets": [
  {
   "cells": [
    {
     "cell_type": "heading",
     "level": 1,
     "metadata": {},
     "source": [
      "Lab"
     ]
    },
    {
     "cell_type": "markdown",
     "metadata": {},
     "source": [
      "http://tinyurl.com/enron-db"
     ]
    },
    {
     "cell_type": "code",
     "collapsed": false,
     "input": [
      "%load_ext sql"
     ],
     "language": "python",
     "metadata": {},
     "outputs": [],
     "prompt_number": 1
    },
    {
     "cell_type": "code",
     "collapsed": false,
     "input": [
      "%%bash\n",
      "sqlite3 enron.db .tables"
     ],
     "language": "python",
     "metadata": {},
     "outputs": [
      {
       "output_type": "stream",
       "stream": "stdout",
       "text": [
        "Employee          EmployeeWithVars  MessageBase       RecipientBase   \n",
        "EmployeeBase      Message           Recipient       \n"
       ]
      }
     ],
     "prompt_number": 6
    },
    {
     "cell_type": "markdown",
     "metadata": {},
     "source": [
      "We only care about the `*Base` tables:\n",
      "\n",
      "- EmployeeBase\n",
      "- MessageBase\n",
      "- RecipientBase\n",
      "\n",
      "(The other tables are derived from those. We don't need them for this exercise.)"
     ]
    },
    {
     "cell_type": "code",
     "collapsed": false,
     "input": [
      "%%sql sqlite:///enron.db\n",
<<<<<<< HEAD
      "SELECT * FROM EmployeeBase LIMIT 5\n",
=======
      "SELECT * FROM EmployeeBase LIMIT 5;"
     ],
     "language": "python",
     "metadata": {},
     "outputs": [
      {
       "output_type": "stream",
       "stream": "stdout",
       "text": [
        "Done.\n"
       ]
      },
      {
       "html": [
        "<table>\n",
        "    <tr>\n",
        "        <th>eid</th>\n",
        "        <th>name</th>\n",
        "        <th>department</th>\n",
        "        <th>longdepartment</th>\n",
        "        <th>title</th>\n",
        "        <th>gender</th>\n",
        "        <th>seniority</th>\n",
        "    </tr>\n",
        "    <tr>\n",
        "        <td>1</td>\n",
        "        <td>John Arnold</td>\n",
        "        <td>Trading</td>\n",
        "        <td>ENA Gas Financial</td>\n",
        "        <td>VP Trading</td>\n",
        "        <td>Male</td>\n",
        "        <td>Senior</td>\n",
        "    </tr>\n",
        "    <tr>\n",
        "        <td>2</td>\n",
        "        <td>Harry Arora</td>\n",
        "        <td>Trading</td>\n",
        "        <td>ENA East Power</td>\n",
        "        <td>VP Trading</td>\n",
        "        <td>Male</td>\n",
        "        <td>Senior</td>\n",
        "    </tr>\n",
        "    <tr>\n",
        "        <td>3</td>\n",
        "        <td>Robert Badeer</td>\n",
        "        <td>Trading</td>\n",
        "        <td>ENA West Power</td>\n",
        "        <td>Mgr Trading</td>\n",
        "        <td>Male</td>\n",
        "        <td>Junior</td>\n",
        "    </tr>\n",
        "    <tr>\n",
        "        <td>4</td>\n",
        "        <td>Susan Bailey</td>\n",
        "        <td>Legal</td>\n",
        "        <td>ENA Legal</td>\n",
        "        <td>Specialist Legal</td>\n",
        "        <td>Female</td>\n",
        "        <td>Junior</td>\n",
        "    </tr>\n",
        "    <tr>\n",
        "        <td>5</td>\n",
        "        <td>Eric Bass</td>\n",
        "        <td>Trading</td>\n",
        "        <td>ENA Gas Texas</td>\n",
        "        <td>Trader</td>\n",
        "        <td>Male</td>\n",
        "        <td>Junior</td>\n",
        "    </tr>\n",
        "</table>"
       ],
       "metadata": {},
       "output_type": "pyout",
       "prompt_number": 8,
       "text": [
        "[(1, u'John Arnold', u'Trading', u'ENA Gas Financial', u'VP Trading', u'Male', u'Senior'),\n",
        " (2, u'Harry Arora', u'Trading', u'ENA East Power', u'VP Trading', u'Male', u'Senior'),\n",
        " (3, u'Robert Badeer', u'Trading', u'ENA West Power', u'Mgr Trading', u'Male', u'Junior'),\n",
        " (4, u'Susan Bailey', u'Legal', u'ENA Legal', u'Specialist Legal', u'Female', u'Junior'),\n",
        " (5, u'Eric Bass', u'Trading', u'ENA Gas Texas', u'Trader', u'Male', u'Junior')]"
       ]
      }
     ],
     "prompt_number": 8
    },
    {
     "cell_type": "code",
     "collapsed": false,
     "input": [
>>>>>>> 2dcb583f4a2e2671df222b62e834a35798a83b0d
      "%%sql sqlite:///enron.db\n",
      "SELECT * FROM MessageBase LIMIT 5;"
     ],
     "language": "python",
     "metadata": {},
     "outputs": [
      {
       "output_type": "stream",
       "stream": "stdout",
       "text": [
        "Done.\n"
       ]
      },
      {
       "html": [
        "<table>\n",
        "    <tr>\n",
        "        <th>mid</th>\n",
        "        <th>filename</th>\n",
        "        <th>unix_time</th>\n",
        "        <th>subject</th>\n",
        "        <th>from_eid</th>\n",
        "    </tr>\n",
        "    <tr>\n",
        "        <td>1</td>\n",
        "        <td>taylor-m/sent/11</td>\n",
        "        <td>910930020</td>\n",
        "        <td>Cd$ CME letter</td>\n",
        "        <td>138</td>\n",
        "    </tr>\n",
        "    <tr>\n",
        "        <td>2</td>\n",
        "        <td>taylor-m/sent/17</td>\n",
        "        <td>911459940</td>\n",
        "        <td>Indemnification</td>\n",
        "        <td>138</td>\n",
        "    </tr>\n",
        "    <tr>\n",
        "        <td>3</td>\n",
        "        <td>taylor-m/sent/18</td>\n",
        "        <td>911463840</td>\n",
        "        <td>Re: Indemnification</td>\n",
        "        <td>138</td>\n",
        "    </tr>\n",
        "    <tr>\n",
        "        <td>4</td>\n",
        "        <td>taylor-m/sent/23</td>\n",
        "        <td>911874180</td>\n",
        "        <td>Re: Coral Energy, L.P.</td>\n",
        "        <td>138</td>\n",
        "    </tr>\n",
        "    <tr>\n",
        "        <td>5</td>\n",
        "        <td>taylor-m/sent/27</td>\n",
        "        <td>912396120</td>\n",
        "        <td>Bankruptcy Code revisions</td>\n",
        "        <td>138</td>\n",
        "    </tr>\n",
        "</table>"
       ],
       "metadata": {},
       "output_type": "pyout",
       "prompt_number": 9,
       "text": [
        "[(1, u'taylor-m/sent/11', 910930020, u'Cd$ CME letter', 138),\n",
        " (2, u'taylor-m/sent/17', 911459940, u'Indemnification', 138),\n",
        " (3, u'taylor-m/sent/18', 911463840, u'Re: Indemnification', 138),\n",
        " (4, u'taylor-m/sent/23', 911874180, u'Re: Coral Energy, L.P.', 138),\n",
        " (5, u'taylor-m/sent/27', 912396120, u'Bankruptcy Code revisions', 138)]"
       ]
      }
     ],
     "prompt_number": 9
    },
    {
     "cell_type": "markdown",
     "metadata": {},
     "source": [
<<<<<<< HEAD
=======
      "What about the last 5 messages?"
     ]
    },
    {
     "cell_type": "code",
     "collapsed": false,
     "input": [
      "%%sql sqlite:///enron.db\n",
      "SELECT * FROM MessageBase ORDER BY unix_time DESC LIMIT 5"
     ],
     "language": "python",
     "metadata": {},
     "outputs": [
      {
       "output_type": "stream",
       "stream": "stdout",
       "text": [
        "Done.\n"
       ]
      },
      {
       "html": [
        "<table>\n",
        "    <tr>\n",
        "        <th>mid</th>\n",
        "        <th>filename</th>\n",
        "        <th>unix_time</th>\n",
        "        <th>subject</th>\n",
        "        <th>from_eid</th>\n",
        "    </tr>\n",
        "    <tr>\n",
        "        <td>21635</td>\n",
        "        <td>germany-c/inbox/23</td>\n",
        "        <td>1024666654</td>\n",
        "        <td>Master Termination Log</td>\n",
        "        <td>92</td>\n",
        "    </tr>\n",
        "    <tr>\n",
        "        <td>21634</td>\n",
        "        <td>germany-c/inbox/42</td>\n",
        "        <td>1023970571</td>\n",
        "        <td>Netting Agreement Materials</td>\n",
        "        <td>4</td>\n",
        "    </tr>\n",
        "    <tr>\n",
        "        <td>21633</td>\n",
        "        <td>germany-c/personal/1</td>\n",
        "        <td>1023873696</td>\n",
        "        <td>RE: Job Ops</td>\n",
        "        <td>57</td>\n",
        "    </tr>\n",
        "    <tr>\n",
        "        <td>21632</td>\n",
        "        <td>germany-c/sent_items/74</td>\n",
        "        <td>1023873633</td>\n",
        "        <td>Job Ops</td>\n",
        "        <td>39</td>\n",
        "    </tr>\n",
        "    <tr>\n",
        "        <td>21631</td>\n",
        "        <td>germany-c/inbox/49</td>\n",
        "        <td>1023708531</td>\n",
        "        <td>NNG Deals</td>\n",
        "        <td>39</td>\n",
        "    </tr>\n",
        "</table>"
       ],
       "metadata": {},
       "output_type": "pyout",
       "prompt_number": 10,
       "text": [
        "[(21635, u'germany-c/inbox/23', 1024666654, u'Master Termination Log', 92),\n",
        " (21634, u'germany-c/inbox/42', 1023970571, u'Netting Agreement Materials', 4),\n",
        " (21633, u'germany-c/personal/1', 1023873696, u'RE: Job Ops', 57),\n",
        " (21632, u'germany-c/sent_items/74', 1023873633, u'Job Ops', 39),\n",
        " (21631, u'germany-c/inbox/49', 1023708531, u'NNG Deals', 39)]"
       ]
      }
     ],
     "prompt_number": 10
    },
    {
     "cell_type": "markdown",
     "metadata": {},
     "source": [
>>>>>>> 2dcb583f4a2e2671df222b62e834a35798a83b0d
      "`from_eid` looks like a foreign key"
     ]
    },
    {
     "cell_type": "code",
     "collapsed": false,
     "input": [
      "%%sql sqlite:///enron.db\n",
      "SELECT unix_time, name, department, title, gender, seniority, subject, filename \n",
      "FROM EmployeeBase JOIN MessageBase ON eid = from_eid LIMIT 5;"
     ],
     "language": "python",
     "metadata": {},
     "outputs": [
      {
       "output_type": "stream",
       "stream": "stdout",
       "text": [
        "Done.\n"
       ]
      },
      {
       "html": [
        "<table>\n",
        "    <tr>\n",
        "        <th>unix_time</th>\n",
        "        <th>name</th>\n",
        "        <th>department</th>\n",
        "        <th>title</th>\n",
        "        <th>gender</th>\n",
        "        <th>seniority</th>\n",
        "        <th>subject</th>\n",
        "        <th>filename</th>\n",
        "    </tr>\n",
        "    <tr>\n",
        "        <td>910930020</td>\n",
        "        <td>Mark E. Taylor</td>\n",
        "        <td>Legal</td>\n",
        "        <td>VP &amp; Gen Cnsl</td>\n",
        "        <td>Male</td>\n",
        "        <td>Senior</td>\n",
        "        <td>Cd$ CME letter</td>\n",
        "        <td>taylor-m/sent/11</td>\n",
        "    </tr>\n",
        "    <tr>\n",
        "        <td>911459940</td>\n",
        "        <td>Mark E. Taylor</td>\n",
        "        <td>Legal</td>\n",
        "        <td>VP &amp; Gen Cnsl</td>\n",
        "        <td>Male</td>\n",
        "        <td>Senior</td>\n",
        "        <td>Indemnification</td>\n",
        "        <td>taylor-m/sent/17</td>\n",
        "    </tr>\n",
        "    <tr>\n",
        "        <td>911463840</td>\n",
        "        <td>Mark E. Taylor</td>\n",
        "        <td>Legal</td>\n",
        "        <td>VP &amp; Gen Cnsl</td>\n",
        "        <td>Male</td>\n",
        "        <td>Senior</td>\n",
        "        <td>Re: Indemnification</td>\n",
        "        <td>taylor-m/sent/18</td>\n",
        "    </tr>\n",
        "    <tr>\n",
        "        <td>911874180</td>\n",
        "        <td>Mark E. Taylor</td>\n",
        "        <td>Legal</td>\n",
        "        <td>VP &amp; Gen Cnsl</td>\n",
        "        <td>Male</td>\n",
        "        <td>Senior</td>\n",
        "        <td>Re: Coral Energy, L.P.</td>\n",
        "        <td>taylor-m/sent/23</td>\n",
        "    </tr>\n",
        "    <tr>\n",
        "        <td>912396120</td>\n",
        "        <td>Mark E. Taylor</td>\n",
        "        <td>Legal</td>\n",
        "        <td>VP &amp; Gen Cnsl</td>\n",
        "        <td>Male</td>\n",
        "        <td>Senior</td>\n",
        "        <td>Bankruptcy Code revisions</td>\n",
        "        <td>taylor-m/sent/27</td>\n",
        "    </tr>\n",
        "</table>"
       ],
       "metadata": {},
       "output_type": "pyout",
       "prompt_number": 11,
       "text": [
        "[(910930020, u'Mark E. Taylor', u'Legal', u'VP & Gen Cnsl', u'Male', u'Senior', u'Cd$ CME letter', u'taylor-m/sent/11'),\n",
        " (911459940, u'Mark E. Taylor', u'Legal', u'VP & Gen Cnsl', u'Male', u'Senior', u'Indemnification', u'taylor-m/sent/17'),\n",
        " (911463840, u'Mark E. Taylor', u'Legal', u'VP & Gen Cnsl', u'Male', u'Senior', u'Re: Indemnification', u'taylor-m/sent/18'),\n",
        " (911874180, u'Mark E. Taylor', u'Legal', u'VP & Gen Cnsl', u'Male', u'Senior', u'Re: Coral Energy, L.P.', u'taylor-m/sent/23'),\n",
        " (912396120, u'Mark E. Taylor', u'Legal', u'VP & Gen Cnsl', u'Male', u'Senior', u'Bankruptcy Code revisions', u'taylor-m/sent/27')]"
       ]
      }
     ],
     "prompt_number": 11
    },
    {
     "cell_type": "markdown",
     "metadata": {},
     "source": [
      "Finally, `RecipientBase`:"
     ]
    },
    {
     "cell_type": "code",
     "collapsed": false,
     "input": [
      "%%sql sqlite:///enron.db\n",
      "SELECT * FROM RecipientBase LIMIT 9"
     ],
     "language": "python",
     "metadata": {},
     "outputs": [
      {
       "output_type": "stream",
       "stream": "stdout",
       "text": [
        "Done.\n"
       ]
      },
      {
       "html": [
        "<table>\n",
        "    <tr>\n",
        "        <th>mid</th>\n",
        "        <th>rno</th>\n",
        "        <th>to_eid</th>\n",
        "    </tr>\n",
        "    <tr>\n",
        "        <td>1</td>\n",
        "        <td>1</td>\n",
        "        <td>59</td>\n",
        "    </tr>\n",
        "    <tr>\n",
        "        <td>2</td>\n",
        "        <td>1</td>\n",
        "        <td>15</td>\n",
        "    </tr>\n",
        "    <tr>\n",
        "        <td>3</td>\n",
        "        <td>1</td>\n",
        "        <td>15</td>\n",
        "    </tr>\n",
        "    <tr>\n",
        "        <td>4</td>\n",
        "        <td>1</td>\n",
        "        <td>109</td>\n",
        "    </tr>\n",
        "    <tr>\n",
        "        <td>4</td>\n",
        "        <td>2</td>\n",
        "        <td>49</td>\n",
        "    </tr>\n",
        "    <tr>\n",
        "        <td>4</td>\n",
        "        <td>3</td>\n",
        "        <td>120</td>\n",
        "    </tr>\n",
        "    <tr>\n",
        "        <td>4</td>\n",
        "        <td>4</td>\n",
        "        <td>59</td>\n",
        "    </tr>\n",
        "    <tr>\n",
        "        <td>5</td>\n",
        "        <td>1</td>\n",
        "        <td>45</td>\n",
        "    </tr>\n",
        "    <tr>\n",
        "        <td>5</td>\n",
        "        <td>2</td>\n",
        "        <td>53</td>\n",
        "    </tr>\n",
        "</table>"
       ],
       "metadata": {},
       "output_type": "pyout",
       "prompt_number": 12,
       "text": [
        "[(1, 1, 59),\n",
        " (2, 1, 15),\n",
        " (3, 1, 15),\n",
        " (4, 1, 109),\n",
        " (4, 2, 49),\n",
        " (4, 3, 120),\n",
        " (4, 4, 59),\n",
        " (5, 1, 45),\n",
        " (5, 2, 53)]"
       ]
      }
     ],
     "prompt_number": 12
    },
    {
     "cell_type": "markdown",
     "metadata": {},
     "source": [
      "It looks like we can use this to determine how many recipients each message received  \n",
      "i.e. `MAX(rno)`"
     ]
    },
    {
     "cell_type": "code",
     "collapsed": false,
     "input": [
      "%%sql sqlite:///enron.db\n",
      "SELECT * FROM RecipientBase WHERE rno = 57"
     ],
     "language": "python",
     "metadata": {},
     "outputs": [
      {
       "output_type": "stream",
       "stream": "stdout",
       "text": [
        "Done.\n"
       ]
      },
      {
       "html": [
        "<table>\n",
        "    <tr>\n",
        "        <th>mid</th>\n",
        "        <th>rno</th>\n",
        "        <th>to_eid</th>\n",
        "    </tr>\n",
        "    <tr>\n",
        "        <td>12116</td>\n",
        "        <td>57</td>\n",
        "        <td>51</td>\n",
        "    </tr>\n",
        "    <tr>\n",
        "        <td>12151</td>\n",
        "        <td>57</td>\n",
        "        <td>51</td>\n",
        "    </tr>\n",
        "</table>"
       ],
       "metadata": {},
       "output_type": "pyout",
       "prompt_number": 13,
       "text": [
        "[(12116, 57, 51), (12151, 57, 51)]"
       ]
      }
     ],
     "prompt_number": 13
    },
    {
     "cell_type": "code",
     "collapsed": false,
     "input": [
      "%%sql sqlite:///enron.db\n",
      "SELECT * FROM MessageBase WHERE mid IN (12116, 12151)"
     ],
     "language": "python",
     "metadata": {},
     "outputs": [
      {
       "output_type": "stream",
       "stream": "stdout",
       "text": [
        "Done.\n"
       ]
      },
      {
       "html": [
        "<table>\n",
        "    <tr>\n",
        "        <th>mid</th>\n",
        "        <th>filename</th>\n",
        "        <th>unix_time</th>\n",
        "        <th>subject</th>\n",
        "        <th>from_eid</th>\n",
        "    </tr>\n",
        "    <tr>\n",
        "        <td>12116</td>\n",
        "        <td>baughman-d/all_documents/398</td>\n",
        "        <td>990510780</td>\n",
        "        <td></td>\n",
        "        <td>67</td>\n",
        "    </tr>\n",
        "    <tr>\n",
        "        <td>12151</td>\n",
        "        <td>baughman-d/ect_admin/22</td>\n",
        "        <td>990546780</td>\n",
        "        <td></td>\n",
        "        <td>67</td>\n",
        "    </tr>\n",
        "</table>"
       ],
       "metadata": {},
       "output_type": "pyout",
       "prompt_number": 14,
       "text": [
        "[(12116, u'baughman-d/all_documents/398', 990510780, u'', 67),\n",
        " (12151, u'baughman-d/ect_admin/22', 990546780, u'', 67)]"
       ]
      }
     ],
     "prompt_number": 14
    },
    {
     "cell_type": "code",
     "collapsed": false,
     "input": [
      "%%sql sqlite:///enron.db\n",
      "SELECT * FROM EmployeeBase WHERE eid=67"
     ],
     "language": "python",
     "metadata": {},
     "outputs": [
      {
       "output_type": "stream",
       "stream": "stdout",
       "text": [
        "Done.\n"
       ]
      },
      {
       "html": [
        "<table>\n",
        "    <tr>\n",
        "        <th>eid</th>\n",
        "        <th>name</th>\n",
        "        <th>department</th>\n",
        "        <th>longdepartment</th>\n",
        "        <th>title</th>\n",
        "        <th>gender</th>\n",
        "        <th>seniority</th>\n",
        "    </tr>\n",
        "    <tr>\n",
        "        <td>67</td>\n",
        "        <td>John J. Lavorato</td>\n",
        "        <td>Other</td>\n",
        "        <td>EWS</td>\n",
        "        <td>ENA President &amp; CEO</td>\n",
        "        <td>Male</td>\n",
        "        <td>Senior</td>\n",
        "    </tr>\n",
        "</table>"
       ],
       "metadata": {},
       "output_type": "pyout",
       "prompt_number": 15,
       "text": [
        "[(67, u'John J. Lavorato', u'Other', u'EWS', u'ENA President & CEO', u'Male', u'Senior')]"
       ]
      }
     ],
     "prompt_number": 15
    },
    {
     "cell_type": "markdown",
     "metadata": {},
     "source": [
      "Who sent the email to the most recipients?"
     ]
    },
    {
     "cell_type": "code",
     "collapsed": false,
     "input": [
      "%%sql sqlite:///enron.db\n",
      "SELECT name, title, MAX(rno)\n",
      "FROM EmployeeBase \n",
      "JOIN MessageBase ON eid = from_eid \n",
      "JOIN RecipientBase USING(mid)"
     ],
     "language": "python",
     "metadata": {},
     "outputs": [
      {
       "output_type": "stream",
       "stream": "stdout",
       "text": [
        "Done.\n"
       ]
      },
      {
       "html": [
        "<table>\n",
        "    <tr>\n",
        "        <th>name</th>\n",
        "        <th>title</th>\n",
        "        <th>MAX(rno)</th>\n",
        "    </tr>\n",
        "    <tr>\n",
        "        <td>John J. Lavorato</td>\n",
        "        <td>ENA President &amp; CEO</td>\n",
        "        <td>57</td>\n",
        "    </tr>\n",
        "</table>"
       ],
       "metadata": {},
       "output_type": "pyout",
       "prompt_number": 16,
       "text": [
        "[(u'John J. Lavorato', u'ENA President & CEO', 57)]"
       ]
      }
     ],
     "prompt_number": 16
    },
    {
     "cell_type": "markdown",
     "metadata": {},
     "source": [
<<<<<<< HEAD
      "Who are the top five senders of mass emails?"
=======
      "In Pairs:\n",
      "---------\n",
      "1. Who are the top five senders of mass email?\n",
      "2. Who sent the last email?\n",
      "3. Who received the last email?\n",
      "4. Who didn't send any email?\n",
      "5. Who didn't receive any email?"
     ]
    },
    {
     "cell_type": "markdown",
     "metadata": {},
     "source": [
      "# TAKE A BREAK. \n",
      "## Class will resume at 8:10 with a brief intro to Python, IPython, and IPython Notebook"
     ]
    },
    {
     "cell_type": "code",
     "collapsed": false,
     "input": [],
     "language": "python",
     "metadata": {},
     "outputs": []
    },
    {
     "cell_type": "code",
     "collapsed": false,
     "input": [],
     "language": "python",
     "metadata": {},
     "outputs": []
    },
    {
     "cell_type": "code",
     "collapsed": false,
     "input": [],
     "language": "python",
     "metadata": {},
     "outputs": []
    },
    {
     "cell_type": "code",
     "collapsed": false,
     "input": [],
     "language": "python",
     "metadata": {},
     "outputs": []
    },
    {
     "cell_type": "code",
     "collapsed": false,
     "input": [],
     "language": "python",
     "metadata": {},
     "outputs": []
    },
    {
     "cell_type": "markdown",
     "metadata": {},
     "source": [
      "---"
     ]
    },
    {
     "cell_type": "heading",
     "level": 1,
     "metadata": {},
     "source": [
      "Pandas Data Frames"
>>>>>>> 2dcb583f4a2e2671df222b62e834a35798a83b0d
     ]
    },
    {
     "cell_type": "code",
     "collapsed": false,
     "input": [
      "%%sql sqlite:///enron.db\n",
      "SELECT name, title, MAX(rno) AS recipient_count\n",
      "FROM EmployeeBase \n",
      "JOIN MessageBase ON eid = from_eid \n",
      "JOIN RecipientBase USING(mid) \n",
      "GROUP BY name, title ORDER BY recipient_count DESC LIMIT 5"
     ],
     "language": "python",
     "metadata": {},
     "outputs": [],
     "prompt_number": 17
    },
    {
     "cell_type": "code",
     "collapsed": false,
     "input": [
      "%%sql sqlite:///enron.db\n",
      "SELECT name, department, title, gender, seniority, subject, filename, unix_time\n",
      "FROM EmployeeBase JOIN MessageBase ON eid = from_eid \n",
      "ORDER BY unix_time DESC LIMIT 1"
     ],
     "language": "python",
     "metadata": {},
     "outputs": [],
     "prompt_number": 18
    },
    {
     "cell_type": "code",
     "collapsed": false,
     "input": [
      "%%sql sqlite:///enron.db\n",
      "SELECT name, department, title, gender, seniority, subject, filename, unix_time\n",
      "FROM (SELECT * FROM MessageBase ORDER BY unix_time DESC LIMIT 1)\n",
      "JOIN RecipientBase USING(mid)\n",
      "JOIN EmployeeBase ON eid = to_eid"
     ],
     "language": "python",
     "metadata": {},
     "outputs": [],
     "prompt_number": 19
    },
    {
     "cell_type": "code",
     "collapsed": false,
     "input": [
      "%%sql sqlite:///enron.db\n",
      "SELECT name, department, title, gender, seniority\n",
      "FROM EmployeeBase LEFT JOIN MessageBase ON eid = from_eid \n",
      "WHERE mid IS NULL"
     ],
     "language": "python",
     "metadata": {},
     "outputs": [
      {
       "html": [
        "<div style=\"max-height:1000px;max-width:1500px;overflow:auto;\">\n",
        "<table border=\"1\" class=\"dataframe\">\n",
        "  <thead>\n",
        "    <tr style=\"text-align: right;\">\n",
        "      <th></th>\n",
        "      <th>unix_time</th>\n",
        "      <th>subject</th>\n",
        "      <th>from_eid</th>\n",
        "    </tr>\n",
        "    <tr>\n",
        "      <th>mid</th>\n",
        "      <th></th>\n",
        "      <th></th>\n",
        "      <th></th>\n",
        "    </tr>\n",
        "  </thead>\n",
        "  <tbody>\n",
        "    <tr>\n",
        "      <th>21635</th>\n",
        "      <td> 1024666654</td>\n",
        "      <td>      Master Termination Log</td>\n",
        "      <td> 92</td>\n",
        "    </tr>\n",
        "    <tr>\n",
        "      <th>21634</th>\n",
        "      <td> 1023970571</td>\n",
        "      <td> Netting Agreement Materials</td>\n",
        "      <td>  4</td>\n",
        "    </tr>\n",
        "    <tr>\n",
        "      <th>21633</th>\n",
        "      <td> 1023873696</td>\n",
        "      <td>                 RE: Job Ops</td>\n",
        "      <td> 57</td>\n",
        "    </tr>\n",
        "    <tr>\n",
        "      <th>21632</th>\n",
        "      <td> 1023873633</td>\n",
        "      <td>                     Job Ops</td>\n",
        "      <td> 39</td>\n",
        "    </tr>\n",
        "    <tr>\n",
        "      <th>21631</th>\n",
        "      <td> 1023708531</td>\n",
        "      <td>                   NNG Deals</td>\n",
        "      <td> 39</td>\n",
        "    </tr>\n",
        "  </tbody>\n",
        "</table>\n",
        "</div>"
       ],
       "metadata": {},
       "output_type": "pyout",
       "prompt_number": 20,
       "text": [
        "        unix_time                      subject  from_eid\n",
        "mid                                                     \n",
        "21635  1024666654       Master Termination Log        92\n",
        "21634  1023970571  Netting Agreement Materials         4\n",
        "21633  1023873696                  RE: Job Ops        57\n",
        "21632  1023873633                      Job Ops        39\n",
        "21631  1023708531                    NNG Deals        39"
       ]
      }
     ],
     "prompt_number": 20
    },
    {
     "cell_type": "code",
     "collapsed": false,
     "input": [
<<<<<<< HEAD
      "%%sql sqlite:///enron.db\n",
      "SELECT name, department, title, gender, seniority\n",
      "FROM EmployeeBase LEFT JOIN RecipientBase ON eid = to_eid \n",
      "WHERE mid IS NULL"
=======
      "MessageBase = pd.read_sql(\"\"\"SELECT mid, unix_time, subject, from_eid \n",
      "                FROM MessageBase\"\"\", conn, \"mid\")\n",
      "MessageBase.sort(ascending=False, columns=['unix_time']).head()"
     ],
     "language": "python",
     "metadata": {},
     "outputs": [
      {
       "html": [
        "<div style=\"max-height:1000px;max-width:1500px;overflow:auto;\">\n",
        "<table border=\"1\" class=\"dataframe\">\n",
        "  <thead>\n",
        "    <tr style=\"text-align: right;\">\n",
        "      <th></th>\n",
        "      <th>unix_time</th>\n",
        "      <th>subject</th>\n",
        "      <th>from_eid</th>\n",
        "    </tr>\n",
        "    <tr>\n",
        "      <th>mid</th>\n",
        "      <th></th>\n",
        "      <th></th>\n",
        "      <th></th>\n",
        "    </tr>\n",
        "  </thead>\n",
        "  <tbody>\n",
        "    <tr>\n",
        "      <th>21635</th>\n",
        "      <td> 1024666654</td>\n",
        "      <td>      Master Termination Log</td>\n",
        "      <td> 92</td>\n",
        "    </tr>\n",
        "    <tr>\n",
        "      <th>21634</th>\n",
        "      <td> 1023970571</td>\n",
        "      <td> Netting Agreement Materials</td>\n",
        "      <td>  4</td>\n",
        "    </tr>\n",
        "    <tr>\n",
        "      <th>21633</th>\n",
        "      <td> 1023873696</td>\n",
        "      <td>                 RE: Job Ops</td>\n",
        "      <td> 57</td>\n",
        "    </tr>\n",
        "    <tr>\n",
        "      <th>21632</th>\n",
        "      <td> 1023873633</td>\n",
        "      <td>                     Job Ops</td>\n",
        "      <td> 39</td>\n",
        "    </tr>\n",
        "    <tr>\n",
        "      <th>21631</th>\n",
        "      <td> 1023708531</td>\n",
        "      <td>                   NNG Deals</td>\n",
        "      <td> 39</td>\n",
        "    </tr>\n",
        "  </tbody>\n",
        "</table>\n",
        "</div>"
       ],
       "metadata": {},
       "output_type": "pyout",
       "prompt_number": 21,
       "text": [
        "        unix_time                      subject  from_eid\n",
        "mid                                                     \n",
        "21635  1024666654       Master Termination Log        92\n",
        "21634  1023970571  Netting Agreement Materials         4\n",
        "21633  1023873696                  RE: Job Ops        57\n",
        "21632  1023873633                      Job Ops        39\n",
        "21631  1023708531                    NNG Deals        39"
       ]
      }
     ],
     "prompt_number": 21
    },
    {
     "cell_type": "markdown",
     "metadata": {},
     "source": [
      "SQL JOIN (with USING):"
     ]
    },
    {
     "cell_type": "code",
     "collapsed": false,
     "input": [
      "pd.read_sql(\"\"\"SELECT mid, unix_time, subject, from_eid, rno, to_eid \n",
      "                FROM MessageBase JOIN RecipientBase USING (mid) LIMIT 5\"\"\", conn, \"mid\")"
>>>>>>> 2dcb583f4a2e2671df222b62e834a35798a83b0d
     ],
     "language": "python",
     "metadata": {},
     "outputs": [
      {
       "html": [
        "<div style=\"max-height:1000px;max-width:1500px;overflow:auto;\">\n",
        "<table border=\"1\" class=\"dataframe\">\n",
        "  <thead>\n",
        "    <tr style=\"text-align: right;\">\n",
        "      <th></th>\n",
        "      <th>unix_time</th>\n",
        "      <th>subject</th>\n",
        "      <th>from_eid</th>\n",
        "      <th>rno</th>\n",
        "      <th>to_eid</th>\n",
        "    </tr>\n",
        "    <tr>\n",
        "      <th>mid</th>\n",
        "      <th></th>\n",
        "      <th></th>\n",
        "      <th></th>\n",
        "      <th></th>\n",
        "      <th></th>\n",
        "    </tr>\n",
        "  </thead>\n",
        "  <tbody>\n",
        "    <tr>\n",
        "      <th>1</th>\n",
        "      <td> 910930020</td>\n",
        "      <td>         Cd$ CME letter</td>\n",
        "      <td> 138</td>\n",
        "      <td> 1</td>\n",
        "      <td>  59</td>\n",
        "    </tr>\n",
        "    <tr>\n",
        "      <th>2</th>\n",
        "      <td> 911459940</td>\n",
        "      <td>        Indemnification</td>\n",
        "      <td> 138</td>\n",
        "      <td> 1</td>\n",
        "      <td>  15</td>\n",
        "    </tr>\n",
        "    <tr>\n",
        "      <th>3</th>\n",
        "      <td> 911463840</td>\n",
        "      <td>    Re: Indemnification</td>\n",
        "      <td> 138</td>\n",
        "      <td> 1</td>\n",
        "      <td>  15</td>\n",
        "    </tr>\n",
        "    <tr>\n",
        "      <th>4</th>\n",
        "      <td> 911874180</td>\n",
        "      <td> Re: Coral Energy, L.P.</td>\n",
        "      <td> 138</td>\n",
        "      <td> 1</td>\n",
        "      <td> 109</td>\n",
        "    </tr>\n",
        "    <tr>\n",
        "      <th>4</th>\n",
        "      <td> 911874180</td>\n",
        "      <td> Re: Coral Energy, L.P.</td>\n",
        "      <td> 138</td>\n",
        "      <td> 2</td>\n",
        "      <td>  49</td>\n",
        "    </tr>\n",
        "  </tbody>\n",
        "</table>\n",
        "</div>"
       ],
       "metadata": {},
       "output_type": "pyout",
       "prompt_number": 22,
       "text": [
        "     unix_time                 subject  from_eid  rno  to_eid\n",
        "mid                                                          \n",
        "1    910930020          Cd$ CME letter       138    1      59\n",
        "2    911459940         Indemnification       138    1      15\n",
        "3    911463840     Re: Indemnification       138    1      15\n",
        "4    911874180  Re: Coral Energy, L.P.       138    1     109\n",
        "4    911874180  Re: Coral Energy, L.P.       138    2      49"
       ]
      }
     ],
     "prompt_number": 22
    },
    {
     "cell_type": "code",
     "collapsed": false,
     "input": [
      "%matplotlib inline"
     ],
     "language": "python",
     "metadata": {},
<<<<<<< HEAD
     "outputs": [],
     "prompt_number": 2
=======
     "outputs": [
      {
       "html": [
        "<div style=\"max-height:1000px;max-width:1500px;overflow:auto;\">\n",
        "<table border=\"1\" class=\"dataframe\">\n",
        "  <thead>\n",
        "    <tr style=\"text-align: right;\">\n",
        "      <th></th>\n",
        "      <th>unix_time</th>\n",
        "      <th>subject</th>\n",
        "      <th>from_eid</th>\n",
        "      <th>rno</th>\n",
        "      <th>to_eid</th>\n",
        "    </tr>\n",
        "    <tr>\n",
        "      <th>mid</th>\n",
        "      <th></th>\n",
        "      <th></th>\n",
        "      <th></th>\n",
        "      <th></th>\n",
        "      <th></th>\n",
        "    </tr>\n",
        "  </thead>\n",
        "  <tbody>\n",
        "    <tr>\n",
        "      <th>1</th>\n",
        "      <td> 910930020</td>\n",
        "      <td>         Cd$ CME letter</td>\n",
        "      <td> 138</td>\n",
        "      <td> 1</td>\n",
        "      <td>  59</td>\n",
        "    </tr>\n",
        "    <tr>\n",
        "      <th>2</th>\n",
        "      <td> 911459940</td>\n",
        "      <td>        Indemnification</td>\n",
        "      <td> 138</td>\n",
        "      <td> 1</td>\n",
        "      <td>  15</td>\n",
        "    </tr>\n",
        "    <tr>\n",
        "      <th>3</th>\n",
        "      <td> 911463840</td>\n",
        "      <td>    Re: Indemnification</td>\n",
        "      <td> 138</td>\n",
        "      <td> 1</td>\n",
        "      <td>  15</td>\n",
        "    </tr>\n",
        "    <tr>\n",
        "      <th>4</th>\n",
        "      <td> 911874180</td>\n",
        "      <td> Re: Coral Energy, L.P.</td>\n",
        "      <td> 138</td>\n",
        "      <td> 1</td>\n",
        "      <td> 109</td>\n",
        "    </tr>\n",
        "    <tr>\n",
        "      <th>4</th>\n",
        "      <td> 911874180</td>\n",
        "      <td> Re: Coral Energy, L.P.</td>\n",
        "      <td> 138</td>\n",
        "      <td> 2</td>\n",
        "      <td>  49</td>\n",
        "    </tr>\n",
        "  </tbody>\n",
        "</table>\n",
        "</div>"
       ],
       "metadata": {},
       "output_type": "pyout",
       "prompt_number": 23,
       "text": [
        "     unix_time                 subject  from_eid  rno  to_eid\n",
        "mid                                                          \n",
        "1    910930020          Cd$ CME letter       138    1      59\n",
        "2    911459940         Indemnification       138    1      15\n",
        "3    911463840     Re: Indemnification       138    1      15\n",
        "4    911874180  Re: Coral Energy, L.P.       138    1     109\n",
        "4    911874180  Re: Coral Energy, L.P.       138    2      49"
       ]
      }
     ],
     "prompt_number": 23
    },
    {
     "cell_type": "markdown",
     "metadata": {},
     "source": [
      "SQL JOIN (with `ON`):"
     ]
>>>>>>> 2dcb583f4a2e2671df222b62e834a35798a83b0d
    },
    {
     "cell_type": "code",
     "collapsed": false,
     "input": [
      "import sqlite3\n",
      "import pandas as pd\n",
      "conn = sqlite3.connect('enron.db')"
     ],
     "language": "python",
     "metadata": {},
<<<<<<< HEAD
     "outputs": [],
     "prompt_number": 3
=======
     "outputs": [
      {
       "html": [
        "<div style=\"max-height:1000px;max-width:1500px;overflow:auto;\">\n",
        "<table border=\"1\" class=\"dataframe\">\n",
        "  <thead>\n",
        "    <tr style=\"text-align: right;\">\n",
        "      <th></th>\n",
        "      <th>unix_time</th>\n",
        "      <th>name</th>\n",
        "      <th>title</th>\n",
        "      <th>seniority</th>\n",
        "      <th>subject</th>\n",
        "    </tr>\n",
        "    <tr>\n",
        "      <th>mid</th>\n",
        "      <th></th>\n",
        "      <th></th>\n",
        "      <th></th>\n",
        "      <th></th>\n",
        "      <th></th>\n",
        "    </tr>\n",
        "  </thead>\n",
        "  <tbody>\n",
        "    <tr>\n",
        "      <th>1</th>\n",
        "      <td> 910930020</td>\n",
        "      <td> Mark E. Taylor</td>\n",
        "      <td> VP &amp; Gen Cnsl</td>\n",
        "      <td> Senior</td>\n",
        "      <td>            Cd$ CME letter</td>\n",
        "    </tr>\n",
        "    <tr>\n",
        "      <th>2</th>\n",
        "      <td> 911459940</td>\n",
        "      <td> Mark E. Taylor</td>\n",
        "      <td> VP &amp; Gen Cnsl</td>\n",
        "      <td> Senior</td>\n",
        "      <td>           Indemnification</td>\n",
        "    </tr>\n",
        "    <tr>\n",
        "      <th>3</th>\n",
        "      <td> 911463840</td>\n",
        "      <td> Mark E. Taylor</td>\n",
        "      <td> VP &amp; Gen Cnsl</td>\n",
        "      <td> Senior</td>\n",
        "      <td>       Re: Indemnification</td>\n",
        "    </tr>\n",
        "    <tr>\n",
        "      <th>4</th>\n",
        "      <td> 911874180</td>\n",
        "      <td> Mark E. Taylor</td>\n",
        "      <td> VP &amp; Gen Cnsl</td>\n",
        "      <td> Senior</td>\n",
        "      <td>    Re: Coral Energy, L.P.</td>\n",
        "    </tr>\n",
        "    <tr>\n",
        "      <th>5</th>\n",
        "      <td> 912396120</td>\n",
        "      <td> Mark E. Taylor</td>\n",
        "      <td> VP &amp; Gen Cnsl</td>\n",
        "      <td> Senior</td>\n",
        "      <td> Bankruptcy Code revisions</td>\n",
        "    </tr>\n",
        "  </tbody>\n",
        "</table>\n",
        "</div>"
       ],
       "metadata": {},
       "output_type": "pyout",
       "prompt_number": 24,
       "text": [
        "     unix_time            name          title seniority  \\\n",
        "mid                                                       \n",
        "1    910930020  Mark E. Taylor  VP & Gen Cnsl    Senior   \n",
        "2    911459940  Mark E. Taylor  VP & Gen Cnsl    Senior   \n",
        "3    911463840  Mark E. Taylor  VP & Gen Cnsl    Senior   \n",
        "4    911874180  Mark E. Taylor  VP & Gen Cnsl    Senior   \n",
        "5    912396120  Mark E. Taylor  VP & Gen Cnsl    Senior   \n",
        "\n",
        "                       subject  \n",
        "mid                             \n",
        "1               Cd$ CME letter  \n",
        "2              Indemnification  \n",
        "3          Re: Indemnification  \n",
        "4       Re: Coral Energy, L.P.  \n",
        "5    Bankruptcy Code revisions  "
       ]
      }
     ],
     "prompt_number": 24
    },
    {
     "cell_type": "markdown",
     "metadata": {},
     "source": [
      "pandas.DataFrame.merge"
     ]
>>>>>>> 2dcb583f4a2e2671df222b62e834a35798a83b0d
    },
    {
     "cell_type": "code",
     "collapsed": false,
     "input": [
      "MessageBase = pd.read_sql(\"\"\"SELECT mid, unix_time, subject, from_eid FROM MessageBase\"\"\", conn, \"mid\")\n",
      "recipient_counts = pd.read_sql(\"\"\"SELECT mid, datetime(unix_time, 'unixepoch') AS time_sent, MAX(rno) AS recipient_count \n",
      "                        FROM MessageBase JOIN RecipientBase USING (mid) GROUP BY mid, time_sent\"\"\", conn, \"mid\")"
     ],
     "language": "python",
     "metadata": {},
<<<<<<< HEAD
     "outputs": [],
     "prompt_number": 8
=======
     "outputs": [
      {
       "html": [
        "<div style=\"max-height:1000px;max-width:1500px;overflow:auto;\">\n",
        "<table border=\"1\" class=\"dataframe\">\n",
        "  <thead>\n",
        "    <tr style=\"text-align: right;\">\n",
        "      <th></th>\n",
        "      <th>name</th>\n",
        "      <th>title</th>\n",
        "      <th>seniority</th>\n",
        "      <th>unix_time</th>\n",
        "      <th>subject</th>\n",
        "      <th>from_eid</th>\n",
        "    </tr>\n",
        "    <tr>\n",
        "      <th>mid</th>\n",
        "      <th></th>\n",
        "      <th></th>\n",
        "      <th></th>\n",
        "      <th></th>\n",
        "      <th></th>\n",
        "      <th></th>\n",
        "    </tr>\n",
        "  </thead>\n",
        "  <tbody>\n",
        "    <tr>\n",
        "      <th>1611</th>\n",
        "      <td> John Arnold</td>\n",
        "      <td> VP Trading</td>\n",
        "      <td> Senior</td>\n",
        "      <td> 954317280</td>\n",
        "      <td>        Re: Insurance Call Spread</td>\n",
        "      <td> 1</td>\n",
        "    </tr>\n",
        "    <tr>\n",
        "      <th>1615</th>\n",
        "      <td> John Arnold</td>\n",
        "      <td> VP Trading</td>\n",
        "      <td> Senior</td>\n",
        "      <td> 954328920</td>\n",
        "      <td> New curve generation methodology</td>\n",
        "      <td> 1</td>\n",
        "    </tr>\n",
        "    <tr>\n",
        "      <th>1722</th>\n",
        "      <td> John Arnold</td>\n",
        "      <td> VP Trading</td>\n",
        "      <td> Senior</td>\n",
        "      <td> 955447080</td>\n",
        "      <td> Option Analysis on NG Price Book</td>\n",
        "      <td> 1</td>\n",
        "    </tr>\n",
        "    <tr>\n",
        "      <th>1723</th>\n",
        "      <td> John Arnold</td>\n",
        "      <td> VP Trading</td>\n",
        "      <td> Senior</td>\n",
        "      <td> 955448160</td>\n",
        "      <td>                                 </td>\n",
        "      <td> 1</td>\n",
        "    </tr>\n",
        "    <tr>\n",
        "      <th>1763</th>\n",
        "      <td> John Arnold</td>\n",
        "      <td> VP Trading</td>\n",
        "      <td> Senior</td>\n",
        "      <td> 955701240</td>\n",
        "      <td>                      Re: options</td>\n",
        "      <td> 1</td>\n",
        "    </tr>\n",
        "  </tbody>\n",
        "</table>\n",
        "</div>"
       ],
       "metadata": {},
       "output_type": "pyout",
       "prompt_number": 25,
       "text": [
        "             name       title seniority  unix_time  \\\n",
        "mid                                                  \n",
        "1611  John Arnold  VP Trading    Senior  954317280   \n",
        "1615  John Arnold  VP Trading    Senior  954328920   \n",
        "1722  John Arnold  VP Trading    Senior  955447080   \n",
        "1723  John Arnold  VP Trading    Senior  955448160   \n",
        "1763  John Arnold  VP Trading    Senior  955701240   \n",
        "\n",
        "                               subject  from_eid  \n",
        "mid                                               \n",
        "1611         Re: Insurance Call Spread         1  \n",
        "1615  New curve generation methodology         1  \n",
        "1722  Option Analysis on NG Price Book         1  \n",
        "1723                                           1  \n",
        "1763                       Re: options         1  "
       ]
      }
     ],
     "prompt_number": 25
    },
    {
     "cell_type": "markdown",
     "metadata": {},
     "source": [
      "Histograms are a good way to get a feel for the data. For example:"
     ]
>>>>>>> 2dcb583f4a2e2671df222b62e834a35798a83b0d
    },
    {
     "cell_type": "code",
     "collapsed": false,
     "input": [
      "w = recipient_counts.time_sent.map(lambda dt: pd.Period(dt, freq='W'))"
     ],
     "language": "python",
     "metadata": {},
<<<<<<< HEAD
     "outputs": [],
     "prompt_number": 5
=======
     "outputs": [
      {
       "metadata": {},
       "output_type": "pyout",
       "prompt_number": 26,
       "text": [
        "<matplotlib.axes._subplots.AxesSubplot at 0x10b276c50>"
       ]
      },
      {
       "metadata": {},
       "output_type": "display_data",
       "png": "iVBORw0KGgoAAAANSUhEUgAAAfIAAAFhCAYAAACLYyg9AAAABHNCSVQICAgIfAhkiAAAAAlwSFlz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\n",
       "text": [
        "<matplotlib.figure.Figure at 0x10b276a90>"
       ]
      }
     ],
     "prompt_number": 26
>>>>>>> 2dcb583f4a2e2671df222b62e834a35798a83b0d
    },
    {
     "cell_type": "code",
     "collapsed": false,
     "input": [
      "recipient_counts.groupby(w).recipient_count.max().plot()"
     ],
     "language": "python",
     "metadata": {},
     "outputs": [
      {
       "metadata": {},
       "output_type": "pyout",
<<<<<<< HEAD
       "prompt_number": 6,
       "text": [
        "<matplotlib.axes._subplots.AxesSubplot at 0x107e9c7d0>"
       ]
      },
      {
       "metadata": {},
       "output_type": "display_data",
       "png": "iVBORw0KGgoAAAANSUhEUgAAAWwAAAEcCAYAAADjvY54AAAABHNCSVQICAgIfAhkiAAAAAlwSFlz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\nAQAAAABJRU5ErkJggg==\n",
       "text": [
        "<matplotlib.figure.Figure at 0x107e9c210>"
       ]
      }
     ],
     "prompt_number": 6
=======
       "prompt_number": 27,
       "text": [
        "985319365.65994918"
       ]
      }
     ],
     "prompt_number": 27
    },
    {
     "cell_type": "markdown",
     "metadata": {},
     "source": [
      "What does this tell us? "
     ]
    },
    {
     "cell_type": "markdown",
     "metadata": {},
     "source": [
      "---"
     ]
    },
    {
     "cell_type": "markdown",
     "metadata": {},
     "source": [
      "`unix_time` (i.e. `unixepoch`) is easy for computers to read, but difficult for humans. It is the number of seconds since midnight, January 1, 1970. To make it more readable, we will map datetime.fromtimestamp onto that value to return a datetime object. We can then downsample the data from seconds to weeks. "
     ]
    },
    {
     "cell_type": "code",
     "collapsed": false,
     "input": [
      "from datetime import datetime\n",
      "dt = MessageBase.unix_time.map(datetime.fromtimestamp)\n",
      "plt.plot(MessageBase.groupby(dt).unix_time.count().resample('1W', how='sum'))"
     ],
     "language": "python",
     "metadata": {},
     "outputs": [
      {
       "metadata": {},
       "output_type": "pyout",
       "prompt_number": 31,
       "text": [
        "[<matplotlib.lines.Line2D at 0x10c822950>]"
       ]
      },
      {
       "metadata": {},
       "output_type": "display_data",
       "png": "iVBORw0KGgoAAAANSUhEUgAAAesAAAFVCAYAAADPM8ekAAAABHNCSVQICAgIfAhkiAAAAAlwSFlz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\n",
       "text": [
        "<matplotlib.figure.Figure at 0x10c618990>"
       ]
      }
     ],
     "prompt_number": 31
    },
    {
     "cell_type": "markdown",
     "metadata": {},
     "source": [
      "What does this tell us?"
     ]
    },
    {
     "cell_type": "markdown",
     "metadata": {},
     "source": [
      "---"
     ]
    },
    {
     "cell_type": "markdown",
     "metadata": {},
     "source": [
      "Perhaps the recipient counts would be interesting as well. This time we will cast `unix_time` to a datetime string in our query. Since this is a new query, we will also make sure it looks okay by calling `.head()` before we do anyting else:"
     ]
>>>>>>> 2dcb583f4a2e2671df222b62e834a35798a83b0d
    },
    {
     "cell_type": "code",
     "collapsed": false,
     "input": [
      "recipient_counts.join(MessageBase).sort(ascending=False, columns=['recipient_count']).head()"
     ],
     "language": "python",
     "metadata": {},
     "outputs": [
      {
       "html": [
        "<div style=\"max-height:1000px;max-width:1500px;overflow:auto;\">\n",
        "<table border=\"1\" class=\"dataframe\">\n",
        "  <thead>\n",
        "    <tr style=\"text-align: right;\">\n",
        "      <th></th>\n",
        "      <th>time_sent</th>\n",
        "      <th>recipient_count</th>\n",
<<<<<<< HEAD
        "      <th>unix_time</th>\n",
        "      <th>subject</th>\n",
        "      <th>from_eid</th>\n",
=======
>>>>>>> 2dcb583f4a2e2671df222b62e834a35798a83b0d
        "    </tr>\n",
        "    <tr>\n",
        "      <th>mid</th>\n",
        "      <th></th>\n",
        "      <th></th>\n",
<<<<<<< HEAD
        "      <th></th>\n",
        "      <th></th>\n",
        "      <th></th>\n",
=======
>>>>>>> 2dcb583f4a2e2671df222b62e834a35798a83b0d
        "    </tr>\n",
        "  </thead>\n",
        "  <tbody>\n",
        "    <tr>\n",
<<<<<<< HEAD
        "      <th>12116</th>\n",
        "      <td> 2001-05-22 05:53:00</td>\n",
        "      <td> 57</td>\n",
        "      <td>  990510780</td>\n",
        "      <td>                                           </td>\n",
        "      <td> 67</td>\n",
        "    </tr>\n",
        "    <tr>\n",
        "      <th>12151</th>\n",
        "      <td> 2001-05-22 15:53:00</td>\n",
        "      <td> 57</td>\n",
        "      <td>  990546780</td>\n",
        "      <td>                                           </td>\n",
        "      <td> 67</td>\n",
        "    </tr>\n",
        "    <tr>\n",
        "      <th>12140</th>\n",
        "      <td> 2001-05-22 10:53:56</td>\n",
        "      <td> 55</td>\n",
        "      <td>  990528836</td>\n",
        "      <td>                                           </td>\n",
        "      <td> 67</td>\n",
        "    </tr>\n",
        "    <tr>\n",
        "      <th>14404</th>\n",
        "      <td> 2001-08-23 11:24:25</td>\n",
        "      <td> 52</td>\n",
        "      <td>  998565865</td>\n",
        "      <td>                  Associate/Analyst Program</td>\n",
        "      <td> 68</td>\n",
        "    </tr>\n",
        "    <tr>\n",
        "      <th>16035</th>\n",
        "      <td> 2001-10-05 14:03:57</td>\n",
        "      <td> 49</td>\n",
        "      <td> 1002290637</td>\n",
        "      <td> Enron Center South (ECS) Move Back-up Plan</td>\n",
        "      <td>  7</td>\n",
=======
        "      <th>1</th>\n",
        "      <td> 1998-11-13 04:07:00</td>\n",
        "      <td> 1</td>\n",
        "    </tr>\n",
        "    <tr>\n",
        "      <th>2</th>\n",
        "      <td> 1998-11-19 07:19:00</td>\n",
        "      <td> 1</td>\n",
        "    </tr>\n",
        "    <tr>\n",
        "      <th>3</th>\n",
        "      <td> 1998-11-19 08:24:00</td>\n",
        "      <td> 1</td>\n",
        "    </tr>\n",
        "    <tr>\n",
        "      <th>4</th>\n",
        "      <td> 1998-11-24 02:23:00</td>\n",
        "      <td> 4</td>\n",
        "    </tr>\n",
        "    <tr>\n",
        "      <th>5</th>\n",
        "      <td> 1998-11-30 03:22:00</td>\n",
        "      <td> 2</td>\n",
>>>>>>> 2dcb583f4a2e2671df222b62e834a35798a83b0d
        "    </tr>\n",
        "  </tbody>\n",
        "</table>\n",
        "</div>"
       ],
       "metadata": {},
       "output_type": "pyout",
<<<<<<< HEAD
       "prompt_number": 9,
       "text": [
        "                 time_sent  recipient_count   unix_time  \\\n",
        "mid                                                       \n",
        "12116  2001-05-22 05:53:00               57   990510780   \n",
        "12151  2001-05-22 15:53:00               57   990546780   \n",
        "12140  2001-05-22 10:53:56               55   990528836   \n",
        "14404  2001-08-23 11:24:25               52   998565865   \n",
        "16035  2001-10-05 14:03:57               49  1002290637   \n",
        "\n",
        "                                          subject  from_eid  \n",
        "mid                                                          \n",
        "12116                                                    67  \n",
        "12151                                                    67  \n",
        "12140                                                    67  \n",
        "14404                   Associate/Analyst Program        68  \n",
        "16035  Enron Center South (ECS) Move Back-up Plan         7  "
       ]
      }
     ],
     "prompt_number": 9
=======
       "prompt_number": 29,
       "text": [
        "               time_sent  recipient_count\n",
        "mid                                      \n",
        "1    1998-11-13 04:07:00                1\n",
        "2    1998-11-19 07:19:00                1\n",
        "3    1998-11-19 08:24:00                1\n",
        "4    1998-11-24 02:23:00                4\n",
        "5    1998-11-30 03:22:00                2"
       ]
      }
     ],
     "prompt_number": 29
    },
    {
     "cell_type": "markdown",
     "metadata": {},
     "source": [
      "When using `pandas.DataFrame.groupby` it is sometimes useful to create a grouping object first. In this case, we will do it by mapping the datetime strings we received from SQLite to a weekly period. (This could also have been done in SQL, but it would have come across as a string. This way it exists as a `pandas.Period` object which has more intelligence.)"
     ]
    },
    {
     "cell_type": "code",
     "collapsed": false,
     "input": [
      "w = recipient_counts.time_sent.map(lambda dt: pd.Period(dt, freq='W'))\n",
      "recipient_counts.groupby(w).recipient_count.mean().plot()"
     ],
     "language": "python",
     "metadata": {},
     "outputs": [
      {
       "metadata": {},
       "output_type": "pyout",
       "prompt_number": 30,
       "text": [
        "<matplotlib.axes._subplots.AxesSubplot at 0x10b759fd0>"
       ]
      },
      {
       "metadata": {},
       "output_type": "display_data",
       "png": "iVBORw0KGgoAAAANSUhEUgAAAdgAAAFvCAYAAADpFtpUAAAABHNCSVQICAgIfAhkiAAAAAlwSFlz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\n",
       "text": [
        "<matplotlib.figure.Figure at 0x10b94b050>"
       ]
      }
     ],
     "prompt_number": 30
    },
    {
     "cell_type": "markdown",
     "metadata": {},
     "source": [
      "In Pairs: (Trade Partners)\n",
      "---------\n",
      "1. Plot the max recipient count by week. How many peaks are there?\n",
      "2. What were the subject lines (if any) of the top 5 messages sorted by recipient count (in descending order)?\n",
      "3. Come up with three more questions about these data (and answer them)"
     ]
>>>>>>> 2dcb583f4a2e2671df222b62e834a35798a83b0d
    },
    {
     "cell_type": "code",
     "collapsed": false,
     "input": [],
     "language": "python",
     "metadata": {},
     "outputs": []
<<<<<<< HEAD
=======
    },
    {
     "cell_type": "code",
     "collapsed": false,
     "input": [],
     "language": "python",
     "metadata": {},
     "outputs": []
    },
    {
     "cell_type": "code",
     "collapsed": false,
     "input": [],
     "language": "python",
     "metadata": {},
     "outputs": []
    },
    {
     "cell_type": "code",
     "collapsed": false,
     "input": [],
     "language": "python",
     "metadata": {},
     "outputs": []
    },
    {
     "cell_type": "markdown",
     "metadata": {},
     "source": [
      "http://tinyurl.com/dat-exit-ticket"
     ]
    },
    {
     "cell_type": "markdown",
     "metadata": {},
     "source": [
      "On your own:\n",
      "------------\n",
      "- Go through [Pandas for SQL Developers](http://localhost:8888/notebooks/DAT_SF_12/Pandas%20for%20SQL%20Developers.ipynb)\n",
      "- Go through tutorials at http://stanford.edu/~mwaskom/software/seaborn/."
     ]
    },
    {
     "cell_type": "markdown",
     "metadata": {},
     "source": [
      "Next Time:\n",
      "============\n",
      "APIs & NoSQL\n",
      "------------\n",
      "1. Go to http://brew.sh/ and follow the instructions to install Homebrew on your Mac.\n",
      "2. Install MongoDB\n",
      "    - `brew update`\n",
      "    - `brew install mongodb`\n",
      "1. If you don't already have a Twitter account, make one.\n",
      "2. Go to [apps.twitter.com](https://apps.twitter.com/) and create a new app.\n"
     ]
>>>>>>> 2dcb583f4a2e2671df222b62e834a35798a83b0d
    }
   ],
   "metadata": {}
  }
 ]
}